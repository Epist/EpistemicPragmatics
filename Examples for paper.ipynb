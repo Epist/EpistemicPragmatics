{
 "cells": [
  {
   "cell_type": "markdown",
   "metadata": {},
   "source": [
    "# This notebook has code written for use in the 2nd year project paper"
   ]
  },
  {
   "cell_type": "code",
   "execution_count": 13,
   "metadata": {
    "collapsed": true
   },
   "outputs": [],
   "source": [
    "#All of the imports and definitions\n",
    "import numpy as np\n",
    "from pragmaticModels import PragmaticModel\n",
    "import utilities as util\n",
    "from utilities import lexToMappingsRSAEquiv\n",
    "import matplotlib.pyplot as plt\n",
    "import matplotlib.gridspec as gridspec"
   ]
  },
  {
   "cell_type": "markdown",
   "metadata": {},
   "source": [
    "## RSA vs. Epistmeic for Frank and Goodman 2012 basic scalar implicature"
   ]
  },
  {
   "cell_type": "code",
   "execution_count": 23,
   "metadata": {
    "collapsed": false
   },
   "outputs": [
    {
     "name": "stdout",
     "output_type": "stream",
     "text": [
      "----------------------------------------------------\n",
      "RSA predictions\n",
      "             Blue Square   Blue Circle  Green Square\n",
      "    'Blue'        0.3846        0.6154           0.0\n",
      "   'Green'           0.0           0.0           1.0\n",
      "  'Circle'           0.0           1.0           0.0\n",
      "  'Square'        0.3846           0.0        0.6154\n",
      "\n",
      "----------------------------------------------------\n",
      "Epistemic Predictions\n",
      "             Blue Square   Blue Circle  Green Square\n",
      "    'Blue'        0.3404        0.5936         0.066\n",
      "   'Green'        0.0542        0.0946        0.8512\n",
      "  'Circle'        0.0542        0.8512        0.0946\n",
      "  'Square'        0.3404         0.066        0.5936\n",
      "\n"
     ]
    },
    {
     "data": {
      "image/png": "[encoded data removed]",
      "text/plain": [
       "<matplotlib.figure.Figure at 0x7fe03944c4d0>"
      ]
     },
     "metadata": {},
     "output_type": "display_data"
    }
   ],
   "source": [
    "import pragmaticModels\n",
    "reload( pragmaticModels)\n",
    "from pragmaticModels import PragmaticModel\n",
    "pri=[.2,.4,.4]#Frank and Goodman 2012 rough empirical priors\n",
    "lex=[[1,1,0],[0,0,1],[0,1,0],[1,0,1]]#Frank and Goodman 2012 full lexicon\n",
    "means=[\"Blue Square\", \"Blue Circle\", \"Green Square\"]\n",
    "utts= [\"\\'Blue\\'\",\"\\'Green\\'\",\"\\'Circle\\'\",\"\\'Square\\'\"]\n",
    "mapps = lexToMappingsRSAEquiv(lex, pri, .1) #RSA style relaxation for this lexicon\n",
    "#mapps=np.array([[0.8, 0.1, 0.1],[0.1,0.1,0.8]])\n",
    "rsaTest = PragmaticModel(modelType=\"RSA\", lexicon=lex, meaningPriors=pri, alpha=1, meanings=means, utterances=utts)\n",
    "epistTest = PragmaticModel(modelType=\"BeliefDecay\", mappings=mapps, meaningPriors=pri, beliefStrength=1, meanings=means, utterances=utts)\n",
    "rsaTest.display_listener_matrix(rsaTest.iterate(3), title=\"RSA predictions\")\n",
    "epistTest.display_listener_matrix(epistTest.iterate(2), title=\"Epistemic Predictions\")\n",
    "\n",
    "#Plotting Code\n",
    "#fig = plt.figure()\n",
    "#fig = plt.gcf()\n",
    "size = fig.get_size_inches()\n",
    "plt.figure(figsize=(size[0]*2,size[0]*0.8))\n",
    "gs = gridspec.GridSpec(1,2)\n",
    "plt.suptitle(\"Utterance: \\'Blue\\'\")\n",
    "\n",
    "toPlot=rsaTest.iterate(3)[0,:]\n",
    "epsilon = 1e-7\n",
    "toPlot = [x+epsilon for x in toPlot]\n",
    "labels=rsaTest.meanings\n",
    "locs=range(len(toPlot))\n",
    "ax = plt.subplot(gs[0])\n",
    "ax.bar(locs,toPlot, align='center')\n",
    "ax.set_xlabel(\"Meanings\")\n",
    "ax.set_ylabel(\"Model predictions\")\n",
    "ax.set_title(\"RSA Predictions\") \n",
    "plt.xticks(locs, labels)\n",
    "axes = plt.gca()\n",
    "axes.set_ylim([0,1])\n",
    "\n",
    "#pos1 = ax.get_position() # get the original position \n",
    "#pos2 = [pos1.x0 + 1.3, pos1.y0 + 0.0,  pos1.width / 1.0, pos1.height / 1.0] \n",
    "#ax.set_position(pos2)\n",
    "\n",
    "ax2 = plt.subplot(gs[1])\n",
    "toPlot=epistTest.iterate(2)[0,:]\n",
    "epsilon = 1e-7\n",
    "toPlot = [x+epsilon for x in toPlot]\n",
    "labels=epistTest.meanings\n",
    "locs=range(len(toPlot))\n",
    "ax2.bar(locs,toPlot, align='center')\n",
    "ax2.set_xlabel(\"Meanings\")\n",
    "ax2.set_ylabel(\"Model predictions\")\n",
    "ax2.set_title(\"Epistemic Predictions\") \n",
    "plt.xticks(locs, labels)\n",
    "axes = plt.gca()\n",
    "axes.set_ylim([0,1])\n",
    "#ax2.set_position(pos2)\n",
    "#ax.set_position(pos1)\n",
    "#plt.figure(2)\n",
    "plt.show()"
   ]
  },
  {
   "cell_type": "markdown",
   "metadata": {},
   "source": [
    "## Original Epistemic vs. Epistemic with extended language for Frank and Goodman 2012 basic scalar implicature\n",
    "### Part 1: unlikely referents given langauge\n",
    "\n",
    "This example illustrates what it looks like to add additional referents that are not likely given the utterance, but are not a priori unlikely as well as with additional utterances that have a low probability of referring to the relevant objects.\n",
    "\n",
    "As is apparant below, the predicitons do not vary much. This illustrates the insensitivity to model extension with meanings that have a low probability given the speaker-produced utterance.\n",
    "\n",
    "The RSA model is not capable of this, as it does not have a means by which to represent different conditional probabilities over utterances given meanings (different strengths of lingusitic mappings)."
   ]
  },
  {
   "cell_type": "code",
   "execution_count": 26,
   "metadata": {
    "collapsed": false
   },
   "outputs": [
    {
     "name": "stdout",
     "output_type": "stream",
     "text": [
      "----------------------------------------------------\n",
      "Original Epistemic Predictions\n",
      "             Blue Square   Blue Circle  Green Square\n",
      "    'Blue'        0.3404        0.5936         0.066\n",
      "   'Green'        0.0542        0.0946        0.8512\n",
      "  'Circle'        0.0542        0.8512        0.0946\n",
      "  'Square'        0.3404         0.066        0.5936\n",
      "\n",
      "-------------------------------------------------------------------------------------------------\n",
      "Expanded Epistemic Predictions\n",
      "                  Blue Square      Blue Circle     Green Square  Orange Triangle      Red Hexagon\n",
      "      'Blue'           0.3326             0.58           0.0644           0.0115           0.0115\n",
      "     'Green'           0.0529           0.0923           0.8309           0.0119           0.0119\n",
      "    'Circle'           0.0529           0.8309           0.0923           0.0119           0.0119\n",
      "    'Square'           0.3326           0.0644             0.58           0.0115           0.0115\n",
      "  'Triangle'           0.0064           0.0128           0.0128           0.9585           0.0096\n",
      "   'Hexagon'           0.0064           0.0128           0.0128           0.0096           0.9585\n",
      "\n"
     ]
    },
    {
     "data": {
      "image/png": "[encoded data removed]",
      "text/plain": [
       "<matplotlib.figure.Figure at 0x7fe039daed50>"
      ]
     },
     "metadata": {},
     "output_type": "display_data"
    }
   ],
   "source": [
    "import pragmaticModels\n",
    "reload( pragmaticModels)\n",
    "from pragmaticModels import PragmaticModel\n",
    "origPri=[.2,.4,.4]#Frank and Goodman 2012 rough empirical priors\n",
    "lex=[[1,1,0],[0,0,1],[0,1,0],[1,0,1]]#Frank and Goodman 2012 full lexicon\n",
    "origMeans=[\"Blue Square\", \"Blue Circle\", \"Green Square\"]\n",
    "origUtts= [\"\\'Blue\\'\",\"\\'Green\\'\",\"\\'Circle\\'\",\"\\'Square\\'\"]\n",
    "origMaps = lexToMappingsRSAEquiv(lex, origPri, .1) #RSA style relaxation for this lexicon\n",
    "\n",
    "newMapps = np.append(origMaps, np.array([[0.01,0.01,0.01,0.01]]), axis=0)\n",
    "newMapps = np.append(newMapps, np.array([[0.01,0.01,0.01,0.01]]), axis=0)\n",
    "newMapps = np.append(newMapps, np.array([[0.01],[0.01],[0.01],[1.0],[0.01]]), axis=1)\n",
    "newMapps = np.append(newMapps, np.array([[0.01],[0.01],[0.01],[0.01],[1.0]]), axis=1)\n",
    "\n",
    "newPriUnNorm=np.array(origPri + [0.3, 0.3])\n",
    "newPri=newPriUnNorm/sum(newPriUnNorm)\n",
    "newMeans=[\"Blue Square\", \"Blue Circle\", \"Green Square\", \"Orange Triangle\", \"Red Hexagon\"]\n",
    "newUtts= [\"\\'Blue\\'\",\"\\'Green\\'\",\"\\'Circle\\'\",\"\\'Square\\'\",\"\\'Triangle\\'\", \"\\'Hexagon\\'\"]\n",
    "\n",
    "#mapps=np.array([[0.8, 0.1, 0.1],[0.1,0.1,0.8]])\n",
    "epistTestOrig = PragmaticModel(modelType=\"BeliefDecay\", mappings=origMaps, meaningPriors=origPri, beliefStrength=1, meanings=origMeans, utterances=origUtts)\n",
    "epistTestNew = PragmaticModel(modelType=\"BeliefDecay\", mappings=newMapps, meaningPriors=newPri, beliefStrength=1, meanings=newMeans, utterances=newUtts)\n",
    "\n",
    "originalPreds=epistTestOrig.iterate(2)\n",
    "newPreds=epistTestNew.iterate(2)\n",
    "epistTestOrig.display_listener_matrix(originalPreds, title=\"Original Epistemic Predictions\")\n",
    "epistTestNew.display_listener_matrix(newPreds, title=\"Expanded Epistemic Predictions\")\n",
    "\n",
    "#Plotting Code\n",
    "#fig = plt.figure()\n",
    "#fig = plt.gcf()\n",
    "size = fig.get_size_inches()\n",
    "plt.figure(figsize=(size[0]*3,size[0]*0.8))\n",
    "gs = gridspec.GridSpec(1,2)\n",
    "plt.suptitle(\"Utterance: \\'Blue\\'\")\n",
    "\n",
    "toPlot=originalPreds[0,:]\n",
    "epsilon = 1e-7\n",
    "toPlot = [x+epsilon for x in toPlot]\n",
    "labels=epistTestOrig.meanings\n",
    "locs=range(len(toPlot))\n",
    "ax = plt.subplot(gs[0])\n",
    "ax.bar(locs,toPlot, align='center')\n",
    "ax.set_xlabel(\"Meanings\")\n",
    "ax.set_ylabel(\"Model predictions\")\n",
    "ax.set_title(\"Original Epistemic Predictions\") \n",
    "plt.xticks(locs, labels)\n",
    "axes = plt.gca()\n",
    "axes.set_ylim([0,1])\n",
    "\n",
    "#pos1 = ax.get_position() # get the original position \n",
    "#pos2 = [pos1.x0 + 1.3, pos1.y0 + 0.0,  pos1.width / 1.0, pos1.height / 1.0] \n",
    "#ax.set_position(pos2)\n",
    "\n",
    "ax2 = plt.subplot(gs[1])\n",
    "toPlot=newPreds[0,:]\n",
    "epsilon = 1e-7\n",
    "toPlot = [x+epsilon for x in toPlot]\n",
    "labels=epistTestNew.meanings\n",
    "locs=range(len(toPlot))\n",
    "ax2.bar(locs,toPlot, align='center')\n",
    "ax2.set_xlabel(\"Meanings\")\n",
    "ax2.set_ylabel(\"Model predictions\")\n",
    "ax2.set_title(\"Expanded Epistemic Predictions\") \n",
    "plt.xticks(locs, labels)\n",
    "axes = plt.gca()\n",
    "axes.set_ylim([0,1])\n",
    "#ax2.set_position(pos2)\n",
    "#ax.set_position(pos1)\n",
    "#plt.figure(2)\n",
    "plt.show()"
   ]
  },
  {
   "cell_type": "markdown",
   "metadata": {},
   "source": [
    "### Part 2: Unlikely meanings a priori\n",
    "\n",
    "The following is designed to illustrate the scenario where the meanings are unlikely a priori (as in the case where they are not visible to the speaker or to the listener and are therefore not visible a priori.\n",
    "\n",
    "Here the predicitons for the additional meanings are low even though they are not unlikely given the utterance. It illustrates how the epistemic model allows us to build relevance theoretic and salience-based predictions into the model framework."
   ]
  },
  {
   "cell_type": "code",
   "execution_count": 28,
   "metadata": {
    "collapsed": false
   },
   "outputs": [
    {
     "name": "stdout",
     "output_type": "stream",
     "text": [
      "----------------------------------------------------\n",
      "Original Epistemic Predictions\n",
      "             Blue Square   Blue Circle  Green Square\n",
      "    'Blue'        0.3404        0.5936         0.066\n",
      "   'Green'        0.0542        0.0946        0.8512\n",
      "  'Circle'        0.0542        0.8512        0.0946\n",
      "  'Square'        0.3404         0.066        0.5936\n",
      "\n",
      "---------------------------------------------------------------------------------------\n",
      "Expanded Epistemic Predictions\n",
      "                Blue Square    Blue Circle   Green Square  Blue Triangle     Red Square\n",
      "      'Blue'         0.3284         0.5966         0.0663         0.0078         0.0009\n",
      "     'Green'         0.0521         0.0945         0.8509         0.0012         0.0012\n",
      "       'Red'         0.2053          0.373          0.373         0.0049         0.0438\n",
      "    'Circle'         0.0521         0.8509         0.0945         0.0012         0.0012\n",
      "    'Square'         0.3284         0.0663         0.5966         0.0009         0.0078\n",
      "  'Triangle'         0.2053          0.373          0.373         0.0438         0.0049\n",
      "\n"
     ]
    },
    {
     "data": {
      "image/png": "[encoded data removed]",
      "text/plain": [
       "<matplotlib.figure.Figure at 0x7fe06c0c23d0>"
      ]
     },
     "metadata": {},
     "output_type": "display_data"
    }
   ],
   "source": [
    "import pragmaticModels\n",
    "reload( pragmaticModels)\n",
    "from pragmaticModels import PragmaticModel\n",
    "origPri=[.2,.4,.4]#Frank and Goodman 2012 rough empirical priors\n",
    "origLex=[[1,1,0],[0,0,1],[0,1,0],[1,0,1]]#Frank and Goodman 2012 full lexicon\n",
    "origMeans=[\"Blue Square\", \"Blue Circle\", \"Green Square\"]\n",
    "origUtts= [\"\\'Blue\\'\",\"\\'Green\\'\",\"\\'Circle\\'\",\"\\'Square\\'\"]\n",
    "origMaps = lexToMappingsRSAEquiv(origLex, origPri, .1) #RSA style relaxation for this lexicon\n",
    "\n",
    "newLex=[[1,1,0,1,0],[0,0,1,0,0],[0,0,0,0,1],[0,1,0,0,0],[1,0,1,0,1],[0,0,0,1,0]]#Frank and Goodman 2012 full lexicon\n",
    "newPriUnNorm=np.array(origPri + [0.01, 0.01])\n",
    "newPri=newPriUnNorm/sum(newPriUnNorm)\n",
    "newMaps = lexToMappingsRSAEquiv(newLex, newPri, .1) #RSA style relaxation for this lexicon\n",
    "newMeans=[\"Blue Square\", \"Blue Circle\", \"Green Square\", \"Blue Triangle\", \"Red Square\"]\n",
    "newUtts= [\"\\'Blue\\'\",\"\\'Green\\'\",\"\\'Red\\'\",\"\\'Circle\\'\",\"\\'Square\\'\",\"\\'Triangle\\'\"]\n",
    "\n",
    "#mapps=np.array([[0.8, 0.1, 0.1],[0.1,0.1,0.8]])\n",
    "epistTestOrig = PragmaticModel(modelType=\"BeliefDecay\", mappings=origMaps, meaningPriors=origPri, beliefStrength=1, meanings=origMeans, utterances=origUtts)\n",
    "epistTestNew = PragmaticModel(modelType=\"BeliefDecay\", mappings=newMaps, meaningPriors=newPri, beliefStrength=1, meanings=newMeans, utterances=newUtts)\n",
    "\n",
    "originalPreds=epistTestOrig.iterate(2)\n",
    "newPreds=epistTestNew.iterate(2)\n",
    "epistTestOrig.display_listener_matrix(originalPreds, title=\"Original Epistemic Predictions\")\n",
    "epistTestNew.display_listener_matrix(newPreds, title=\"Expanded Epistemic Predictions\")\n",
    "\n",
    "#Plotting Code\n",
    "#fig = plt.figure()\n",
    "#fig = plt.gcf()\n",
    "size = fig.get_size_inches()\n",
    "plt.figure(figsize=(size[0]*3,size[0]*0.8))\n",
    "gs = gridspec.GridSpec(1,2)\n",
    "plt.suptitle(\"Utterance: \\'Blue\\'\")\n",
    "\n",
    "toPlot=originalPreds[0,:]\n",
    "epsilon = 1e-7\n",
    "toPlot = [x+epsilon for x in toPlot]\n",
    "labels=epistTestOrig.meanings\n",
    "locs=range(len(toPlot))\n",
    "ax = plt.subplot(gs[0])\n",
    "ax.bar(locs,toPlot, align='center')\n",
    "ax.set_xlabel(\"Meanings\")\n",
    "ax.set_ylabel(\"Model predictions\")\n",
    "ax.set_title(\"Original Epistemic Predictions\") \n",
    "plt.xticks(locs, labels)\n",
    "axes = plt.gca()\n",
    "axes.set_ylim([0,1])\n",
    "\n",
    "#pos1 = ax.get_position() # get the original position \n",
    "#pos2 = [pos1.x0 + 1.3, pos1.y0 + 0.0,  pos1.width / 1.0, pos1.height / 1.0] \n",
    "#ax.set_position(pos2)\n",
    "\n",
    "ax2 = plt.subplot(gs[1])\n",
    "toPlot=newPreds[0,:]\n",
    "epsilon = 1e-7\n",
    "toPlot = [x+epsilon for x in toPlot]\n",
    "labels=epistTestNew.meanings\n",
    "locs=range(len(toPlot))\n",
    "ax2.bar(locs,toPlot, align='center')\n",
    "ax2.set_xlabel(\"Meanings\")\n",
    "ax2.set_ylabel(\"Model predictions\")\n",
    "ax2.set_title(\"Expanded Epistemic Predictions\") \n",
    "plt.xticks(locs, labels)\n",
    "axes = plt.gca()\n",
    "axes.set_ylim([0,1])\n",
    "#ax2.set_position(pos2)\n",
    "#ax.set_position(pos1)\n",
    "#plt.figure(2)\n",
    "plt.show()"
   ]
  },
  {
   "cell_type": "markdown",
   "metadata": {},
   "source": [
    "**Of course, this is not too different from the predictions of an equivalent RSA model.**\n",
    "\n",
    "**This can be seen below:**"
   ]
  },
  {
   "cell_type": "code",
   "execution_count": 30,
   "metadata": {
    "collapsed": false
   },
   "outputs": [
    {
     "name": "stdout",
     "output_type": "stream",
     "text": [
      "---------------------------------------------------------------------------------------\n",
      "Expanded RSA Predictions\n",
      "                Blue Square    Blue Circle   Green Square  Blue Triangle     Red Square\n",
      "      'Blue'         0.3284         0.5966         0.0663         0.0078         0.0009\n",
      "     'Green'         0.0521         0.0945         0.8509         0.0012         0.0012\n",
      "       'Red'         0.2053          0.373          0.373         0.0049         0.0438\n",
      "    'Circle'         0.0521         0.8509         0.0945         0.0012         0.0012\n",
      "    'Square'         0.3284         0.0663         0.5966         0.0009         0.0078\n",
      "  'Triangle'         0.2053          0.373          0.373         0.0438         0.0049\n",
      "\n"
     ]
    },
    {
     "data": {
      "image/png": "[encoded data removed]",
      "text/plain": [
       "<matplotlib.figure.Figure at 0x7fe039550650>"
      ]
     },
     "metadata": {},
     "output_type": "display_data"
    }
   ],
   "source": [
    "rsaTestNew = PragmaticModel(modelType=\"RSA\", lexicon=newLex, meaningPriors=newPri, meanings=newMeans, utterances=newUtts)\n",
    "newRSAPreds=epistTestNew.iterate(2)\n",
    "rsaTestNew.display_listener_matrix(newRSAPreds, title=\"Expanded RSA Predictions\")\n",
    "\n",
    "\n",
    "#Plotting Code\n",
    "#fig = plt.figure()\n",
    "#fig = plt.gcf()\n",
    "size = fig.get_size_inches()\n",
    "plt.figure(figsize=(size[0]*1.5,size[0]*0.8))\n",
    "gs = gridspec.GridSpec(1,2)\n",
    "plt.suptitle(\"Utterance: \\'Blue\\'\")\n",
    "\n",
    "toPlot=newRSAPreds[0,:]\n",
    "epsilon = 1e-7\n",
    "toPlot = [x+epsilon for x in toPlot]\n",
    "labels=rsaTestNew.meanings\n",
    "locs=range(len(toPlot))\n",
    "plt.bar(locs,toPlot, align='center')\n",
    "plt.xlabel(\"Meanings\")\n",
    "plt.ylabel(\"Model predictions\")\n",
    "plt.title(\"Utterance: \\'Blue\\'\") \n",
    "plt.suptitle(\"Expanded RSA Predictions\")\n",
    "plt.xticks(locs, labels)\n",
    "axes = plt.gca()\n",
    "axes.set_ylim([0,1])\n",
    "#plt.figure(2)\n",
    "plt.show()"
   ]
  },
  {
   "cell_type": "markdown",
   "metadata": {},
   "source": [
    "**However, the epistemic model allows much more flexibility than the RSA model even here.**\n",
    "\n",
    "This is because of the interaction between the priors and the likelihoods. Although the epistemic and RSa model treat priors equivalently, the fact that the priors interact with the likelihoods allows for a low prior probability meaning to still have a non-trivial prediciton if the probability of that meaning given the utterance is sufficiently high"
   ]
  },
  {
   "cell_type": "code",
   "execution_count": null,
   "metadata": {
    "collapsed": true
   },
   "outputs": [],
   "source": []
  }
 ],
 "metadata": {
  "kernelspec": {
   "display_name": "Python 2",
   "language": "python",
   "name": "python2"
  },
  "language_info": {
   "codemirror_mode": {
    "name": "ipython",
    "version": 2
   },
   "file_extension": ".py",
   "mimetype": "text/x-python",
   "name": "python",
   "nbconvert_exporter": "python",
   "pygments_lexer": "ipython2",
   "version": "2.7.6"
  }
 },
 "nbformat": 4,
 "nbformat_minor": 0
}
