{
 "cells": [
  {
   "cell_type": "code",
   "execution_count": 2,
   "metadata": {
    "collapsed": true
   },
   "outputs": [],
   "source": [
    "import numpy as np\n",
    "import matplotlib.pyplot as plt"
   ]
  },
  {
   "cell_type": "code",
   "execution_count": 370,
   "metadata": {
    "collapsed": false
   },
   "outputs": [
    {
     "data": {
      "text/plain": [
       "1.0"
      ]
     },
     "execution_count": 370,
     "metadata": {},
     "output_type": "execute_result"
    }
   ],
   "source": [
    "dist = np.array([.2,.45,.05,.3])\n",
    "dist = np.array([.25,.25,.5])\n",
    "sum(dist)"
   ]
  },
  {
   "cell_type": "code",
   "execution_count": 371,
   "metadata": {
    "collapsed": true
   },
   "outputs": [],
   "source": [
    "def scale(dist, alpha):\n",
    "    unNorm=np.exp(alpha*np.log(dist))\n",
    "    #return unNorm/sum(unNorm)\n",
    "    return unNorm"
   ]
  },
  {
   "cell_type": "code",
   "execution_count": 372,
   "metadata": {
    "collapsed": false
   },
   "outputs": [],
   "source": [
    "test=scale(dist, 2)"
   ]
  },
  {
   "cell_type": "code",
   "execution_count": 373,
   "metadata": {
    "collapsed": false
   },
   "outputs": [
    {
     "data": {
      "text/plain": [
       "0.375"
      ]
     },
     "execution_count": 373,
     "metadata": {},
     "output_type": "execute_result"
    }
   ],
   "source": [
    "sum(test)"
   ]
  },
  {
   "cell_type": "code",
   "execution_count": 374,
   "metadata": {
    "collapsed": false
   },
   "outputs": [],
   "source": [
    "plt.bar(range(len(test)),test)\n",
    "#%matplotlib inline \n",
    "plt.show()\n"
   ]
  },
  {
   "cell_type": "code",
   "execution_count": 692,
   "metadata": {
    "collapsed": false
   },
   "outputs": [
    {
     "data": {
      "image/png": "[encoded data removed]",
      "text/plain": [
       "<matplotlib.figure.Figure at 0x7f2b506f7690>"
      ]
     },
     "metadata": {},
     "output_type": "display_data"
    }
   ],
   "source": [
    "test=scale(dist, 0.5)\n",
    "plt.bar(range(len(test)),test)\n",
    "#%matplotlib inline \n",
    "plt.show()"
   ]
  },
  {
   "cell_type": "code",
   "execution_count": 376,
   "metadata": {
    "collapsed": true
   },
   "outputs": [],
   "source": [
    "def beliefShape(dist):\n",
    "    norm = sum(np.log(dist))\n",
    "    newDist=np.empty_like(dist)\n",
    "    for i,x in np.ndenumerate(dist):\n",
    "        newDist[i]=np.log(x)/norm\n",
    "    return newDist"
   ]
  },
  {
   "cell_type": "code",
   "execution_count": 377,
   "metadata": {
    "collapsed": false
   },
   "outputs": [
    {
     "data": {
      "text/plain": [
       "array([ 0.4,  0.4,  0.2])"
      ]
     },
     "execution_count": 377,
     "metadata": {},
     "output_type": "execute_result"
    }
   ],
   "source": [
    "beliefShape(dist)"
   ]
  },
  {
   "cell_type": "code",
   "execution_count": 378,
   "metadata": {
    "collapsed": false
   },
   "outputs": [
    {
     "data": {
      "text/plain": [
       "array([ 0.4,  0.4,  0.2])"
      ]
     },
     "execution_count": 378,
     "metadata": {},
     "output_type": "execute_result"
    }
   ],
   "source": [
    "beliefShape(test)"
   ]
  },
  {
   "cell_type": "code",
   "execution_count": 379,
   "metadata": {
    "collapsed": false
   },
   "outputs": [
    {
     "data": {
      "text/plain": [
       "array([ 0.4,  0.4,  0.2])"
      ]
     },
     "execution_count": 379,
     "metadata": {},
     "output_type": "execute_result"
    }
   ],
   "source": [
    "beliefShape(scale(dist, 10))"
   ]
  },
  {
   "cell_type": "code",
   "execution_count": 380,
   "metadata": {
    "collapsed": false
   },
   "outputs": [
    {
     "data": {
      "text/plain": [
       "array([ 0.5       ,  0.5       ,  0.70710678])"
      ]
     },
     "execution_count": 380,
     "metadata": {},
     "output_type": "execute_result"
    }
   ],
   "source": [
    "scale(dist, 0.5)"
   ]
  },
  {
   "cell_type": "code",
   "execution_count": 381,
   "metadata": {
    "collapsed": false
   },
   "outputs": [
    {
     "data": {
      "text/plain": [
       "array([ 0.5       ,  0.5       ,  0.70710678])"
      ]
     },
     "execution_count": 381,
     "metadata": {},
     "output_type": "execute_result"
    }
   ],
   "source": [
    "test"
   ]
  },
  {
   "cell_type": "code",
   "execution_count": 382,
   "metadata": {
    "collapsed": false
   },
   "outputs": [
    {
     "data": {
      "text/plain": [
       "array([ 0.25,  0.25,  0.5 ])"
      ]
     },
     "execution_count": 382,
     "metadata": {},
     "output_type": "execute_result"
    }
   ],
   "source": [
    "dist"
   ]
  },
  {
   "cell_type": "code",
   "execution_count": 383,
   "metadata": {
    "collapsed": false
   },
   "outputs": [
    {
     "data": {
      "text/plain": [
       "array([ 0.,  0.,  0.])"
      ]
     },
     "execution_count": 383,
     "metadata": {},
     "output_type": "execute_result"
    }
   ],
   "source": [
    "np.empty_like(dist)"
   ]
  },
  {
   "cell_type": "code",
   "execution_count": 384,
   "metadata": {
    "collapsed": false
   },
   "outputs": [
    {
     "data": {
      "text/plain": [
       "-3.4657359027997265"
      ]
     },
     "execution_count": 384,
     "metadata": {},
     "output_type": "execute_result"
    }
   ],
   "source": [
    "sum(np.log(dist))"
   ]
  },
  {
   "cell_type": "code",
   "execution_count": 385,
   "metadata": {
    "collapsed": true
   },
   "outputs": [],
   "source": [
    "def scaleTest(dist, alpha):\n",
    "    unNorm=np.power(dist, alpha)\n",
    "    #return unNorm/sum(unNorm)\n",
    "    return unNorm/sum(unNorm)"
   ]
  },
  {
   "cell_type": "code",
   "execution_count": 386,
   "metadata": {
    "collapsed": false
   },
   "outputs": [
    {
     "data": {
      "text/plain": [
       "array([ 0.25,  0.25,  0.5 ])"
      ]
     },
     "execution_count": 386,
     "metadata": {},
     "output_type": "execute_result"
    }
   ],
   "source": [
    "dist"
   ]
  },
  {
   "cell_type": "code",
   "execution_count": 387,
   "metadata": {
    "collapsed": false
   },
   "outputs": [
    {
     "name": "stdout",
     "output_type": "stream",
     "text": [
      "1.0\n"
     ]
    },
    {
     "data": {
      "text/plain": [
       "array([ 0.16666667,  0.16666667,  0.66666667])"
      ]
     },
     "execution_count": 387,
     "metadata": {},
     "output_type": "execute_result"
    }
   ],
   "source": [
    "scaleDegree=2\n",
    "print sum(scaleTest(dist, scaleDegree))\n",
    "scaleTest(dist, scaleDegree)"
   ]
  },
  {
   "cell_type": "code",
   "execution_count": 388,
   "metadata": {
    "collapsed": false
   },
   "outputs": [
    {
     "data": {
      "text/plain": [
       "array([ 0.25,  0.25,  0.5 ])"
      ]
     },
     "execution_count": 388,
     "metadata": {},
     "output_type": "execute_result"
    }
   ],
   "source": [
    "scaleTest(scaleTest(dist,2),.5)"
   ]
  },
  {
   "cell_type": "code",
   "execution_count": 389,
   "metadata": {
    "collapsed": false
   },
   "outputs": [
    {
     "data": {
      "text/plain": [
       "1.0"
      ]
     },
     "execution_count": 389,
     "metadata": {},
     "output_type": "execute_result"
    }
   ],
   "source": [
    "sum(scaleTest(dist, 2))"
   ]
  },
  {
   "cell_type": "code",
   "execution_count": 390,
   "metadata": {
    "collapsed": false
   },
   "outputs": [
    {
     "name": "stdout",
     "output_type": "stream",
     "text": [
      "[ 0.4491769   0.4491769   0.10164621]\n",
      "[ 0.4  0.4  0.2]\n"
     ]
    }
   ],
   "source": [
    "print beliefShape(scaleTest(dist, 2))\n",
    "print beliefShape(scaleTest(dist, 1))"
   ]
  },
  {
   "cell_type": "code",
   "execution_count": 391,
   "metadata": {
    "collapsed": true
   },
   "outputs": [],
   "source": [
    "def entropy(dist):\n",
    "    ent=0\n",
    "    for i,x in np.ndenumerate(dist):\n",
    "        ent = ent+x*np.log(x)\n",
    "    return -ent"
   ]
  },
  {
   "cell_type": "code",
   "execution_count": 392,
   "metadata": {
    "collapsed": false
   },
   "outputs": [
    {
     "data": {
      "text/plain": [
       "1.0397207708399179"
      ]
     },
     "execution_count": 392,
     "metadata": {},
     "output_type": "execute_result"
    }
   ],
   "source": [
    "entropy(dist)"
   ]
  },
  {
   "cell_type": "code",
   "execution_count": 393,
   "metadata": {
    "collapsed": true
   },
   "outputs": [],
   "source": [
    "def testBeliefShape(dist):\n",
    "    newDist=np.empty_like(dist)\n",
    "    #scaledDist=np.power(dist, entropy(dist))\n",
    "    #scaledDist=dist/np.prod(np.log(dist))\n",
    "    scaledDist=np.exp(entropy(dist))*dist\n",
    "    norm = sum(np.log(scaledDist))\n",
    "\n",
    "    for i,x in np.ndenumerate(scaledDist):\n",
    "        newDist[i]=np.log(x)/norm\n",
    "    return newDist"
   ]
  },
  {
   "cell_type": "code",
   "execution_count": 394,
   "metadata": {
    "collapsed": false
   },
   "outputs": [
    {
     "name": "stdout",
     "output_type": "stream",
     "text": [
      "0.375\n",
      "1.0\n",
      "\n",
      "\n",
      "[ 0.16666667  0.16666667  0.66666667]\n",
      "[ 0.25  0.25  0.5 ]\n",
      "\n",
      "\n",
      "0.867563228481\n",
      "1.03972077084\n",
      "0.834419444925\n",
      "\n",
      "\n",
      "[ 0.66666667  0.66666667 -0.33333333]\n",
      "[ 1.  1. -1.]\n"
     ]
    }
   ],
   "source": [
    "print sum(scale(dist,2))\n",
    "print sum(scale(dist,1.0))\n",
    "print \"\\n\"\n",
    "print scaleTest(dist, 2)\n",
    "print scaleTest(dist, 1.0)\n",
    "print \"\\n\"\n",
    "print entropy(scaleTest(dist, 2))\n",
    "print entropy(scaleTest(dist, 1.0))\n",
    "print entropy(scaleTest(dist, 2))/entropy(scaleTest(dist, 1.0))\n",
    "#print np.prod(np.log(scaleTest(dist, 2)))\n",
    "#print np.prod(np.log(scaleTest(dist, 1)))\n",
    "#print np.log(np.prod(scaleTest(dist, 2)))/np.log(np.prod(scaleTest(dist, 1)))\n",
    "print \"\\n\"\n",
    "print testBeliefShape(scaleTest(dist, 2))\n",
    "print testBeliefShape(scaleTest(dist, 1.0))"
   ]
  },
  {
   "cell_type": "code",
   "execution_count": 395,
   "metadata": {
    "collapsed": false
   },
   "outputs": [
    {
     "data": {
      "text/plain": [
       "-3.4657359027997265"
      ]
     },
     "execution_count": 395,
     "metadata": {},
     "output_type": "execute_result"
    }
   ],
   "source": [
    "sum(np.log(dist))"
   ]
  },
  {
   "cell_type": "code",
   "execution_count": 396,
   "metadata": {
    "collapsed": false
   },
   "outputs": [
    {
     "data": {
      "text/plain": [
       "1.3320986079557178"
      ]
     },
     "execution_count": 396,
     "metadata": {},
     "output_type": "execute_result"
    }
   ],
   "source": [
    "np.prod(-np.log(dist))"
   ]
  },
  {
   "cell_type": "code",
   "execution_count": 397,
   "metadata": {
    "collapsed": true
   },
   "outputs": [],
   "source": [
    "def thing(dist):\n",
    "    val=1\n",
    "    for i,x in np.ndenumerate(dist):\n",
    "        val = val*np.log(x)\n",
    "    return -ent"
   ]
  },
  {
   "cell_type": "code",
   "execution_count": 398,
   "metadata": {
    "collapsed": true
   },
   "outputs": [],
   "source": [
    "    newDist=np.empty_like(dist)\n",
    "    #scaledDist=np.power(dist, entropy(dist))\n",
    "    #scaledDist=dist/np.prod(np.log(dist))\n",
    "    scaledDist=dist/np.exp(entropy(dist))"
   ]
  },
  {
   "cell_type": "code",
   "execution_count": 399,
   "metadata": {
    "collapsed": false
   },
   "outputs": [
    {
     "data": {
      "text/plain": [
       "array([ 0.08838835,  0.08838835,  0.1767767 ])"
      ]
     },
     "execution_count": 399,
     "metadata": {},
     "output_type": "execute_result"
    }
   ],
   "source": [
    "scaledDist"
   ]
  },
  {
   "cell_type": "code",
   "execution_count": 400,
   "metadata": {
    "collapsed": true
   },
   "outputs": [],
   "source": [
    "    norm = sum(np.log(scaledDist))\n",
    "\n",
    "    for i,x in np.ndenumerate(scaledDist):\n",
    "        newDist[i]=np.log(x)/norm"
   ]
  },
  {
   "cell_type": "code",
   "execution_count": 401,
   "metadata": {
    "collapsed": false
   },
   "outputs": [
    {
     "data": {
      "text/plain": [
       "-6.5848982153194804"
      ]
     },
     "execution_count": 401,
     "metadata": {},
     "output_type": "execute_result"
    }
   ],
   "source": [
    "norm"
   ]
  },
  {
   "cell_type": "code",
   "execution_count": 402,
   "metadata": {
    "collapsed": true
   },
   "outputs": [],
   "source": [
    "    for i,x in np.ndenumerate(scaledDist):\n",
    "        newDist[i]=np.log(x)/norm"
   ]
  },
  {
   "cell_type": "code",
   "execution_count": 403,
   "metadata": {
    "collapsed": false
   },
   "outputs": [
    {
     "data": {
      "text/plain": [
       "array([ 0.36842105,  0.36842105,  0.26315789])"
      ]
     },
     "execution_count": 403,
     "metadata": {},
     "output_type": "execute_result"
    }
   ],
   "source": [
    "newDist"
   ]
  },
  {
   "cell_type": "code",
   "execution_count": 404,
   "metadata": {
    "collapsed": false
   },
   "outputs": [
    {
     "name": "stdout",
     "output_type": "stream",
     "text": [
      "[ 0.16666667  0.16666667  0.66666667]\n",
      "[ 0.25  0.25  0.5 ]\n"
     ]
    }
   ],
   "source": [
    "te1=scaleTest(dist, 2)\n",
    "te2=scaleTest(dist, 1.0)\n",
    "print te1\n",
    "print te2"
   ]
  },
  {
   "cell_type": "code",
   "execution_count": 405,
   "metadata": {
    "collapsed": false
   },
   "outputs": [
    {
     "data": {
      "text/plain": [
       "0.25"
      ]
     },
     "execution_count": 405,
     "metadata": {},
     "output_type": "execute_result"
    }
   ],
   "source": [
    "te1[1]/te1[2]"
   ]
  },
  {
   "cell_type": "code",
   "execution_count": 406,
   "metadata": {
    "collapsed": false
   },
   "outputs": [
    {
     "data": {
      "text/plain": [
       "0.5"
      ]
     },
     "execution_count": 406,
     "metadata": {},
     "output_type": "execute_result"
    }
   ],
   "source": [
    "te2[1]/te2[2]"
   ]
  },
  {
   "cell_type": "code",
   "execution_count": 407,
   "metadata": {
    "collapsed": false
   },
   "outputs": [
    {
     "data": {
      "text/plain": [
       "array([-0.37049142, -0.37049142, -0.4757204 ])"
      ]
     },
     "execution_count": 407,
     "metadata": {},
     "output_type": "execute_result"
    }
   ],
   "source": [
    "np.exp(te2)/sum(np.log(te2))"
   ]
  },
  {
   "cell_type": "code",
   "execution_count": 408,
   "metadata": {
    "collapsed": false
   },
   "outputs": [
    {
     "data": {
      "text/plain": [
       "0.86756322848146117"
      ]
     },
     "execution_count": 408,
     "metadata": {},
     "output_type": "execute_result"
    }
   ],
   "source": [
    "entropy(te1)"
   ]
  },
  {
   "cell_type": "code",
   "execution_count": 409,
   "metadata": {
    "collapsed": false
   },
   "outputs": [
    {
     "data": {
      "text/plain": [
       "array([ 0.0625,  0.0625,  0.25  ])"
      ]
     },
     "execution_count": 409,
     "metadata": {},
     "output_type": "execute_result"
    }
   ],
   "source": [
    "np.power(dist,2)"
   ]
  },
  {
   "cell_type": "code",
   "execution_count": 410,
   "metadata": {
    "collapsed": false
   },
   "outputs": [
    {
     "name": "stdout",
     "output_type": "stream",
     "text": [
      "[ 2.22629439  2.22629439  9.83804517]\n",
      "[ 2.5  2.5  5. ]\n"
     ]
    }
   ],
   "source": [
    "print np.log(np.prod(te1))/np.log(te1)\n",
    "print np.log(np.prod(te2))/np.log(te2)"
   ]
  },
  {
   "cell_type": "code",
   "execution_count": 411,
   "metadata": {
    "collapsed": false
   },
   "outputs": [
    {
     "data": {
      "text/plain": [
       "array([-0.01395367, -0.01395367, -0.24094193])"
      ]
     },
     "execution_count": 411,
     "metadata": {},
     "output_type": "execute_result"
    }
   ],
   "source": [
    "np.log(np.cos(te1))"
   ]
  },
  {
   "cell_type": "code",
   "execution_count": 412,
   "metadata": {
    "collapsed": false
   },
   "outputs": [
    {
     "data": {
      "text/plain": [
       "array([-0.03158105, -0.03158105, -0.13058424])"
      ]
     },
     "execution_count": 412,
     "metadata": {},
     "output_type": "execute_result"
    }
   ],
   "source": [
    "np.log(np.cos(te2))"
   ]
  },
  {
   "cell_type": "code",
   "execution_count": 413,
   "metadata": {
    "collapsed": false
   },
   "outputs": [
    {
     "data": {
      "text/plain": [
       "1.0"
      ]
     },
     "execution_count": 413,
     "metadata": {},
     "output_type": "execute_result"
    }
   ],
   "source": [
    "np.sum(te2)"
   ]
  },
  {
   "cell_type": "code",
   "execution_count": 414,
   "metadata": {
    "collapsed": false
   },
   "outputs": [
    {
     "name": "stdout",
     "output_type": "stream",
     "text": [
      "[ 1.  1.  1.]\n",
      "[ 1.  1.  1.]\n"
     ]
    }
   ],
   "source": [
    "print np.log(te1)/np.log(te1)\n",
    "print np.log(te2)/np.log(te2)\n"
   ]
  },
  {
   "cell_type": "code",
   "execution_count": 445,
   "metadata": {
    "collapsed": true
   },
   "outputs": [],
   "source": [
    "def testBeliefShape2(dist, scale):\n",
    "    newDist=np.empty_like(dist)\n",
    "    #scaledDist=np.power(dist, entropy(dist))\n",
    "    #scaledDist=dist/np.prod(np.log(dist))\n",
    "    scaledDist=np.log(dist)/np.log(1.0/scale)\n",
    "    norm = sum(np.log(scaledDist))\n",
    "\n",
    "    for i,x in np.ndenumerate(scaledDist):\n",
    "        newDist[i]=np.log(x)/norm\n",
    "    return newDist"
   ]
  },
  {
   "cell_type": "code",
   "execution_count": 416,
   "metadata": {
    "collapsed": false
   },
   "outputs": [
    {
     "name": "stdout",
     "output_type": "stream",
     "text": [
      "[ 0.16666667  0.16666667  0.66666667]\n",
      "[ 0.25  0.25  0.5 ]\n"
     ]
    },
    {
     "data": {
      "text/plain": [
       "array([ 0.25,  0.25,  0.5 ])"
      ]
     },
     "execution_count": 416,
     "metadata": {},
     "output_type": "execute_result"
    }
   ],
   "source": [
    "te1=scaleTest(dist, 2)\n",
    "te2=scaleTest(dist, 1.0)\n",
    "print te1\n",
    "print te2\n",
    "scaleTest(te1,.5)"
   ]
  },
  {
   "cell_type": "code",
   "execution_count": 417,
   "metadata": {
    "collapsed": false
   },
   "outputs": [
    {
     "data": {
      "text/plain": [
       "array([ 0.949711  ,  0.949711  , -0.53620754])"
      ]
     },
     "execution_count": 417,
     "metadata": {},
     "output_type": "execute_result"
    }
   ],
   "source": [
    "np.log(np.log(te1)/np.log(.5))"
   ]
  },
  {
   "cell_type": "code",
   "execution_count": 418,
   "metadata": {
    "collapsed": false
   },
   "outputs": [
    {
     "ename": "TypeError",
     "evalue": "unsupported operand type(s) for /: 'int' and 'function'",
     "output_type": "error",
     "traceback": [
      "\u001b[1;31m---------------------------------------------------------------------------\u001b[0m",
      "\u001b[1;31mTypeError\u001b[0m                                 Traceback (most recent call last)",
      "\u001b[1;32m<ipython-input-418-4cab6e5bbf93>\u001b[0m in \u001b[0;36m<module>\u001b[1;34m()\u001b[0m\n\u001b[0;32m      2\u001b[0m \u001b[1;31m#scaledDist=np.power(dist, entropy(dist))\u001b[0m\u001b[1;33m\u001b[0m\u001b[1;33m\u001b[0m\u001b[0m\n\u001b[0;32m      3\u001b[0m \u001b[1;31m#scaledDist=dist/np.prod(np.log(dist))\u001b[0m\u001b[1;33m\u001b[0m\u001b[1;33m\u001b[0m\u001b[0m\n\u001b[1;32m----> 4\u001b[1;33m \u001b[0mscaledDist\u001b[0m\u001b[1;33m=\u001b[0m\u001b[0mnp\u001b[0m\u001b[1;33m.\u001b[0m\u001b[0mlog\u001b[0m\u001b[1;33m(\u001b[0m\u001b[0mdist\u001b[0m\u001b[1;33m)\u001b[0m\u001b[1;33m/\u001b[0m\u001b[0mnp\u001b[0m\u001b[1;33m.\u001b[0m\u001b[0mlog\u001b[0m\u001b[1;33m(\u001b[0m\u001b[1;36m1\u001b[0m\u001b[1;33m/\u001b[0m\u001b[0mscale\u001b[0m\u001b[1;33m)\u001b[0m\u001b[1;33m\u001b[0m\u001b[0m\n\u001b[0m\u001b[0;32m      5\u001b[0m \u001b[0mnorm\u001b[0m \u001b[1;33m=\u001b[0m \u001b[0msum\u001b[0m\u001b[1;33m(\u001b[0m\u001b[0mnp\u001b[0m\u001b[1;33m.\u001b[0m\u001b[0mlog\u001b[0m\u001b[1;33m(\u001b[0m\u001b[0mscaledDist\u001b[0m\u001b[1;33m)\u001b[0m\u001b[1;33m)\u001b[0m\u001b[1;33m\u001b[0m\u001b[0m\n\u001b[0;32m      6\u001b[0m \u001b[1;33m\u001b[0m\u001b[0m\n",
      "\u001b[1;31mTypeError\u001b[0m: unsupported operand type(s) for /: 'int' and 'function'"
     ]
    }
   ],
   "source": [
    "    newDist=np.empty_like(dist)\n",
    "    #scaledDist=np.power(dist, entropy(dist))\n",
    "    #scaledDist=dist/np.prod(np.log(dist))\n",
    "    scaledDist=np.log(dist)/np.log(1/scale)\n",
    "    norm = sum(np.log(scaledDist))\n",
    "\n",
    "    for i,x in np.ndenumerate(scaledDist):\n",
    "        newDist[i]=np.log(x)/norm\n",
    "    return newDist"
   ]
  },
  {
   "cell_type": "code",
   "execution_count": 420,
   "metadata": {
    "collapsed": false
   },
   "outputs": [
    {
     "name": "stdout",
     "output_type": "stream",
     "text": [
      "[ 1.]\n",
      "[ 2.  2.]\n",
      "[ 3.  3.  3.]\n",
      "[ 4.  4.  4.  4.]\n",
      "[ 5.  5.  5.  5.  5.]\n",
      "[ 6.  6.  6.  6.  6.  6.]\n",
      "[ 7.  7.  7.  7.  7.  7.  7.]\n",
      "[ 8.  8.  8.  8.  8.  8.  8.  8.]\n",
      "[ 9.  9.  9.  9.  9.  9.  9.  9.  9.]\n",
      "[ 10.  10.  10.  10.  10.  10.  10.  10.  10.  10.]\n",
      "[ 11.  11.  11.  11.  11.  11.  11.  11.  11.  11.  11.]\n",
      "[ 12.  12.  12.  12.  12.  12.  12.  12.  12.  12.  12.  12.]\n",
      "[ 13.  13.  13.  13.  13.  13.  13.  13.  13.  13.  13.  13.  13.]\n",
      "[ 14.  14.  14.  14.  14.  14.  14.  14.  14.  14.  14.  14.  14.  14.]\n",
      "[ 15.  15.  15.  15.  15.  15.  15.  15.  15.  15.  15.  15.  15.  15.  15.]\n",
      "[ 16.  16.  16.  16.  16.  16.  16.  16.  16.  16.  16.  16.  16.  16.  16.\n",
      "  16.]\n",
      "[ 17.  17.  17.  17.  17.  17.  17.  17.  17.  17.  17.  17.  17.  17.  17.\n",
      "  17.  17.]\n",
      "[ 18.  18.  18.  18.  18.  18.  18.  18.  18.  18.  18.  18.  18.  18.  18.\n",
      "  18.  18.  18.]\n",
      "[ 19.  19.  19.  19.  19.  19.  19.  19.  19.  19.  19.  19.  19.  19.  19.\n",
      "  19.  19.  19.  19.]\n",
      "[ 20.  20.  20.  20.  20.  20.  20.  20.  20.  20.  20.  20.  20.  20.  20.\n",
      "  20.  20.  20.  20.  20.]\n"
     ]
    }
   ],
   "source": [
    "def entropy2(dist):\n",
    "    ent=0\n",
    "    for i,x in np.ndenumerate(dist):\n",
    "        ent = ent+x*np.log2(x)\n",
    "    return -ent\n",
    "\n",
    "n = 20\n",
    "maxEntropies=np.empty([n])\n",
    "for index in range(n):\n",
    "    i=index+1\n",
    "    maxEntropies[index]=entropy2(np.full([i],1.0/i))\n",
    "    print np.full([i],i/1)"
   ]
  },
  {
   "cell_type": "code",
   "execution_count": 421,
   "metadata": {
    "collapsed": false
   },
   "outputs": [
    {
     "data": {
      "text/plain": [
       "array([-0.        ,  1.        ,  1.5849625 ,  2.        ,  2.32192809,\n",
       "        2.5849625 ,  2.80735492,  3.        ,  3.169925  ,  3.32192809,\n",
       "        3.45943162,  3.5849625 ,  3.70043972,  3.80735492,  3.9068906 ,\n",
       "        4.        ,  4.08746284,  4.169925  ,  4.24792751,  4.32192809])"
      ]
     },
     "execution_count": 421,
     "metadata": {},
     "output_type": "execute_result"
    }
   ],
   "source": [
    "maxEntropies"
   ]
  },
  {
   "cell_type": "code",
   "execution_count": 422,
   "metadata": {
    "collapsed": false
   },
   "outputs": [
    {
     "data": {
      "text/plain": [
       "array([ 0.        ,  1.        ,  1.5849625 ,  2.        ,  2.32192809,\n",
       "        2.5849625 ,  2.80735492,  3.        ,  3.169925  ,  3.32192809,\n",
       "        3.45943162,  3.5849625 ,  3.70043972,  3.80735492,  3.9068906 ,\n",
       "        4.        ,  4.08746284,  4.169925  ,  4.24792751,  4.32192809])"
      ]
     },
     "execution_count": 422,
     "metadata": {},
     "output_type": "execute_result"
    }
   ],
   "source": [
    "np.log2(range(1,21))"
   ]
  },
  {
   "cell_type": "code",
   "execution_count": 427,
   "metadata": {
    "collapsed": false
   },
   "outputs": [
    {
     "data": {
      "image/png": "[encoded data removed]",
      "text/plain": [
       "<matplotlib.figure.Figure at 0x7f2b54f09190>"
      ]
     },
     "metadata": {},
     "output_type": "display_data"
    }
   ],
   "source": [
    "plt.plot(range(len(maxEntropies)),maxEntropies)\n",
    "#plt.plot(range(20),np.log(range(20)))\n",
    "#%matplotlib inline \n",
    "plt.show()"
   ]
  },
  {
   "cell_type": "code",
   "execution_count": 428,
   "metadata": {
    "collapsed": false
   },
   "outputs": [
    {
     "name": "stdout",
     "output_type": "stream",
     "text": [
      "[ 0.16666667  0.16666667  0.66666667]\n",
      "[ 0.25  0.25  0.5 ]\n"
     ]
    }
   ],
   "source": [
    "te1=scaleTest(dist, 2)\n",
    "te2=scaleTest(dist, 1.0)\n",
    "print te1\n",
    "print te2"
   ]
  },
  {
   "cell_type": "code",
   "execution_count": 429,
   "metadata": {
    "collapsed": true
   },
   "outputs": [],
   "source": [
    "def testBeliefShape2(dist):\n",
    "    newDist=np.empty_like(dist)\n",
    "    #scaledDist=np.power(dist, entropy(dist))\n",
    "    #scaledDist=dist/np.prod(np.log(dist))\n",
    "    scaledDist=np.exp(dist/entropy(dist))\n",
    "    norm = sum(np.log(scaledDist))\n",
    "\n",
    "    for i,x in np.ndenumerate(scaledDist):\n",
    "        newDist[i]=np.log(x)/norm\n",
    "    return newDist"
   ]
  },
  {
   "cell_type": "code",
   "execution_count": 430,
   "metadata": {
    "collapsed": false
   },
   "outputs": [
    {
     "name": "stdout",
     "output_type": "stream",
     "text": [
      "[ 0.16666667  0.16666667  0.66666667]\n",
      "[ 0.25  0.25  0.5 ]\n",
      "[ 0.16666667  0.16666667  0.66666667]\n",
      "[ 0.25  0.25  0.5 ]\n"
     ]
    }
   ],
   "source": [
    "te1=scaleTest(dist, 2)\n",
    "te2=scaleTest(dist, 1.0)\n",
    "print te1\n",
    "print te2\n",
    "print testBeliefShape2(te1)\n",
    "print testBeliefShape2(te2)"
   ]
  },
  {
   "cell_type": "code",
   "execution_count": 431,
   "metadata": {
    "collapsed": false
   },
   "outputs": [
    {
     "name": "stdout",
     "output_type": "stream",
     "text": [
      "0.867563228481\n",
      "1.03972077084\n"
     ]
    }
   ],
   "source": [
    "print entropy(te1)\n",
    "print entropy(te2)"
   ]
  },
  {
   "cell_type": "code",
   "execution_count": 432,
   "metadata": {
    "collapsed": false
   },
   "outputs": [
    {
     "name": "stdout",
     "output_type": "stream",
     "text": [
      "[ 1.21180254  1.21180254  2.15639065]\n",
      "[ 1.27182029  1.27182029  1.61752685]\n"
     ]
    }
   ],
   "source": [
    "print np.exp(te1/entropy(te1))\n",
    "print np.exp(te2/entropy(te2))"
   ]
  },
  {
   "cell_type": "code",
   "execution_count": 433,
   "metadata": {
    "collapsed": false
   },
   "outputs": [
    {
     "data": {
      "text/plain": [
       "array([ 0.19210896,  0.19210896,  0.76843583])"
      ]
     },
     "execution_count": 433,
     "metadata": {},
     "output_type": "execute_result"
    }
   ],
   "source": [
    "np.log(np.exp(te1/entropy(te1)))"
   ]
  },
  {
   "cell_type": "code",
   "execution_count": 434,
   "metadata": {
    "collapsed": false
   },
   "outputs": [
    {
     "data": {
      "text/plain": [
       "array([ 0.24044917,  0.24044917,  0.48089835])"
      ]
     },
     "execution_count": 434,
     "metadata": {},
     "output_type": "execute_result"
    }
   ],
   "source": [
    "np.log(np.exp(te2/entropy(te2)))"
   ]
  },
  {
   "cell_type": "code",
   "execution_count": 435,
   "metadata": {
    "collapsed": false
   },
   "outputs": [
    {
     "data": {
      "text/plain": [
       "array([ 0.16666667,  0.16666667,  0.66666667])"
      ]
     },
     "execution_count": 435,
     "metadata": {},
     "output_type": "execute_result"
    }
   ],
   "source": [
    "x=np.log(np.exp(te1/entropy(te1)))\n",
    "x/sum(x)"
   ]
  },
  {
   "cell_type": "code",
   "execution_count": 436,
   "metadata": {
    "collapsed": false
   },
   "outputs": [
    {
     "data": {
      "text/plain": [
       "array([ 0.25,  0.25,  0.5 ])"
      ]
     },
     "execution_count": 436,
     "metadata": {},
     "output_type": "execute_result"
    }
   ],
   "source": [
    "x=np.log(np.exp(te2/entropy(te2)))\n",
    "x/sum(x)"
   ]
  },
  {
   "cell_type": "code",
   "execution_count": 444,
   "metadata": {
    "collapsed": false
   },
   "outputs": [
    {
     "data": {
      "image/png": "[encoded data removed]",
      "text/plain": [
       "<matplotlib.figure.Figure at 0x7f2b506fa550>"
      ]
     },
     "metadata": {},
     "output_type": "display_data"
    }
   ],
   "source": [
    "numPoints=100\n",
    "x=np.empty([numPoints])\n",
    "y=np.empty([numPoints])\n",
    "for i in range(numPoints):\n",
    "    alpha=float(i+1)/10\n",
    "    x[i]=alpha\n",
    "    y[i]=entropy(scaleTest(dist, alpha))\n",
    "    #y[i]=np.sum(scaleTest(dist, alpha)*np.log(scaleTest(dist, alpha)))\n",
    "plt.plot(x,y)\n",
    "plt.xlabel('Alpha')\n",
    "plt.ylabel('Entropy')\n",
    "#%matplotlib inline \n",
    "plt.show()"
   ]
  },
  {
   "cell_type": "code",
   "execution_count": 443,
   "metadata": {
    "collapsed": false
   },
   "outputs": [
    {
     "data": {
      "text/plain": [
       "array([ 0.32554484,  0.32554484,  0.34891032])"
      ]
     },
     "execution_count": 443,
     "metadata": {},
     "output_type": "execute_result"
    }
   ],
   "source": [
    "scaleTest(dist, 0.1)"
   ]
  },
  {
   "cell_type": "code",
   "execution_count": 66,
   "metadata": {
    "collapsed": true
   },
   "outputs": [],
   "source": [
    "def scaleTest2(dist, alpha):\n",
    "    unNorm=np.power(dist, alpha)*dist\n",
    "    #return unNorm/sum(unNorm)\n",
    "    return unNorm/sum(unNorm)"
   ]
  },
  {
   "cell_type": "code",
   "execution_count": 67,
   "metadata": {
    "collapsed": false
   },
   "outputs": [
    {
     "data": {
      "text/plain": [
       "array([ 0.015625,  0.015625,  0.125   ])"
      ]
     },
     "execution_count": 67,
     "metadata": {},
     "output_type": "execute_result"
    }
   ],
   "source": [
    "np.power(dist, 2)*dist"
   ]
  },
  {
   "cell_type": "code",
   "execution_count": 68,
   "metadata": {
    "collapsed": false
   },
   "outputs": [],
   "source": [
    "def scaleDist(dist, alpha):\n",
    "    unNorm=np.power(dist, alpha)*dist\n",
    "    return unNorm/sum(unNorm)\n",
    "def findUpperBound(dist, desiredVal, bound):\n",
    "    value = entropy(scaleDist(dist, bound))\n",
    "    if value>desiredVal:\n",
    "        newBound=np.power(bound, 2)\n",
    "        return findUpperBound(dist, desiredVal, newBound)\n",
    "    else:\n",
    "        return bound\n",
    "def binSearch(upper, lower, precision, dist, desiredEval):\n",
    "    newTry=((float(upper)-lower)/2)+lower\n",
    "    value=entropy(scaleDist(dist, newTry))\n",
    "    #print value\n",
    "    #print newTry\n",
    "    if (value+precision>desiredEval) and (value-precision<desiredEval):\n",
    "        #If within tolerance\n",
    "        return newTry\n",
    "    elif value>desiredEval:\n",
    "        newLower=newTry\n",
    "        return binSearch(upper, newLower, precision, dist, desiredEval)\n",
    "    elif value<desiredEval:\n",
    "        newUpper=newTry\n",
    "        return binSearch(newUpper, lower, precision, dist, desiredEval)\n",
    "    \n",
    "def findBeliefStrength(dist, precision):\n",
    "    #A numerical algorithm for finding the belief strength of a distribution to a given precision\n",
    "    entropyNorm=np.log(np.size(dist))/2\n",
    "    #precision = 0.0001\n",
    "    uBound=findUpperBound(dist, entropyNorm, 2)\n",
    "    beliefStrength=binSearch(uBound, 0, precision, dist, entropyNorm)\n",
    "    return beliefStrength"
   ]
  },
  {
   "cell_type": "code",
   "execution_count": 69,
   "metadata": {
    "collapsed": false
   },
   "outputs": [
    {
     "data": {
      "text/plain": [
       "2.3984375"
      ]
     },
     "execution_count": 69,
     "metadata": {},
     "output_type": "execute_result"
    }
   ],
   "source": [
    "findBeliefStrength(dist, 0.0001)\n",
    "#findUpperBound(dist, 1, 2)\n",
    "#entropy(scaleDist(dist, 4))\n",
    "#beliefStrength=binSearch(2, 0, 0.01, dist, 1)"
   ]
  },
  {
   "cell_type": "code",
   "execution_count": 70,
   "metadata": {
    "collapsed": false
   },
   "outputs": [
    {
     "name": "stdout",
     "output_type": "stream",
     "text": [
      "0.69921875\n"
     ]
    }
   ],
   "source": [
    "print findBeliefStrength(te1, 0.0001)\n"
   ]
  },
  {
   "cell_type": "code",
   "execution_count": 71,
   "metadata": {
    "collapsed": false
   },
   "outputs": [
    {
     "data": {
      "text/plain": [
       "3"
      ]
     },
     "execution_count": 71,
     "metadata": {},
     "output_type": "execute_result"
    }
   ],
   "source": [
    "np.size(dist)"
   ]
  },
  {
   "cell_type": "code",
   "execution_count": 72,
   "metadata": {
    "collapsed": true
   },
   "outputs": [],
   "source": [
    "def findBeliefShape(dist, precision):\n",
    "    stren = findBeliefStrength(dist, precision)\n",
    "    return scaleDist(dist, stren)"
   ]
  },
  {
   "cell_type": "code",
   "execution_count": 76,
   "metadata": {
    "collapsed": false
   },
   "outputs": [
    {
     "name": "stdout",
     "output_type": "stream",
     "text": [
      "[ 0.16666667  0.16666667  0.66666667]\n",
      "0.69921875\n",
      "[ 0.07971534  0.07971534  0.84056932]\n",
      "\n",
      "\n",
      "[ 0.25  0.25  0.5 ]\n",
      "2.3984375\n",
      "[ 0.07971534  0.07971534  0.84056932]\n"
     ]
    }
   ],
   "source": [
    "print te1\n",
    "print findBeliefStrength(te1, 0.0001)\n",
    "print findBeliefShape(te1, 0.0001)\n",
    "print '\\n'\n",
    "print te2\n",
    "print findBeliefStrength(te2, 0.0001)\n",
    "print findBeliefShape(te2, 0.0001)"
   ]
  },
  {
   "cell_type": "code",
   "execution_count": 88,
   "metadata": {
    "collapsed": false
   },
   "outputs": [
    {
     "data": {
      "text/plain": [
       "array([ 0.16666667,  0.16666667,  0.33333333])"
      ]
     },
     "execution_count": 88,
     "metadata": {},
     "output_type": "execute_result"
    }
   ],
   "source": [
    "test=np.outer(te1,te2)\n",
    "test[2,:]"
   ]
  },
  {
   "cell_type": "code",
   "execution_count": 97,
   "metadata": {
    "collapsed": false
   },
   "outputs": [
    {
     "data": {
      "text/plain": [
       "2"
      ]
     },
     "execution_count": 97,
     "metadata": {},
     "output_type": "execute_result"
    }
   ],
   "source": [
    "np.shape(d)[0]"
   ]
  },
  {
   "cell_type": "code",
   "execution_count": 95,
   "metadata": {
    "collapsed": false
   },
   "outputs": [],
   "source": [
    "d=np.array([[.3,.3,.4],[.2,.1,.7]])"
   ]
  },
  {
   "cell_type": "code",
   "execution_count": 96,
   "metadata": {
    "collapsed": false
   },
   "outputs": [
    {
     "data": {
      "text/plain": [
       "array([[ 0.3,  0.3,  0.4],\n",
       "       [ 0.2,  0.1,  0.7]])"
      ]
     },
     "execution_count": 96,
     "metadata": {},
     "output_type": "execute_result"
    }
   ],
   "source": [
    "d"
   ]
  },
  {
   "cell_type": "code",
   "execution_count": 98,
   "metadata": {
    "collapsed": false
   },
   "outputs": [
    {
     "data": {
      "text/plain": [
       "array([ 0.3,  0.3,  0.4])"
      ]
     },
     "execution_count": 98,
     "metadata": {},
     "output_type": "execute_result"
    }
   ],
   "source": [
    "d[0,:]"
   ]
  },
  {
   "cell_type": "code",
   "execution_count": 100,
   "metadata": {
    "collapsed": false
   },
   "outputs": [
    {
     "data": {
      "text/plain": [
       "1.0397207708399179"
      ]
     },
     "execution_count": 100,
     "metadata": {},
     "output_type": "execute_result"
    }
   ],
   "source": [
    "entropy(dist)"
   ]
  },
  {
   "cell_type": "code",
   "execution_count": 103,
   "metadata": {
    "collapsed": true
   },
   "outputs": [],
   "source": [
    "def entropy2(dist):\n",
    "    return -sum(dist*np.log(dist))"
   ]
  },
  {
   "cell_type": "code",
   "execution_count": 104,
   "metadata": {
    "collapsed": false
   },
   "outputs": [
    {
     "data": {
      "text/plain": [
       "1.0397207708399179"
      ]
     },
     "execution_count": 104,
     "metadata": {},
     "output_type": "execute_result"
    }
   ],
   "source": [
    "entropy2(dist)"
   ]
  },
  {
   "cell_type": "code",
   "execution_count": 107,
   "metadata": {
    "collapsed": false
   },
   "outputs": [
    {
     "data": {
      "text/plain": [
       "array([ 0.,  0.,  0.])"
      ]
     },
     "execution_count": 107,
     "metadata": {},
     "output_type": "execute_result"
    }
   ],
   "source": [
    "np.empty(3)"
   ]
  },
  {
   "cell_type": "code",
   "execution_count": null,
   "metadata": {
    "collapsed": true
   },
   "outputs": [],
   "source": [
    "rands=np.empty(modelSize)\n",
    "for x in np.nditer(rands):\n",
    "    x="
   ]
  },
  {
   "cell_type": "code",
   "execution_count": 109,
   "metadata": {
    "collapsed": false
   },
   "outputs": [
    {
     "data": {
      "text/plain": [
       "array([ 0.16250254,  0.74377049,  0.34733756])"
      ]
     },
     "execution_count": 109,
     "metadata": {},
     "output_type": "execute_result"
    }
   ],
   "source": [
    "np.random.rand(3)"
   ]
  },
  {
   "cell_type": "code",
   "execution_count": 125,
   "metadata": {
    "collapsed": false
   },
   "outputs": [
    {
     "data": {
      "text/plain": [
       "array([ 0.11086825,  0.05302548,  0.83610627])"
      ]
     },
     "execution_count": 125,
     "metadata": {},
     "output_type": "execute_result"
    }
   ],
   "source": [
    "findBeliefShape(np.random.rand(3), 0.0001)"
   ]
  },
  {
   "cell_type": "code",
   "execution_count": 4,
   "metadata": {
    "collapsed": false
   },
   "outputs": [],
   "source": [
    "import models\n",
    "import utilities\n",
    "pre=0.0001"
   ]
  },
  {
   "cell_type": "code",
   "execution_count": 149,
   "metadata": {
    "collapsed": false
   },
   "outputs": [
    {
     "ename": "TypeError",
     "evalue": "findBeliefShape() takes exactly 2 arguments (1 given)",
     "output_type": "error",
     "traceback": [
      "\u001b[1;31m---------------------------------------------------------------------------\u001b[0m",
      "\u001b[1;31mTypeError\u001b[0m                                 Traceback (most recent call last)",
      "\u001b[1;32m<ipython-input-149-3817fcffbaba>\u001b[0m in \u001b[0;36m<module>\u001b[1;34m()\u001b[0m\n\u001b[1;32m----> 1\u001b[1;33m \u001b[0mutilities\u001b[0m\u001b[1;33m.\u001b[0m\u001b[0mfindBeliefShape\u001b[0m\u001b[1;33m(\u001b[0m\u001b[0mdist\u001b[0m\u001b[1;33m)\u001b[0m\u001b[1;33m\u001b[0m\u001b[0m\n\u001b[0m",
      "\u001b[1;31mTypeError\u001b[0m: findBeliefShape() takes exactly 2 arguments (1 given)"
     ]
    }
   ],
   "source": [
    "utilities.findBeliefShape(dist)"
   ]
  },
  {
   "cell_type": "code",
   "execution_count": 150,
   "metadata": {
    "collapsed": false
   },
   "outputs": [],
   "source": [
    "def binSearch(upper, lower, dist, desiredEval, precision=pre):\n",
    "    newTry=((float(upper)-lower)/2)+lower\n",
    "    value=entropy(scaleDist(dist, newTry))\n",
    "    #print value\n",
    "    #print newTry\n",
    "    if (value+precision>desiredEval) and (value-precision<desiredEval):\n",
    "        #If within tolerance\n",
    "        return newTry\n",
    "    elif value>desiredEval:\n",
    "        newLower=newTry\n",
    "        return binSearch(upper, newLower, dist, desiredEval, precision)\n",
    "    elif value<desiredEval:\n",
    "        newUpper=newTry\n",
    "        return binSearch(newUpper, lower, dist, desiredEval, precision)\n",
    "    \n",
    "def findBeliefStrength(dist, precision=pre):\n",
    "    #A numerical algorithm for finding the belief strength of a distribution to a given precision\n",
    "    entropyNorm=np.log(np.size(dist))/2\n",
    "    #precision = 0.0001\n",
    "    uBound=findUpperBound(dist, entropyNorm, 2)\n",
    "    beliefStrength=binSearch(uBound, 0, dist, entropyNorm, precision)\n",
    "    return beliefStrength\n",
    "\n",
    "def findBeliefShape(dist, precision=pre):\n",
    "    stren = findBeliefStrength(dist, precision)\n",
    "    return scaleDist(dist, stren)"
   ]
  },
  {
   "cell_type": "code",
   "execution_count": 151,
   "metadata": {
    "collapsed": false
   },
   "outputs": [
    {
     "data": {
      "text/plain": [
       "2.3984375"
      ]
     },
     "execution_count": 151,
     "metadata": {},
     "output_type": "execute_result"
    }
   ],
   "source": [
    "findBeliefStrength(dist)"
   ]
  },
  {
   "cell_type": "code",
   "execution_count": 152,
   "metadata": {
    "collapsed": false
   },
   "outputs": [
    {
     "data": {
      "text/plain": [
       "array([ 0.07971534,  0.07971534,  0.84056932])"
      ]
     },
     "execution_count": 152,
     "metadata": {},
     "output_type": "execute_result"
    }
   ],
   "source": [
    "findBeliefShape(dist)"
   ]
  },
  {
   "cell_type": "code",
   "execution_count": 154,
   "metadata": {
    "collapsed": false
   },
   "outputs": [
    {
     "data": {
      "text/plain": [
       "array([ 0.1,  0.1,  0.8])"
      ]
     },
     "execution_count": 154,
     "metadata": {},
     "output_type": "execute_result"
    }
   ],
   "source": [
    "scaleDist(dist, 2)"
   ]
  },
  {
   "cell_type": "code",
   "execution_count": 155,
   "metadata": {
    "collapsed": false
   },
   "outputs": [
    {
     "data": {
      "text/plain": [
       "array([ 0.25,  0.25,  0.5 ])"
      ]
     },
     "execution_count": 155,
     "metadata": {},
     "output_type": "execute_result"
    }
   ],
   "source": [
    "dist"
   ]
  },
  {
   "cell_type": "code",
   "execution_count": 156,
   "metadata": {
    "collapsed": false
   },
   "outputs": [
    {
     "data": {
      "text/plain": [
       "array([ 0.07971534,  0.07971534,  0.84056932])"
      ]
     },
     "execution_count": 156,
     "metadata": {},
     "output_type": "execute_result"
    }
   ],
   "source": [
    "findBeliefShape(scaleDist(dist, 2))"
   ]
  },
  {
   "cell_type": "code",
   "execution_count": 157,
   "metadata": {
    "collapsed": true
   },
   "outputs": [],
   "source": [
    "dist2=[0.5,0.25,0.25]"
   ]
  },
  {
   "cell_type": "code",
   "execution_count": 177,
   "metadata": {
    "collapsed": false
   },
   "outputs": [
    {
     "data": {
      "text/plain": [
       "0.0"
      ]
     },
     "execution_count": 177,
     "metadata": {},
     "output_type": "execute_result"
    }
   ],
   "source": [
    "mutualInformation(dist, dist)"
   ]
  },
  {
   "cell_type": "code",
   "execution_count": 173,
   "metadata": {
    "collapsed": false
   },
   "outputs": [],
   "source": [
    "def mutualInformation(m1, m2):\n",
    "\t#Computes the mutual information between two distributions\n",
    "\tjoint=np.outer(m1,m2)\n",
    "\tMI=np.sum(joint*np.log(joint/np.outer(m1, m2)))\n",
    "\treturn MI\n",
    "def modelComparison(baseModel, model2):\n",
    "\t#Evaluates how similar a given model is to another model\n",
    "\t\t#This is different from getBeliefDistance in that it compares the unnormalized versions of the models.\n",
    "\tMIs=np.empty_like(baseModel[0])\n",
    "\tfor i in range(np.shape(baseModel)[0]):\n",
    "\t\tMIs[i] = mutualInformation(baseModel[i,:], Model2[i,:])\n",
    "\treturn np.mean(MIs) #Return the average mutual information"
   ]
  },
  {
   "cell_type": "code",
   "execution_count": 32,
   "metadata": {
    "collapsed": false
   },
   "outputs": [
    {
     "data": {
      "text/plain": [
       "array([[ 0.0625,  0.0625,  0.125 ],\n",
       "       [ 0.0625,  0.0625,  0.125 ],\n",
       "       [ 0.125 ,  0.125 ,  0.25  ]])"
      ]
     },
     "execution_count": 32,
     "metadata": {},
     "output_type": "execute_result"
    }
   ],
   "source": [
    "np.outer(dist, dist)"
   ]
  },
  {
   "cell_type": "code",
   "execution_count": 179,
   "metadata": {
    "collapsed": false
   },
   "outputs": [
    {
     "data": {
      "text/plain": [
       "array([ 0.0625,  0.0625,  0.25  ])"
      ]
     },
     "execution_count": 179,
     "metadata": {},
     "output_type": "execute_result"
    }
   ],
   "source": [
    "dist*dist"
   ]
  },
  {
   "cell_type": "code",
   "execution_count": 182,
   "metadata": {
    "collapsed": false
   },
   "outputs": [
    {
     "data": {
      "text/plain": [
       "0.0"
      ]
     },
     "execution_count": 182,
     "metadata": {},
     "output_type": "execute_result"
    }
   ],
   "source": [
    "entropy(dist)+entropy(dist2) - entropy(np.outer(dist, dist2))"
   ]
  },
  {
   "cell_type": "code",
   "execution_count": 5,
   "metadata": {
    "collapsed": false
   },
   "outputs": [],
   "source": [
    "from pragmaticModels import PragmaticModel"
   ]
  },
  {
   "cell_type": "code",
   "execution_count": 36,
   "metadata": {
    "collapsed": false
   },
   "outputs": [
    {
     "data": {
      "text/plain": [
       "<pragmaticModels.PragmaticModel instance at 0x7f2b57bd9ab8>"
      ]
     },
     "execution_count": 36,
     "metadata": {},
     "output_type": "execute_result"
    }
   ],
   "source": [
    "PragmaticModel(modelType=\"BeliefDecay\")"
   ]
  },
  {
   "cell_type": "code",
   "execution_count": 17,
   "metadata": {
    "collapsed": false
   },
   "outputs": [
    {
     "name": "stdout",
     "output_type": "stream",
     "text": [
      "2ndYearMacbookTests.ipynb  models.pyc        pragmodsUtils.pyc  utilities.py\r\n",
      "models.py                  pragmodsUtils.py  README.md          utilities.pyc\r\n"
     ]
    }
   ],
   "source": [
    "ls"
   ]
  },
  {
   "cell_type": "code",
   "execution_count": 99,
   "metadata": {
    "collapsed": false
   },
   "outputs": [
    {
     "data": {
      "text/plain": [
       "array([ 0.33333333,  0.33333333,  0.33333333])"
      ]
     },
     "execution_count": 99,
     "metadata": {},
     "output_type": "execute_result"
    }
   ],
   "source": [
    "np.ones(3).T/3"
   ]
  },
  {
   "cell_type": "code",
   "execution_count": 123,
   "metadata": {
    "collapsed": false
   },
   "outputs": [
    {
     "data": {
      "text/plain": [
       "array([[ 1.,  1.],\n",
       "       [ 1.,  0.],\n",
       "       [ 1.,  1.]])"
      ]
     },
     "execution_count": 123,
     "metadata": {},
     "output_type": "execute_result"
    }
   ],
   "source": [
    "    TT = [1.0, 1.0]\n",
    "    TF = [1.0, 0.0]\n",
    "    FT = [0.0, 1.0]\n",
    "\n",
    "    # Semantics for the null message fixed for all lexica:\n",
    "    nullsem = [1.0, 1.0]\n",
    "\n",
    "    # The nine logically distinct lexica -- message rows, world columns:\n",
    "    lexica = [\n",
    "        np.array([TT, TT, nullsem]),\n",
    "        np.array([TT, TF, nullsem]),\n",
    "        np.array([TT, FT, nullsem]),\n",
    "        np.array([TF, TT, nullsem]),\n",
    "        np.array([TF, TF, nullsem]),\n",
    "        np.array([TF, FT, nullsem]),\n",
    "        np.array([FT, TT, nullsem]),\n",
    "        np.array([FT, TF, nullsem]),\n",
    "        np.array([FT, FT, nullsem])]\n",
    "    lexica[1]"
   ]
  },
  {
   "cell_type": "code",
   "execution_count": 575,
   "metadata": {
    "collapsed": false
   },
   "outputs": [],
   "source": [
    "import pragmaticModels\n",
    "reload( pragmaticModels)\n",
    "from pragmaticModels import PragmaticModel\n",
    "\n",
    "rsaTest = PragmaticModel(modelType=\"RSA\", lexicon=lexica[1], priors=[0.5, 0.5], alpha=0.1)"
   ]
  },
  {
   "cell_type": "code",
   "execution_count": 576,
   "metadata": {
    "collapsed": false
   },
   "outputs": [
    {
     "data": {
      "text/plain": [
       "array([[ 0.32277957,  0.35444086,  0.32277957],\n",
       "       [ 0.5       ,  0.        ,  0.5       ]])"
      ]
     },
     "execution_count": 576,
     "metadata": {},
     "output_type": "execute_result"
    }
   ],
   "source": [
    "rsaTest.iterate(30000)"
   ]
  },
  {
   "cell_type": "code",
   "execution_count": 498,
   "metadata": {
    "collapsed": false
   },
   "outputs": [
    {
     "data": {
      "text/plain": [
       "[0.5, 0.5]"
      ]
     },
     "execution_count": 498,
     "metadata": {},
     "output_type": "execute_result"
    }
   ],
   "source": [
    "rsaTest.priors"
   ]
  },
  {
   "cell_type": "code",
   "execution_count": 499,
   "metadata": {
    "collapsed": false
   },
   "outputs": [
    {
     "data": {
      "text/plain": [
       "array([[ 1.,  1.],\n",
       "       [ 1.,  0.],\n",
       "       [ 1.,  1.]])"
      ]
     },
     "execution_count": 499,
     "metadata": {},
     "output_type": "execute_result"
    }
   ],
   "source": [
    "rsaTest.lexicon"
   ]
  },
  {
   "cell_type": "code",
   "execution_count": 6,
   "metadata": {
    "collapsed": false
   },
   "outputs": [],
   "source": [
    "from pragmodsUtils import rownorm, safelog\n",
    "def lexToMappingsRSAEquiv(lexicon, priors, relaxation):\n",
    "    #Converts an RSA style lexicon to an epistemic style mapping distribution using a relaxation paramater\n",
    "    mappings=np.zeros_like(lexicon)\n",
    "    for i, x in np.ndenumerate(lexicon):\n",
    "        if x==1:\n",
    "            mappings[i]=1-relaxation\n",
    "        elif x==0:\n",
    "            mappings[i]=relaxation\n",
    "        else:\n",
    "            raise ValueError(\"Lexicon is incorrectly specified\")\n",
    "    l0relaxed=(mappings*priors)#To match RSA listener-centric assumptions\n",
    "    return rownorm(rownorm(l0relaxed).T)#To make equivalent to RSA model..."
   ]
  },
  {
   "cell_type": "code",
   "execution_count": 528,
   "metadata": {
    "collapsed": false
   },
   "outputs": [],
   "source": [
    "import pragmaticModels\n",
    "reload( pragmaticModels)\n",
    "from pragmaticModels import PragmaticModel\n",
    "pri=[0.5, 0.5]\n",
    "epistTest = PragmaticModel(modelType=\"BeliefDecay\", mappings=lexToMappingsRSAEquiv(lexica[1], pri, .01), meaningPriors=pri, beliefStrength=.6)"
   ]
  },
  {
   "cell_type": "code",
   "execution_count": 522,
   "metadata": {
    "collapsed": false
   },
   "outputs": [
    {
     "name": "stdout",
     "output_type": "stream",
     "text": [
      "[[ 0.33666667  0.66333333]\n",
      " [ 0.98048637  0.01951363]\n",
      " [ 0.33666667  0.66333333]]\n"
     ]
    }
   ],
   "source": [
    "print epistTest.iterate(2)\n"
   ]
  },
  {
   "cell_type": "code",
   "execution_count": 491,
   "metadata": {
    "collapsed": false
   },
   "outputs": [
    {
     "data": {
      "text/plain": [
       "[0.5, 0.5]"
      ]
     },
     "execution_count": 491,
     "metadata": {},
     "output_type": "execute_result"
    }
   ],
   "source": [
    "epistTest.priors"
   ]
  },
  {
   "cell_type": "code",
   "execution_count": 492,
   "metadata": {
    "collapsed": false
   },
   "outputs": [
    {
     "data": {
      "text/plain": [
       "array([[ 0.25125628,  0.49748744,  0.25125628],\n",
       "       [ 0.4950495 ,  0.00990099,  0.4950495 ]])"
      ]
     },
     "execution_count": 492,
     "metadata": {},
     "output_type": "execute_result"
    }
   ],
   "source": [
    "epistTest.mappings"
   ]
  },
  {
   "cell_type": "code",
   "execution_count": 493,
   "metadata": {
    "collapsed": false
   },
   "outputs": [
    {
     "ename": "TypeError",
     "evalue": "lexToMappings() takes exactly 2 arguments (3 given)",
     "output_type": "error",
     "traceback": [
      "\u001b[1;31m---------------------------------------------------------------------------\u001b[0m",
      "\u001b[1;31mTypeError\u001b[0m                                 Traceback (most recent call last)",
      "\u001b[1;32m<ipython-input-493-a9af7fd9d35d>\u001b[0m in \u001b[0;36m<module>\u001b[1;34m()\u001b[0m\n\u001b[1;32m----> 1\u001b[1;33m \u001b[0mlexToMappings\u001b[0m\u001b[1;33m(\u001b[0m\u001b[0mlexica\u001b[0m\u001b[1;33m[\u001b[0m\u001b[1;36m1\u001b[0m\u001b[1;33m]\u001b[0m\u001b[1;33m,\u001b[0m \u001b[0mepistTest\u001b[0m\u001b[1;33m.\u001b[0m\u001b[0mpriors\u001b[0m\u001b[1;33m,\u001b[0m \u001b[1;36m.01\u001b[0m\u001b[1;33m)\u001b[0m\u001b[1;33m\u001b[0m\u001b[0m\n\u001b[0m",
      "\u001b[1;31mTypeError\u001b[0m: lexToMappings() takes exactly 2 arguments (3 given)"
     ]
    }
   ],
   "source": [
    "lexToMappings(lexica[1], epistTest.priors, .01)"
   ]
  },
  {
   "cell_type": "code",
   "execution_count": 494,
   "metadata": {
    "collapsed": false
   },
   "outputs": [
    {
     "data": {
      "text/plain": [
       "array([[ 0.5,  0.5],\n",
       "       [ 1. ,  0. ],\n",
       "       [ 0.5,  0.5]])"
      ]
     },
     "execution_count": 494,
     "metadata": {},
     "output_type": "execute_result"
    }
   ],
   "source": [
    "rownorm((rsaTest.lexicon*rsaTest.priors))"
   ]
  },
  {
   "cell_type": "code",
   "execution_count": 495,
   "metadata": {
    "collapsed": false
   },
   "outputs": [
    {
     "data": {
      "text/plain": [
       "array([[  2.50000125e-01,   4.99999750e-01,   2.50000125e-01],\n",
       "       [  4.99999500e-01,   9.99999000e-07,   4.99999500e-01]])"
      ]
     },
     "execution_count": 495,
     "metadata": {},
     "output_type": "execute_result"
    }
   ],
   "source": [
    "rownorm(lexToMappingsRSAEquiv(lexica[1], epistTest.priors, .000001))"
   ]
  },
  {
   "cell_type": "code",
   "execution_count": 266,
   "metadata": {
    "collapsed": false
   },
   "outputs": [
    {
     "data": {
      "text/plain": [
       "array([[  2.22222241e-01,   5.55555519e-01,   2.22222241e-01],\n",
       "       [  4.99999938e-01,   1.24999978e-07,   4.99999938e-01]])"
      ]
     },
     "execution_count": 266,
     "metadata": {},
     "output_type": "execute_result"
    }
   ],
   "source": [
    "lexToMappingsRSAEquiv(lexica[1], epistTest.priors, .0000001)"
   ]
  },
  {
   "cell_type": "code",
   "execution_count": 268,
   "metadata": {
    "collapsed": false
   },
   "outputs": [],
   "source": [
    "from pragmodsUtils import rownorm, safelog\n",
    "def lexToMappings(lexicon, relaxation):\n",
    "\t#Converts an RSA style lexicon to an epistemic style mapping distribution using a relaxation paramater\n",
    "\tmappings=np.zeros_like(lexicon)\n",
    "\tfor i, x in np.ndenumerate(lexicon):\n",
    "\t\tif x==1:\n",
    "\t\t\tmappings[i]=1-relaxation\n",
    "\t\telif x==0:\n",
    "\t\t\tmappings[i]=relaxation\n",
    "\t\telse:\n",
    "\t\t\traise ValueError(\"Lexicon is incorrectly specified\")\n",
    "\treturn rownorm(mappings.T)"
   ]
  },
  {
   "cell_type": "code",
   "execution_count": 270,
   "metadata": {
    "collapsed": false
   },
   "outputs": [
    {
     "data": {
      "text/plain": [
       "array([[  3.33333333e-01,   3.33333333e-01,   3.33333333e-01],\n",
       "       [  4.99999975e-01,   5.00000025e-08,   4.99999975e-01]])"
      ]
     },
     "execution_count": 270,
     "metadata": {},
     "output_type": "execute_result"
    }
   ],
   "source": [
    "lexToMappings(lexica[1], .0000001)"
   ]
  },
  {
   "cell_type": "code",
   "execution_count": 301,
   "metadata": {
    "collapsed": false
   },
   "outputs": [
    {
     "data": {
      "text/plain": [
       "array([[  2.50000013e-01,   4.99999975e-01,   2.50000013e-01],\n",
       "       [  4.99999950e-01,   9.99999900e-08,   4.99999950e-01]])"
      ]
     },
     "execution_count": 301,
     "metadata": {},
     "output_type": "execute_result"
    }
   ],
   "source": [
    "lexToMappingsRSAEquiv(lexica[1], pri, .0000001)"
   ]
  },
  {
   "cell_type": "code",
   "execution_count": 311,
   "metadata": {
    "collapsed": false
   },
   "outputs": [
    {
     "data": {
      "text/plain": [
       "array([[ 0.33333333,  0.66666667],\n",
       "       [ 1.        ,  0.        ],\n",
       "       [ 0.33333333,  0.66666667]])"
      ]
     },
     "execution_count": 311,
     "metadata": {},
     "output_type": "execute_result"
    }
   ],
   "source": [
    "rsaTest.iterate(3)"
   ]
  },
  {
   "cell_type": "code",
   "execution_count": 312,
   "metadata": {
    "collapsed": false
   },
   "outputs": [
    {
     "data": {
      "text/plain": [
       "array([[  3.33333367e-01,   6.66666633e-01],\n",
       "       [  9.99999800e-01,   1.99999950e-07],\n",
       "       [  3.33333367e-01,   6.66666633e-01]])"
      ]
     },
     "execution_count": 312,
     "metadata": {},
     "output_type": "execute_result"
    }
   ],
   "source": [
    "epistTest.iterate(2)"
   ]
  },
  {
   "cell_type": "code",
   "execution_count": 7,
   "metadata": {
    "collapsed": true
   },
   "outputs": [],
   "source": [
    "import utilities as util"
   ]
  },
  {
   "cell_type": "code",
   "execution_count": 321,
   "metadata": {
    "collapsed": false
   },
   "outputs": [
    {
     "name": "stdout",
     "output_type": "stream",
     "text": [
      "[[  1.25000006e-01   2.49999975e-01]\n",
      " [  2.49999987e-01   4.99999950e-08]\n",
      " [  1.25000006e-01   2.49999975e-01]]\n",
      "[[  1.66666689e-01   5.00000000e-01]\n",
      " [  6.66666622e-01   2.00000000e-14]\n",
      " [  1.66666689e-01   5.00000000e-01]]\n"
     ]
    }
   ],
   "source": [
    "print epistTest.iterate(1).T*epistTest.priors\n",
    "print util.scaleDist(epistTest.iterate(1).T*epistTest.priors, 1)"
   ]
  },
  {
   "cell_type": "code",
   "execution_count": 327,
   "metadata": {
    "collapsed": false
   },
   "outputs": [
    {
     "name": "stdout",
     "output_type": "stream",
     "text": [
      "[[  1.25000006e-01   2.49999975e-01]\n",
      " [  2.49999987e-01   4.99999950e-08]\n",
      " [  1.25000006e-01   2.49999975e-01]]\n"
     ]
    }
   ],
   "source": [
    "unnorm = np.power(epistTest.iterate(1).T*epistTest.priors, 1)\n",
    "print unnorm"
   ]
  },
  {
   "cell_type": "code",
   "execution_count": 339,
   "metadata": {
    "collapsed": false
   },
   "outputs": [
    {
     "ename": "ValueError",
     "evalue": "operands could not be broadcast together with shapes (3,2) (3,) ",
     "output_type": "error",
     "traceback": [
      "\u001b[1;31m---------------------------------------------------------------------------\u001b[0m",
      "\u001b[1;31mValueError\u001b[0m                                Traceback (most recent call last)",
      "\u001b[1;32m<ipython-input-339-9260be207ebf>\u001b[0m in \u001b[0;36m<module>\u001b[1;34m()\u001b[0m\n\u001b[1;32m----> 1\u001b[1;33m \u001b[0munnorm\u001b[0m\u001b[1;33m/\u001b[0m\u001b[0mnp\u001b[0m\u001b[1;33m.\u001b[0m\u001b[0msum\u001b[0m\u001b[1;33m(\u001b[0m\u001b[0munnorm\u001b[0m\u001b[1;33m,\u001b[0m\u001b[1;36m1\u001b[0m\u001b[1;33m)\u001b[0m\u001b[1;33m\u001b[0m\u001b[0m\n\u001b[0m",
      "\u001b[1;31mValueError\u001b[0m: operands could not be broadcast together with shapes (3,2) (3,) "
     ]
    }
   ],
   "source": [
    "unnorm/np.sum(unnorm,1)"
   ]
  },
  {
   "cell_type": "code",
   "execution_count": 8,
   "metadata": {
    "collapsed": false
   },
   "outputs": [],
   "source": [
    "from pragmodsUtils import rownorm \n",
    "from pragmodsUtils import colnorm\n",
    "\n",
    "def scaleDist(dist, alpha):\n",
    "    unNorm=np.power(dist, alpha)\n",
    "    return rownorm(unNorm)\n",
    "def testBeliefShape(dist):\n",
    "    newDist=np.empty_like(dist)\n",
    "    #scaledDist=np.power(dist, entropy(dist))\n",
    "    #scaledDist=dist/np.prod(np.log(dist))\n",
    "    scaledDist=np.exp(entropy(dist))*dist\n",
    "    norm = sum(np.log(scaledDist))\n",
    "\n",
    "    for i,x in np.ndenumerate(scaledDist):\n",
    "        newDist[i]=np.log(x)/norm\n",
    "    return newDist"
   ]
  },
  {
   "cell_type": "code",
   "execution_count": 475,
   "metadata": {
    "collapsed": false
   },
   "outputs": [
    {
     "data": {
      "image/png": "[encoded data removed]",
      "text/plain": [
       "<matplotlib.figure.Figure at 0x7f2b54812d50>"
      ]
     },
     "metadata": {},
     "output_type": "display_data"
    }
   ],
   "source": [
    "numPoints=100\n",
    "x=np.empty([numPoints])\n",
    "y=np.empty([numPoints])\n",
    "for i in range(numPoints):\n",
    "    alpha=float(i+1)/10\n",
    "    x[i]=alpha\n",
    "    y[i]=entropy(scaleDist(epistTest.mappings, alpha))\n",
    "    #y[i]=np.sum(scaleTest(dist, alpha)*np.log(scaleTest(dist, alpha)))\n",
    "plt.plot(x,y)\n",
    "plt.xlabel('Alpha')\n",
    "plt.ylabel('Entropy of Normed Version')\n",
    "#%matplotlib inline \n",
    "plt.show()"
   ]
  },
  {
   "cell_type": "code",
   "execution_count": 469,
   "metadata": {
    "collapsed": false
   },
   "outputs": [
    {
     "data": {
      "text/plain": [
       "array([ 0.25,  0.25,  0.5 ])"
      ]
     },
     "execution_count": 469,
     "metadata": {},
     "output_type": "execute_result"
    }
   ],
   "source": [
    "colnorm(np.power(dist, 1))"
   ]
  },
  {
   "cell_type": "code",
   "execution_count": 487,
   "metadata": {
    "collapsed": false
   },
   "outputs": [
    {
     "data": {
      "text/plain": [
       "array([[ 0.32565898,  0.34868204,  0.32565898],\n",
       "       [ 0.3736581 ,  0.2526838 ,  0.3736581 ]])"
      ]
     },
     "execution_count": 487,
     "metadata": {},
     "output_type": "execute_result"
    }
   ],
   "source": [
    "scaleDist(epistTest.mappings, .1)"
   ]
  },
  {
   "cell_type": "code",
   "execution_count": 534,
   "metadata": {
    "collapsed": false
   },
   "outputs": [
    {
     "name": "stdout",
     "output_type": "stream",
     "text": [
      "[[ 0.39965314  0.60034686]\n",
      " [ 0.91294705  0.08705295]\n",
      " [ 0.39965314  0.60034686]]\n",
      "[[ 0.33333333  0.66666667]\n",
      " [ 1.          0.        ]\n",
      " [ 0.33333333  0.66666667]]\n"
     ]
    }
   ],
   "source": [
    "print epistTest.iterate(2)\n",
    "print rsaTest.iterate(3)"
   ]
  },
  {
   "cell_type": "code",
   "execution_count": 579,
   "metadata": {
    "collapsed": false
   },
   "outputs": [
    {
     "data": {
      "text/plain": [
       "array([[ 0.8,  0.1,  0.1],\n",
       "       [ 0.1,  0.1,  0.8]])"
      ]
     },
     "execution_count": 579,
     "metadata": {},
     "output_type": "execute_result"
    }
   ],
   "source": [
    "[lexToMappingsRSAEquiv([lexica[1]], pri, .01)]"
   ]
  },
  {
   "cell_type": "code",
   "execution_count": 587,
   "metadata": {
    "collapsed": false
   },
   "outputs": [],
   "source": [
    "import pragmaticModels\n",
    "reload( pragmaticModels)\n",
    "from pragmaticModels import PragmaticModel\n",
    "pri=[0.3, 0.6]\n",
    "#mapps = lexToMappingsRSAEquiv(lexica[1], pri, .01)\n",
    "mapps=np.array([[0.8, 0.1, 0.1],[0.1,0.1,0.8]])\n",
    "epistTest = PragmaticModel(modelType=\"BeliefDecay\", mappings=mapps, meaningPriors=pri, beliefStrength=1)"
   ]
  },
  {
   "cell_type": "code",
   "execution_count": 590,
   "metadata": {
    "collapsed": false
   },
   "outputs": [
    {
     "name": "stdout",
     "output_type": "stream",
     "text": [
      "[[ 0.8         0.2       ]\n",
      " [ 0.33333333  0.66666667]\n",
      " [ 0.05882353  0.94117647]]\n"
     ]
    }
   ],
   "source": [
    "print epistTest.iterate(2)\n"
   ]
  },
  {
   "cell_type": "code",
   "execution_count": 591,
   "metadata": {
    "collapsed": false
   },
   "outputs": [
    {
     "ename": "ValueError",
     "evalue": "operands could not be broadcast together with shapes (3,2) (3,) ",
     "output_type": "error",
     "traceback": [
      "\u001b[1;31m---------------------------------------------------------------------------\u001b[0m",
      "\u001b[1;31mValueError\u001b[0m                                Traceback (most recent call last)",
      "\u001b[1;32m<ipython-input-591-dfab7e0a19e8>\u001b[0m in \u001b[0;36m<module>\u001b[1;34m()\u001b[0m\n\u001b[1;32m----> 1\u001b[1;33m \u001b[0mepistTest\u001b[0m\u001b[1;33m.\u001b[0m\u001b[0miterate\u001b[0m\u001b[1;33m(\u001b[0m\u001b[1;36m2\u001b[0m\u001b[1;33m)\u001b[0m\u001b[1;33m/\u001b[0m\u001b[1;33m[\u001b[0m\u001b[1;36m0.3\u001b[0m\u001b[1;33m,\u001b[0m\u001b[1;36m0.2\u001b[0m\u001b[1;33m,\u001b[0m\u001b[1;36m0.5\u001b[0m\u001b[1;33m]\u001b[0m\u001b[1;33m\u001b[0m\u001b[0m\n\u001b[0m",
      "\u001b[1;31mValueError\u001b[0m: operands could not be broadcast together with shapes (3,2) (3,) "
     ]
    }
   ],
   "source": [
    "epistTest.iterate(2)/[0.3,0.2,0.5]"
   ]
  },
  {
   "cell_type": "code",
   "execution_count": 605,
   "metadata": {
    "collapsed": false
   },
   "outputs": [
    {
     "name": "stdout",
     "output_type": "stream",
     "text": [
      "[[ 8.     1.   ]\n",
      " [ 1.     1.   ]\n",
      " [ 0.125  1.   ]]\n",
      "\n",
      "\n",
      "[[ 0.024  0.006]\n",
      " [ 0.003  0.006]\n",
      " [ 0.024  0.384]]\n",
      "\n",
      "\n",
      "[[ 0.8         0.2       ]\n",
      " [ 0.33333333  0.66666667]\n",
      " [ 0.05882353  0.94117647]]\n",
      "\n",
      "\n",
      "[[ 0.93950178  0.06049822]\n",
      " [ 0.66        0.34      ]\n",
      " [ 0.19526627  0.80473373]]\n"
     ]
    }
   ],
   "source": [
    "utPri=[0.1,0.1,0.8]\n",
    "#utPri=[0.3,0.3,0.4]\n",
    "print (mapps/utPri).T\n",
    "print \"\\n\"\n",
    "print (mapps*utPri).T*pri\n",
    "print \"\\n\"\n",
    "print rownorm((mapps/utPri).T*pri)\n",
    "print \"\\n\"\n",
    "print rownorm(rownorm(mapps*utPri).T*pri)"
   ]
  },
  {
   "cell_type": "code",
   "execution_count": 683,
   "metadata": {
    "collapsed": false
   },
   "outputs": [
    {
     "name": "stdout",
     "output_type": "stream",
     "text": [
      "----------------------------------------------------\n",
      "RSA predictions\n",
      "             Blue Square   Blue Circle  Green Square\n",
      "    'Blue'        0.3846        0.6154           0.0\n",
      "   'Green'           0.0           0.0           1.0\n",
      "  'Circle'           0.0           1.0           0.0\n",
      "  'Square'        0.3846           0.0        0.6154\n",
      "\n",
      "----------------------------------------------------\n",
      "Epistemic Predictions\n",
      "             Blue Square   Blue Circle  Green Square\n",
      "    'Blue'        0.3404        0.5936         0.066\n",
      "   'Green'        0.0542        0.0946        0.8512\n",
      "  'Circle'        0.0542        0.8512        0.0946\n",
      "  'Square'        0.3404         0.066        0.5936\n",
      "\n"
     ]
    }
   ],
   "source": [
    "import pragmaticModels\n",
    "reload( pragmaticModels)\n",
    "from pragmaticModels import PragmaticModel\n",
    "pri=[.2,.4,.4]#Frank and Goodman 2012 rough empirical priors\n",
    "lex=[[1,1,0],[0,0,1],[0,1,0],[1,0,1]]#Frank and Goodman 2012 full lexicon\n",
    "means=[\"Blue Square\", \"Blue Circle\", \"Green Square\"]\n",
    "utts= [\"\\'Blue\\'\",\"\\'Green\\'\",\"\\'Circle\\'\",\"\\'Square\\'\"]\n",
    "mapps = lexToMappingsRSAEquiv(lex, pri, .1) #RSA style relaxation for this lexicon\n",
    "#mapps=np.array([[0.8, 0.1, 0.1],[0.1,0.1,0.8]])\n",
    "rsaTest = PragmaticModel(modelType=\"RSA\", lexicon=lex, meaningPriors=pri, alpha=1, meanings=means, utterances=utts)\n",
    "epistTest = PragmaticModel(modelType=\"BeliefDecay\", mappings=mapps, meaningPriors=pri, beliefStrength=1, meanings=means, utterances=utts)\n",
    "rsaTest.display_listener_matrix(rsaTest.iterate(3), title=\"RSA predictions\")\n",
    "epistTest.display_listener_matrix(epistTest.iterate(2), title=\"Epistemic Predictions\")"
   ]
  },
  {
   "cell_type": "code",
   "execution_count": 763,
   "metadata": {
    "collapsed": false
   },
   "outputs": [
    {
     "data": {
      "image/png": "[encoded data removed]",
      "text/plain": [
       "<matplotlib.figure.Figure at 0x7f2b50193fd0>"
      ]
     },
     "metadata": {},
     "output_type": "display_data"
    },
    {
     "data": {
      "image/png": "[encoded data removed]",
      "text/plain": [
       "<matplotlib.figure.Figure at 0x7f2b54f7f110>"
      ]
     },
     "metadata": {},
     "output_type": "display_data"
    }
   ],
   "source": [
    "%matplotlib inline \n",
    "toPlot=rsaTest.iterate(3)[0,:]\n",
    "epsilon = 1e-7\n",
    "toPlot = [x+epsilon for x in toPlot]\n",
    "labels=rsaTest.meanings\n",
    "locs=range(len(toPlot))\n",
    "plt.bar(locs,toPlot, align='center')\n",
    "plt.xlabel(\"Meanings\")\n",
    "plt.ylabel(\"Model predictions\")\n",
    "plt.title(\"Utterance: \\'Blue\\'\") \n",
    "plt.suptitle(\"RSA predictions\")\n",
    "plt.xticks(locs, labels)\n",
    "axes = plt.gca()\n",
    "axes.set_ylim([0,1])\n",
    "plt.figure(1)\n",
    "plt.show()\n",
    "\n",
    "toPlot=epistTest.iterate(2)[0,:]\n",
    "epsilon = 1e-7\n",
    "toPlot = [x+epsilon for x in toPlot]\n",
    "labels=epistTest.meanings\n",
    "locs=range(len(toPlot))\n",
    "plt.bar(locs,toPlot, align='center')\n",
    "plt.xlabel(\"Meanings\")\n",
    "plt.ylabel(\"Model predictions\")\n",
    "plt.title(\"Utterance: \\'Blue\\'\") \n",
    "plt.suptitle(\"Epistemic predictions\")\n",
    "plt.xticks(locs, labels)\n",
    "axes = plt.gca()\n",
    "axes.set_ylim([0,1])\n",
    "#plt.figure(2)\n",
    "plt.show()"
   ]
  },
  {
   "cell_type": "code",
   "execution_count": 9,
   "metadata": {
    "collapsed": false
   },
   "outputs": [
    {
     "ename": "NameError",
     "evalue": "name 'rsaTest' is not defined",
     "output_type": "error",
     "traceback": [
      "\u001b[1;31m---------------------------------------------------------------------------\u001b[0m",
      "\u001b[1;31mNameError\u001b[0m                                 Traceback (most recent call last)",
      "\u001b[1;32m<ipython-input-9-ab7c9479f60d>\u001b[0m in \u001b[0;36m<module>\u001b[1;34m()\u001b[0m\n\u001b[0;32m      6\u001b[0m \u001b[0mplt\u001b[0m\u001b[1;33m.\u001b[0m\u001b[0msuptitle\u001b[0m\u001b[1;33m(\u001b[0m\u001b[1;34m\"Utterance: \\'Blue\\'\"\u001b[0m\u001b[1;33m)\u001b[0m\u001b[1;33m\u001b[0m\u001b[0m\n\u001b[0;32m      7\u001b[0m \u001b[1;33m\u001b[0m\u001b[0m\n\u001b[1;32m----> 8\u001b[1;33m \u001b[0mtoPlot\u001b[0m\u001b[1;33m=\u001b[0m\u001b[0mrsaTest\u001b[0m\u001b[1;33m.\u001b[0m\u001b[0miterate\u001b[0m\u001b[1;33m(\u001b[0m\u001b[1;36m3\u001b[0m\u001b[1;33m)\u001b[0m\u001b[1;33m[\u001b[0m\u001b[1;36m0\u001b[0m\u001b[1;33m,\u001b[0m\u001b[1;33m:\u001b[0m\u001b[1;33m]\u001b[0m\u001b[1;33m\u001b[0m\u001b[0m\n\u001b[0m\u001b[0;32m      9\u001b[0m \u001b[0mepsilon\u001b[0m \u001b[1;33m=\u001b[0m \u001b[1;36m1e-7\u001b[0m\u001b[1;33m\u001b[0m\u001b[0m\n\u001b[0;32m     10\u001b[0m \u001b[0mtoPlot\u001b[0m \u001b[1;33m=\u001b[0m \u001b[1;33m[\u001b[0m\u001b[0mx\u001b[0m\u001b[1;33m+\u001b[0m\u001b[0mepsilon\u001b[0m \u001b[1;32mfor\u001b[0m \u001b[0mx\u001b[0m \u001b[1;32min\u001b[0m \u001b[0mtoPlot\u001b[0m\u001b[1;33m]\u001b[0m\u001b[1;33m\u001b[0m\u001b[0m\n",
      "\u001b[1;31mNameError\u001b[0m: name 'rsaTest' is not defined"
     ]
    }
   ],
   "source": [
    "import matplotlib.gridspec as gridspec\n",
    "fig = plt.figure()\n",
    "size = fig.get_size_inches()\n",
    "plt.figure(figsize=(size[0]*2,size[0]*0.8))\n",
    "gs = gridspec.GridSpec(1,2)\n",
    "plt.suptitle(\"Utterance: \\'Blue\\'\")\n",
    "\n",
    "toPlot=rsaTest.iterate(3)[0,:]\n",
    "epsilon = 1e-7\n",
    "toPlot = [x+epsilon for x in toPlot]\n",
    "labels=rsaTest.meanings\n",
    "locs=range(len(toPlot))\n",
    "ax = plt.subplot(gs[0])\n",
    "ax.bar(locs,toPlot, align='center')\n",
    "ax.set_xlabel(\"Meanings\")\n",
    "ax.set_ylabel(\"Model predictions\")\n",
    "ax.set_title(\"RSA Predictions\") \n",
    "plt.xticks(locs, labels)\n",
    "axes = plt.gca()\n",
    "axes.set_ylim([0,1])\n",
    "\n",
    "#pos1 = ax.get_position() # get the original position \n",
    "#pos2 = [pos1.x0 + 1.3, pos1.y0 + 0.0,  pos1.width / 1.0, pos1.height / 1.0] \n",
    "#ax.set_position(pos2)\n",
    "\n",
    "ax2 = plt.subplot(gs[1])\n",
    "toPlot=epistTest.iterate(2)[0,:]\n",
    "epsilon = 1e-7\n",
    "toPlot = [x+epsilon for x in toPlot]\n",
    "labels=epistTest.meanings\n",
    "locs=range(len(toPlot))\n",
    "ax2.bar(locs,toPlot, align='center')\n",
    "ax2.set_xlabel(\"Meanings\")\n",
    "ax2.set_ylabel(\"Model predictions\")\n",
    "ax2.set_title(\"Epistemic Predictions\") \n",
    "plt.xticks(locs, labels)\n",
    "axes = plt.gca()\n",
    "axes.set_ylim([0,1])\n",
    "#ax2.set_position(pos2)\n",
    "#ax.set_position(pos1)\n",
    "#plt.figure(2)\n",
    "plt.show()"
   ]
  },
  {
   "cell_type": "code",
   "execution_count": 10,
   "metadata": {
    "collapsed": false
   },
   "outputs": [
    {
     "data": {
      "text/plain": [
       "array([[ 0.43348624,  0.06651376,  0.06651376,  0.43348624],\n",
       "       [ 0.378     ,  0.058     ,  0.522     ,  0.042     ],\n",
       "       [ 0.042     ,  0.522     ,  0.058     ,  0.378     ]])"
      ]
     },
     "execution_count": 10,
     "metadata": {},
     "output_type": "execute_result"
    }
   ],
   "source": [
    "from pragmodsUtils import rownorm, safelog\n",
    "def lexToMappingsRSAEquiv(lexicon, priors, relaxation):\n",
    "    #Converts an RSA style lexicon to an epistemic style mapping distribution using a relaxation paramater\n",
    "    mappings=np.zeros_like(lexicon, dtype='float64')\n",
    "    for i, x in np.ndenumerate(lexicon):\n",
    "        if x==1:\n",
    "            mappings[i]=1-relaxation\n",
    "        elif x==0:\n",
    "            mappings[i]=relaxation\n",
    "        else:\n",
    "            raise ValueError(\"Lexicon is incorrectly specified\")\n",
    "    l0relaxed=(mappings*priors)#To match RSA listener-centric assumptions\n",
    "    return rownorm(rownorm(l0relaxed).T)#To make equivalent to RSA model...\n",
    "pri=np.array([.2,.4,.4])\n",
    "lex=np.array([[1,1,0],[0,0,1],[0,1,0],[1,0,1]])\n",
    "lexToMappingsRSAEquiv(lex, pri, .1)"
   ]
  },
  {
   "cell_type": "code",
   "execution_count": 655,
   "metadata": {
    "collapsed": false
   },
   "outputs": [],
   "source": [
    "relaxation=.1\n",
    "mappings=np.zeros_like(lex, dtype='float64')\n",
    "for i, x in np.ndenumerate(lex):\n",
    "    if x==1:\n",
    "        mappings[i]=(float(1)-relaxation)\n",
    "    elif x==0:\n",
    "        mappings[i]=relaxation\n",
    "    else:\n",
    "        raise ValueError(\"Lexicon is incorrectly specified\")"
   ]
  },
  {
   "cell_type": "code",
   "execution_count": 649,
   "metadata": {
    "collapsed": false
   },
   "outputs": [
    {
     "data": {
      "text/plain": [
       "0.9"
      ]
     },
     "execution_count": 649,
     "metadata": {},
     "output_type": "execute_result"
    }
   ],
   "source": [
    "1-relaxation"
   ]
  },
  {
   "cell_type": "code",
   "execution_count": null,
   "metadata": {
    "collapsed": false
   },
   "outputs": [],
   "source": []
  },
  {
   "cell_type": "code",
   "execution_count": 656,
   "metadata": {
    "collapsed": false
   },
   "outputs": [
    {
     "data": {
      "text/plain": [
       "array([[ 0.9,  0.9,  0.1],\n",
       "       [ 0.1,  0.1,  0.9],\n",
       "       [ 0.1,  0.9,  0.1],\n",
       "       [ 0.9,  0.1,  0.9]])"
      ]
     },
     "execution_count": 656,
     "metadata": {},
     "output_type": "execute_result"
    }
   ],
   "source": [
    "mappings"
   ]
  },
  {
   "cell_type": "code",
   "execution_count": 781,
   "metadata": {
    "collapsed": false
   },
   "outputs": [
    {
     "name": "stdout",
     "output_type": "stream",
     "text": [
      "[[ 0.43348624  0.06651376  0.06651376  0.43348624]\n",
      " [ 0.378       0.058       0.522       0.042     ]\n",
      " [ 0.042       0.522       0.058       0.378     ]]\n",
      "[[ 0.42498651  0.06520957  0.06520957  0.42498651  0.00980392  0.00980392]\n",
      " [ 0.37058824  0.05686275  0.51176471  0.04117647  0.00980392  0.00980392]\n",
      " [ 0.04117647  0.51176471  0.05686275  0.37058824  0.00980392  0.00980392]\n",
      " [ 0.00952381  0.00952381  0.00952381  0.00952381  0.95238095  0.00952381]\n",
      " [ 0.00952381  0.00952381  0.00952381  0.00952381  0.00952381  0.95238095]]\n"
     ]
    }
   ],
   "source": [
    "print mapps\n",
    "newMapps = np.append(origMaps, np.array([[0.01,0.01,0.01,0.01]]), axis=0)\n",
    "newMapps = np.append(newMapps, np.array([[0.01,0.01,0.01,0.01]]), axis=0)\n",
    "newMapps = np.append(newMapps, np.array([[0.01],[0.01],[0.01],[1.0],[0.01]]), axis=1)\n",
    "newMapps = np.append(newMapps, np.array([[0.01],[0.01],[0.01],[0.01],[1.0]]), axis=1)\n",
    "print rownorm(newMapps)"
   ]
  },
  {
   "cell_type": "code",
   "execution_count": 801,
   "metadata": {
    "collapsed": false
   },
   "outputs": [
    {
     "name": "stdout",
     "output_type": "stream",
     "text": [
      "[ 0.16666667  0.33333333  0.33333333  0.04166667  0.04166667  0.04166667\n",
      "  0.04166667]\n"
     ]
    }
   ],
   "source": [
    "test=[.2,.4,.4]#Frank and Goodman 2012 rough empirical priors\n",
    "newPriUnNorm=np.array(origPri + [0.05, 0.05])\n",
    "newPri=newPriUnNorm/sum(newPriUnNorm)\n",
    "print newPri"
   ]
  },
  {
   "cell_type": "code",
   "execution_count": 806,
   "metadata": {
    "collapsed": false
   },
   "outputs": [
    {
     "name": "stdout",
     "output_type": "stream",
     "text": [
      "----------------------------------------------------\n",
      "Original Epistemic Predictions\n",
      "             Blue Square   Blue Circle  Green Square\n",
      "    'Blue'        0.3404        0.5936         0.066\n",
      "   'Green'        0.0542        0.0946        0.8512\n",
      "  'Circle'        0.0542        0.8512        0.0946\n",
      "  'Square'        0.3404         0.066        0.5936\n",
      "\n",
      "-------------------------------------------------------------------------------------------------\n",
      "Expanded Epistemic Predictions\n",
      "                  Blue Square      Blue Circle     Green Square  Orange Triangle      Red Hexagon\n",
      "      'Blue'           0.3391           0.5913           0.0657            0.002            0.002\n",
      "     'Green'            0.054           0.0942           0.8477            0.002            0.002\n",
      "    'Circle'            0.054           0.8477           0.0942            0.002            0.002\n",
      "    'Square'           0.3391           0.0657           0.5913            0.002            0.002\n",
      "  'Triangle'           0.0331           0.0661           0.0661           0.8264           0.0083\n",
      "   'Hexagon'           0.0331           0.0661           0.0661           0.0083           0.8264\n",
      "\n"
     ]
    },
    {
     "data": {
      "text/plain": [
       "<matplotlib.figure.Figure at 0x7f2b503e9190>"
      ]
     },
     "metadata": {},
     "output_type": "display_data"
    },
    {
     "data": {
      "image/png": "[encoded data removed]",
      "text/plain": [
       "<matplotlib.figure.Figure at 0x7f2b54f6c450>"
      ]
     },
     "metadata": {},
     "output_type": "display_data"
    }
   ],
   "source": [
    "import pragmaticModels\n",
    "reload( pragmaticModels)\n",
    "from pragmaticModels import PragmaticModel\n",
    "origPri=[.2,.4,.4]#Frank and Goodman 2012 rough empirical priors\n",
    "lex=[[1,1,0],[0,0,1],[0,1,0],[1,0,1]]#Frank and Goodman 2012 full lexicon\n",
    "origMeans=[\"Blue Square\", \"Blue Circle\", \"Green Square\"]\n",
    "origUtts= [\"\\'Blue\\'\",\"\\'Green\\'\",\"\\'Circle\\'\",\"\\'Square\\'\"]\n",
    "origMaps = lexToMappingsRSAEquiv(lex, origPri, .1) #RSA style relaxation for this lexicon\n",
    "\n",
    "newMaps = np.append(origMaps, np.array([[0.01,0.01,0.01,0.01]]), axis=0)\n",
    "newMaps = np.append(newMaps, np.array([[0.01,0.01,0.01,0.01]]), axis=0)\n",
    "newMaps = np.append(newMaps, np.array([[0.01],[0.01],[0.01],[1.0],[0.01]]), axis=1)\n",
    "newMaps = np.append(newMaps, np.array([[0.01],[0.01],[0.01],[0.01],[1.0]]), axis=1)\n",
    "\n",
    "newPriUnNorm=np.array(origPri + [0.05, 0.05])\n",
    "newPri=newPriUnNorm/sum(newPriUnNorm)\n",
    "newMeans=[\"Blue Square\", \"Blue Circle\", \"Green Square\", \"Orange Triangle\", \"Red Hexagon\"]\n",
    "newUtts= [\"\\'Blue\\'\",\"\\'Green\\'\",\"\\'Circle\\'\",\"\\'Square\\'\",\"\\'Triangle\\'\", \"\\'Hexagon\\'\"]\n",
    "\n",
    "#mapps=np.array([[0.8, 0.1, 0.1],[0.1,0.1,0.8]])\n",
    "epistTestOrig = PragmaticModel(modelType=\"BeliefDecay\", mappings=origMaps, meaningPriors=origPri, beliefStrength=1, meanings=origMeans, utterances=origUtts)\n",
    "epistTestNew = PragmaticModel(modelType=\"BeliefDecay\", mappings=newMaps, meaningPriors=newPri, beliefStrength=1, meanings=newMeans, utterances=newUtts)\n",
    "\n",
    "originalPreds=epistTestOrig.iterate(2)\n",
    "newPreds=epistTestNew.iterate(2)\n",
    "epistTestOrig.display_listener_matrix(originalPreds, title=\"Original Epistemic Predictions\")\n",
    "epistTestNew.display_listener_matrix(newPreds, title=\"Expanded Epistemic Predictions\")\n",
    "\n",
    "#Plotting Code\n",
    "fig = plt.figure()\n",
    "#fig = plt.gcf()\n",
    "size = fig.get_size_inches()\n",
    "plt.figure(figsize=(size[0]*3,size[0]*0.8))\n",
    "gs = gridspec.GridSpec(1,2)\n",
    "plt.suptitle(\"Utterance: \\'Blue\\'\")\n",
    "\n",
    "toPlot=originalPreds[0,:]\n",
    "epsilon = 1e-7\n",
    "toPlot = [x+epsilon for x in toPlot]\n",
    "labels=epistTestOrig.meanings\n",
    "locs=range(len(toPlot))\n",
    "ax = plt.subplot(gs[0])\n",
    "ax.bar(locs,toPlot, align='center')\n",
    "ax.set_xlabel(\"Meanings\")\n",
    "ax.set_ylabel(\"Model predictions\")\n",
    "ax.set_title(\"Original Epistemic Predictions\") \n",
    "plt.xticks(locs, labels)\n",
    "axes = plt.gca()\n",
    "axes.set_ylim([0,1])\n",
    "\n",
    "#pos1 = ax.get_position() # get the original position \n",
    "#pos2 = [pos1.x0 + 1.3, pos1.y0 + 0.0,  pos1.width / 1.0, pos1.height / 1.0] \n",
    "#ax.set_position(pos2)\n",
    "\n",
    "ax2 = plt.subplot(gs[1])\n",
    "toPlot=newPreds[0,:]\n",
    "epsilon = 1e-7\n",
    "toPlot = [x+epsilon for x in toPlot]\n",
    "labels=epistTestNew.meanings\n",
    "locs=range(len(toPlot))\n",
    "ax2.bar(locs,toPlot, align='center')\n",
    "ax2.set_xlabel(\"Meanings\")\n",
    "ax2.set_ylabel(\"Model predictions\")\n",
    "ax2.set_title(\"Expanded Epistemic Predictions\") \n",
    "plt.xticks(locs, labels)\n",
    "axes = plt.gca()\n",
    "axes.set_ylim([0,1])\n",
    "#ax2.set_position(pos2)\n",
    "#ax.set_position(pos1)\n",
    "#plt.figure(2)\n",
    "plt.show()"
   ]
  },
  {
   "cell_type": "code",
   "execution_count": 158,
   "metadata": {
    "collapsed": false
   },
   "outputs": [
    {
     "name": "stdout",
     "output_type": "stream",
     "text": [
      "----------------------------------------------------\n",
      "Original Epistemic Predictions\n",
      "             Blue Square   Blue Circle  Green Square\n",
      "    'Blue'        0.3404        0.5936         0.066\n",
      "   'Green'        0.0542        0.0946        0.8512\n",
      "  'Circle'        0.0542        0.8512        0.0946\n",
      "  'Square'        0.3404         0.066        0.5936\n",
      "\n",
      "---------------------------------------------------------------------------------------\n",
      "Expanded Epistemic Predictions\n",
      "                Blue Square    Blue Circle   Green Square  Blue Triangle     Red Square\n",
      "      'Blue'         0.3284         0.5966         0.0663         0.0078         0.0009\n",
      "     'Green'         0.0521         0.0945         0.8509         0.0012         0.0012\n",
      "       'Red'         0.2053          0.373          0.373         0.0049         0.0438\n",
      "    'Circle'         0.0521         0.8509         0.0945         0.0012         0.0012\n",
      "    'Square'         0.3284         0.0663         0.5966         0.0009         0.0078\n",
      "  'Triangle'         0.2053          0.373          0.373         0.0438         0.0049\n",
      "\n"
     ]
    },
    {
     "data": {
      "text/plain": [
       "<matplotlib.figure.Figure at 0x7fbac512a910>"
      ]
     },
     "metadata": {},
     "output_type": "display_data"
    },
    {
     "data": {
      "image/png": "[encoded data removed]",
      "text/plain": [
       "<matplotlib.figure.Figure at 0x7fbac3a734d0>"
      ]
     },
     "metadata": {},
     "output_type": "display_data"
    }
   ],
   "source": [
    "import pragmaticModels\n",
    "reload( pragmaticModels)\n",
    "from pragmaticModels import PragmaticModel\n",
    "origPri=[.2,.4,.4]#Frank and Goodman 2012 rough empirical priors\n",
    "origLex=[[1,1,0],[0,0,1],[0,1,0],[1,0,1]]#Frank and Goodman 2012 full lexicon\n",
    "origMeans=[\"Blue Square\", \"Blue Circle\", \"Green Square\"]\n",
    "origUtts= [\"\\'Blue\\'\",\"\\'Green\\'\",\"\\'Circle\\'\",\"\\'Square\\'\"]\n",
    "origMaps = lexToMappingsRSAEquiv(origLex, origPri, .1) #RSA style relaxation for this lexicon\n",
    "\n",
    "newLex=[[1,1,0,1,0],[0,0,1,0,0],[0,0,0,0,1],[0,1,0,0,0],[1,0,1,0,1],[0,0,0,1,0]]#Frank and Goodman 2012 full lexicon\n",
    "newPriUnNorm=np.array(origPri + [0.01, 0.01])\n",
    "newPri=newPriUnNorm/sum(newPriUnNorm)\n",
    "newMaps = lexToMappingsRSAEquiv(newLex, newPri, .1) #RSA style relaxation for this lexicon\n",
    "newMeans=[\"Blue Square\", \"Blue Circle\", \"Green Square\", \"Blue Triangle\", \"Red Square\"]\n",
    "newUtts= [\"\\'Blue\\'\",\"\\'Green\\'\",\"\\'Red\\'\",\"\\'Circle\\'\",\"\\'Square\\'\",\"\\'Triangle\\'\"]\n",
    "\n",
    "#mapps=np.array([[0.8, 0.1, 0.1],[0.1,0.1,0.8]])\n",
    "epistTestOrig = PragmaticModel(modelType=\"BeliefDecay\", mappings=origMaps, meaningPriors=origPri, beliefStrength=1, meanings=origMeans, utterances=origUtts)\n",
    "epistTestNew = PragmaticModel(modelType=\"BeliefDecay\", mappings=newMaps, meaningPriors=newPri, beliefStrength=1, meanings=newMeans, utterances=newUtts)\n",
    "\n",
    "originalPreds=epistTestOrig.iterate(2)\n",
    "newPreds=epistTestNew.iterate(2)\n",
    "epistTestOrig.display_listener_matrix(originalPreds, title=\"Original Epistemic Predictions\")\n",
    "epistTestNew.display_listener_matrix(newPreds, title=\"Expanded Epistemic Predictions\")\n",
    "\n",
    "#Plotting Code\n",
    "fig = plt.figure()\n",
    "my_colors = 'rgbkymc'\n",
    "#fig = plt.gcf()\n",
    "size = fig.get_size_inches()\n",
    "plt.figure(figsize=(size[0]*3,size[0]*0.8))\n",
    "gs = gridspec.GridSpec(1,2)\n",
    "plt.suptitle(\"Utterance: \\'Blue\\'\")\n",
    "\n",
    "toPlot=originalPreds[0,:]\n",
    "epsilon = 1e-7\n",
    "toPlot = [x+epsilon for x in toPlot]\n",
    "labels=epistTestOrig.meanings\n",
    "locs=range(len(toPlot))\n",
    "ax = plt.subplot(gs[0])\n",
    "ax.bar(locs,toPlot, align='center')\n",
    "ax.set_xlabel(\"Meanings\")\n",
    "ax.set_ylabel(\"Model predictions\")\n",
    "ax.set_title(\"Original Epistemic Predictions\") \n",
    "plt.xticks(locs, labels)\n",
    "axes = plt.gca()\n",
    "axes.set_ylim([0,1])\n",
    "\n",
    "#pos1 = ax.get_position() # get the original position \n",
    "#pos2 = [pos1.x0 + 1.3, pos1.y0 + 0.0,  pos1.width / 1.0, pos1.height / 1.0] \n",
    "#ax.set_position(pos2)\n",
    "\n",
    "ax2 = plt.subplot(gs[1])\n",
    "toPlot=newPreds[0,:]\n",
    "epsilon = 1e-7\n",
    "toPlot = [x+epsilon for x in toPlot]\n",
    "labels=epistTestNew.meanings\n",
    "locs=range(len(toPlot))\n",
    "ax2.bar(locs,toPlot, align='center')\n",
    "ax2.set_xlabel(\"Meanings\")\n",
    "ax2.set_ylabel(\"Model predictions\")\n",
    "ax2.set_title(\"Expanded Epistemic Predictions\") \n",
    "plt.xticks(locs, labels)\n",
    "axes = plt.gca()\n",
    "axes.set_ylim([0,1])\n",
    "#ax2.set_position(pos2)\n",
    "#ax.set_position(pos1)\n",
    "#plt.figure(2)\n",
    "plt.show()"
   ]
  },
  {
   "cell_type": "code",
   "execution_count": 92,
   "metadata": {
    "collapsed": false
   },
   "outputs": [
    {
     "ename": "NameError",
     "evalue": "name 'newLex' is not defined",
     "output_type": "error",
     "traceback": [
      "\u001b[1;31m---------------------------------------------------------------------------\u001b[0m",
      "\u001b[1;31mNameError\u001b[0m                                 Traceback (most recent call last)",
      "\u001b[1;32m<ipython-input-92-cf6cdbe21554>\u001b[0m in \u001b[0;36m<module>\u001b[1;34m()\u001b[0m\n\u001b[1;32m----> 1\u001b[1;33m \u001b[0mrsaTestNew\u001b[0m \u001b[1;33m=\u001b[0m \u001b[0mPragmaticModel\u001b[0m\u001b[1;33m(\u001b[0m\u001b[0mmodelType\u001b[0m\u001b[1;33m=\u001b[0m\u001b[1;34m\"RSA\"\u001b[0m\u001b[1;33m,\u001b[0m \u001b[0mlexicon\u001b[0m\u001b[1;33m=\u001b[0m\u001b[0mnewLex\u001b[0m\u001b[1;33m,\u001b[0m \u001b[0mmeaningPriors\u001b[0m\u001b[1;33m=\u001b[0m\u001b[0mnewPri\u001b[0m\u001b[1;33m,\u001b[0m \u001b[0mmeanings\u001b[0m\u001b[1;33m=\u001b[0m\u001b[0mnewMeans\u001b[0m\u001b[1;33m,\u001b[0m \u001b[0mutterances\u001b[0m\u001b[1;33m=\u001b[0m\u001b[0mnewUtts\u001b[0m\u001b[1;33m)\u001b[0m\u001b[1;33m\u001b[0m\u001b[0m\n\u001b[0m\u001b[0;32m      2\u001b[0m \u001b[0mnewRSAPreds\u001b[0m\u001b[1;33m=\u001b[0m\u001b[0mepistTestNew\u001b[0m\u001b[1;33m.\u001b[0m\u001b[0miterate\u001b[0m\u001b[1;33m(\u001b[0m\u001b[1;36m2\u001b[0m\u001b[1;33m)\u001b[0m\u001b[1;33m\u001b[0m\u001b[0m\n\u001b[0;32m      3\u001b[0m \u001b[0mrsaTestNew\u001b[0m\u001b[1;33m.\u001b[0m\u001b[0mdisplay_listener_matrix\u001b[0m\u001b[1;33m(\u001b[0m\u001b[0mnewRSAPreds\u001b[0m\u001b[1;33m,\u001b[0m \u001b[0mtitle\u001b[0m\u001b[1;33m=\u001b[0m\u001b[1;34m\"Expanded RSA Predictions\"\u001b[0m\u001b[1;33m)\u001b[0m\u001b[1;33m\u001b[0m\u001b[0m\n\u001b[0;32m      4\u001b[0m \u001b[1;33m\u001b[0m\u001b[0m\n\u001b[0;32m      5\u001b[0m \u001b[1;33m\u001b[0m\u001b[0m\n",
      "\u001b[1;31mNameError\u001b[0m: name 'newLex' is not defined"
     ]
    }
   ],
   "source": [
    "rsaTestNew = PragmaticModel(modelType=\"RSA\", lexicon=newLex, meaningPriors=newPri, meanings=newMeans, utterances=newUtts)\n",
    "newRSAPreds=epistTestNew.iterate(2)\n",
    "rsaTestNew.display_listener_matrix(newRSAPreds, title=\"Expanded RSA Predictions\")\n",
    "\n",
    "\n",
    "#Plotting Code\n",
    "fig = plt.figure()\n",
    "#fig = plt.gcf()\n",
    "size = fig.get_size_inches()\n",
    "plt.figure(figsize=(size[0]*1.5,size[1]*0.8))\n",
    "gs = gridspec.GridSpec(1,2)\n",
    "plt.suptitle(\"Utterance: \\'Blue\\'\")\n",
    "\n",
    "toPlot=newRSAPreds[0,:]\n",
    "epsilon = 1e-7\n",
    "toPlot = [x+epsilon for x in toPlot]\n",
    "labels=rsaTestNew.meanings\n",
    "locs=range(len(toPlot))\n",
    "plt.bar(locs,toPlot, align='center')\n",
    "plt.xlabel(\"Meanings\")\n",
    "plt.ylabel(\"Model predictions\")\n",
    "plt.title(\"Utterance: \\'Blue\\'\") \n",
    "plt.suptitle(\"Expanded RSA Predictions\")\n",
    "plt.xticks(locs, labels)\n",
    "axes = plt.gca()\n",
    "axes.set_ylim([0,1])\n",
    "#plt.figure(2)\n",
    "plt.show()"
   ]
  },
  {
   "cell_type": "code",
   "execution_count": 30,
   "metadata": {
    "collapsed": false
   },
   "outputs": [],
   "source": [
    "reload(utilities)\n",
    "from utilities import relaxLex\n",
    "def mergeLexica(lexica, relaxation, lexWeights=None):\n",
    "    numLexica=len(lexica)\n",
    "    if lexWeights==None:\n",
    "        lexWeights=np.full(numLexica, 1.0/numLexica)\n",
    "    if sum(lexWeights)!=1:\n",
    "        raise ValueError(\"Lexicon weights must sum to 1\")\n",
    "    summed=np.zeros_like(lexica[0], dtype='float64')\n",
    "    for i, lex in enumerate(lexica):\n",
    "        summed=summed+lexWeights[i]*relaxLex(lex, relaxation)\n",
    "    return summed\n",
    "        \n"
   ]
  },
  {
   "cell_type": "code",
   "execution_count": 61,
   "metadata": {
    "collapsed": false
   },
   "outputs": [
    {
     "name": "stdout",
     "output_type": "stream",
     "text": [
      "[[ 0.1         0.9       ]\n",
      " [ 0.63333333  0.63333333]\n",
      " [ 0.9         0.9       ]]\n",
      "[[ 0.09090909  0.45454545  0.45454545]\n",
      " [ 0.47368421  0.26315789  0.26315789]]\n",
      "[[ 0.1  0.9]\n",
      " [ 0.7  0.3]]\n"
     ]
    }
   ],
   "source": [
    "reload(utilities)\n",
    "from utilities import mergeLexicaIntoMappings\n",
    "l1=[[0,1],[1,1],[1,1]]\n",
    "l2=[[0,1],[1,0],[1,1]]\n",
    "l3=[[0,1],[0,1],[1,1]]\n",
    "lexica=[l1,l2,l3]\n",
    "\n",
    "reasonableMappings=[[0.1,0.9],[.7,0.3]]\n",
    "\n",
    "#Merge the lexica into a joint thing\n",
    "mergedLex = mergeLexica(lexica, 0.1)\n",
    "mergedMaps = mergeLexicaIntoMappings(lexica, 0.1)\n",
    "print mergedLex\n",
    "print mergedMaps\n",
    "print np.array(reasonableMappings)\n",
    "#Run models on both\n",
    "\n",
    "#Try another version of the merged lexica where there is no null utterance bs"
   ]
  },
  {
   "cell_type": "code",
   "execution_count": 59,
   "metadata": {
    "collapsed": false
   },
   "outputs": [
    {
     "name": "stdout",
     "output_type": "stream",
     "text": [
      "----------------------------------------------------\n",
      "Predictions for merged version of epistemic lexical uncertainty\n",
      "                  Some but not all               All\n",
      "           'All'             0.161             0.839\n",
      "          'Some'            0.6333            0.3667\n",
      "  Null utterance            0.6333            0.3667\n",
      "\n",
      "--------------------------------------------\n",
      "Predictions for direct version of epistemic lexical uncertainty\n",
      "          Some but not all               All\n",
      "   'All'             0.125             0.875\n",
      "  'Some'              0.75              0.25\n",
      "\n"
     ]
    }
   ],
   "source": [
    "import pragmaticModels\n",
    "reload( pragmaticModels)\n",
    "from pragmaticModels import PragmaticModel\n",
    "from utilities import mergeLexicaIntoMappings\n",
    "\n",
    "l1=[[0,1],[1,1],[1,1]]\n",
    "l2=[[0,1],[1,0],[1,1]]\n",
    "l3=[[0,1],[0,1],[1,1]]\n",
    "lexica=[l1,l2,l3]\n",
    "mergedMaps = mergeLexicaIntoMappings(lexica, 0.1)\n",
    "reasonableMaps=np.array([[0.1,0.9],[.7,0.3]])\n",
    "\n",
    "means=[\"Some but not all\", \"All\"]\n",
    "uttsMerged=[\"\\'All\\'\", \"\\'Some\\'\", \"Null utterance\"]\n",
    "uttsDirect=[\"\\'All\\'\", \"\\'Some\\'\"]\n",
    "\n",
    "epistTestMerged = PragmaticModel(modelType=\"BeliefDecay\", mappings=mergedMaps, beliefStrength=1, meanings=means, utterances=uttsMerged)\n",
    "epistTestDirect = PragmaticModel(modelType=\"BeliefDecay\", mappings=reasonableMaps, beliefStrength=1, meanings=means, utterances=uttsDirect)\n",
    "\n",
    "mergedPreds=epistTestMerged.iterate(2)\n",
    "directPreds=epistTestDirect.iterate(2)\n",
    "epistTestMerged.display_listener_matrix(mergedPreds, title=\"Predictions for merged version of epistemic lexical uncertainty\")\n",
    "epistTestDirect.display_listener_matrix(directPreds, title=\"Predictions for direct version of epistemic lexical uncertainty\")\n",
    "\n",
    "#Figure out how to plot this as a grid of bars reflecting the entries in the matrix..."
   ]
  },
  {
   "cell_type": "code",
   "execution_count": 55,
   "metadata": {
    "collapsed": false
   },
   "outputs": [
    {
     "data": {
      "text/plain": [
       "array([ 0.5,  0.5])"
      ]
     },
     "execution_count": 55,
     "metadata": {},
     "output_type": "execute_result"
    }
   ],
   "source": [
    "epistTestMerged.meaningPriors"
   ]
  },
  {
   "cell_type": "code",
   "execution_count": 115,
   "metadata": {
    "collapsed": false
   },
   "outputs": [
    {
     "name": "stdout",
     "output_type": "stream",
     "text": [
      "------------------------------------------------------------------------------------------------------\n",
      "Predictions for adult knowledge in epistemic lexical uncertainty\n",
      "                                    Some but not all                      All  Other possible meanings\n",
      "                      'All'                   0.0625                   0.8125                    0.125\n",
      "                     'Some'                   0.6957                   0.2174                    0.087\n",
      "  Other possible utterances                   0.1429                   0.0952                   0.7619\n",
      "\n",
      "------------------------------------------------------------------------------------------------------\n",
      "Predictions for child knowledge in epistemic lexical uncertainty\n",
      "                                    Some but not all                      All  Other possible meanings\n",
      "                      'All'                   0.1212                   0.3939                   0.4848\n",
      "                     'Some'                   0.6316                   0.2632                   0.1053\n",
      "  Other possible utterances                   0.4286                   0.2857                   0.2857\n",
      "\n"
     ]
    }
   ],
   "source": [
    "#Developmental model\n",
    "\n",
    "reasonableMapsAdult=np.array([[0.05,0.8,0.15],[0.65,0.25,0.1], [0.1,0.1,0.8]])\n",
    "reasonableMapsChild=np.array([[0.2,0.6,0.15],[0.65,0.25,0.1], [0.8,0.1,0.1]])#A child who doesn't know the word \"all\" in relation to \"some\"\n",
    "\n",
    "priorsChild=[]#Might want to fux with these\n",
    "\n",
    "means=[\"Some but not all\", \"All\", \"Other possible meanings\"]\n",
    "#Justify the auxilliary thing by arguing that it represents the joint contribution of other things that might be communicated\n",
    "utts=[\"\\'All\\'\", \"\\'Some\\'\", \"Other possible utterances\"]\n",
    "#Justify the auxilliary thing by arguing that it represents the joint contribution of other things that might be said\n",
    "\n",
    "#Might want to include a meaning for \"some and possibly including all\"\n",
    "\n",
    "epistTestAdult = PragmaticModel(modelType=\"BeliefDecay\", mappings=reasonableMapsAdult, beliefStrength=1, meanings=means, utterances=utts)\n",
    "epistTestChild = PragmaticModel(modelType=\"BeliefDecay\", mappings=reasonableMapsChild, beliefStrength=1, meanings=means, utterances=utts)\n",
    "\n",
    "adultPreds=epistTestAdult.iterate(2)\n",
    "childPreds=epistTestChild.iterate(2)\n",
    "epistTestAdult.display_listener_matrix(adultPreds, title=\"Predictions for adult knowledge in epistemic lexical uncertainty\")\n",
    "epistTestChild.display_listener_matrix(childPreds, title=\"Predictions for child knowledge in epistemic lexical uncertainty\")"
   ]
  },
  {
   "cell_type": "code",
   "execution_count": 112,
   "metadata": {
    "collapsed": false
   },
   "outputs": [
    {
     "name": "stdout",
     "output_type": "stream",
     "text": [
      "------------------------------------------------------------------------------------------------------\n",
      "Predictions for adult knowledge in epistemic lexical uncertainty\n",
      "                                    Some but not all                      All  Other possible meanings\n",
      "                      'All'                   0.0625                   0.8125                    0.125\n",
      "                     'Some'                   0.6957                   0.2174                    0.087\n",
      "  Other possible utterances                   0.1429                   0.0952                   0.7619\n",
      "\n",
      "------------------------------------------------------------------------------------------------------\n",
      "Predictions for child knowledge in epistemic lexical uncertainty\n",
      "                                    Some but not all                      All  Other possible meanings\n",
      "                      'All'                   0.0333                   0.4333                   0.5333\n",
      "                     'Some'                   0.6957                   0.2174                    0.087\n",
      "  Other possible utterances                   0.4286                   0.2857                   0.2857\n",
      "\n"
     ]
    }
   ],
   "source": [
    "#Developmental model\n",
    "\n",
    "reasonableMapsAdult=np.array([[0.05,0.8,0.15],[0.65,0.25,0.1], [0.1,0.1,0.8]])\n",
    "reasonableMapsChild=np.array([[0.05,0.8,0.15],[0.65,0.25,0.1], [0.8,0.1,0.1]])#A child who doesn't know the word \"all\" in relation to \"some\"\n",
    "\n",
    "priorsChild=[]#Might want to fux with these\n",
    "\n",
    "means=[\"Some but not all\", \"Some including all\", \"All\", \"Other possible meanings\"]\n",
    "#Justify the auxilliary thing by arguing that it represents the joint contribution of other things that might be communicated\n",
    "utts=[\"\\'All\\'\", \"\\'Some\\'\", \"Other possible utterances\"]\n",
    "#Justify the auxilliary thing by arguing that it represents the joint contribution of other things that might be said\n",
    "\n",
    "#Might want to include a meaning for \"some and possibly including all\"\n",
    "\n",
    "epistTestAdult = PragmaticModel(modelType=\"BeliefDecay\", mappings=reasonableMapsAdult, beliefStrength=1, meanings=means, utterances=utts)\n",
    "epistTestChild = PragmaticModel(modelType=\"BeliefDecay\", mappings=reasonableMapsChild, beliefStrength=1, meanings=means, utterances=utts)\n",
    "\n",
    "adultPreds=epistTestAdult.iterate(2)\n",
    "childPreds=epistTestChild.iterate(2)\n",
    "epistTestAdult.display_listener_matrix(adultPreds, title=\"Predictions for adult knowledge in epistemic lexical uncertainty\")\n",
    "epistTestChild.display_listener_matrix(childPreds, title=\"Predictions for child knowledge in epistemic lexical uncertainty\")"
   ]
  },
  {
   "cell_type": "code",
   "execution_count": 116,
   "metadata": {
    "collapsed": false
   },
   "outputs": [
    {
     "data": {
      "image/png": "[encoded data removed]",
      "text/plain": [
       "<matplotlib.figure.Figure at 0x7fbac50b8b10>"
      ]
     },
     "metadata": {},
     "output_type": "display_data"
    }
   ],
   "source": [
    "#Plotting Code\n",
    "fig = plt.figure()\n",
    "#fig = plt.gcf()\n",
    "%matplotlib inline\n",
    "size = fig.get_size_inches()\n",
    "plt.figure(figsize=(size[0]*1,size[1]*1.5))\n",
    "gs = gridspec.GridSpec(3,1)\n",
    "plt.suptitle(\"Predictions for adult knowledge in epistemic lexical uncertainty\")\n",
    "for i in range(3):\n",
    "    toPlot=adultPreds[i,:]\n",
    "    epsilon = 1e-7\n",
    "    toPlot = [x+epsilon for x in toPlot]\n",
    "    labels=epistTestAdult.meanings\n",
    "    locs=range(len(toPlot))\n",
    "    ax = plt.subplot(gs[i])\n",
    "    ax.bar(locs,toPlot, align='center')\n",
    "    #ax.set_xlabel(\"Meanings\")\n",
    "    #ax.set_ylabel(\"Model predictions\")\n",
    "    if i==2:\n",
    "        plt.xticks(locs, labels)\n",
    "    else: ax.xaxis.set_visible(False)\n",
    "    ax.set_title(epistTestAdult.utterances[i]) \n",
    "    axes = plt.gca()\n",
    "    axes.set_ylim([0,1])\n",
    "plt.xlabel(\"Meanings\")\n",
    "#plt.ylabel(\"Model predictions\", verticalalignment = 'bottom', horizontalalignment=\"left\")\n",
    "plt.ylabel(\"Model predictions\", position=[0,1.5])\n",
    "\n",
    "plt.show()"
   ]
  },
  {
   "cell_type": "code",
   "execution_count": 67,
   "metadata": {
    "collapsed": false
   },
   "outputs": [
    {
     "data": {
      "text/plain": [
       "\"'All'\""
      ]
     },
     "execution_count": 67,
     "metadata": {},
     "output_type": "execute_result"
    }
   ],
   "source": [
    "epistTestAdult.utterances[0]"
   ]
  },
  {
   "cell_type": "code",
   "execution_count": 114,
   "metadata": {
    "collapsed": false
   },
   "outputs": [
    {
     "data": {
      "text/plain": [
       "array([[ 0.05,  0.8 ,  0.15],\n",
       "       [ 0.65,  0.25,  0.1 ],\n",
       "       [ 0.1 ,  0.1 ,  0.8 ]])"
      ]
     },
     "execution_count": 114,
     "metadata": {},
     "output_type": "execute_result"
    }
   ],
   "source": [
    "reasonableMapsAdult"
   ]
  },
  {
   "cell_type": "code",
   "execution_count": 188,
   "metadata": {
    "collapsed": false
   },
   "outputs": [
    {
     "name": "stdout",
     "output_type": "stream",
     "text": [
      "------------------------------------------------------------------------------------------------------\n",
      "SCIMPI predictions for adult knowledge on specificity implicatures\n",
      "                                    Some but not all                      All  Other possible meanings\n",
      "                      'All'                   0.0588                   0.7647                   0.1765\n",
      "                     'Some'                   0.7273                   0.2273                   0.0455\n",
      "  Other possible utterances                   0.1429                   0.0952                   0.7619\n",
      "\n",
      "------------------------------------------------------------------------------------------------------\n",
      "SCIMPI predictions for child knowledge on specificity implicatures\n",
      "                                    Some but not all                      All  Other possible meanings\n",
      "                      'All'                   0.0208                   0.9479                   0.0312\n",
      "                     'Some'                   0.4706                   0.5147                   0.0147\n",
      "  Other possible utterances                   0.1667                   0.3889                   0.4444\n",
      "\n"
     ]
    },
    {
     "data": {
      "text/plain": [
       "<matplotlib.figure.Figure at 0x7fbac507e0d0>"
      ]
     },
     "metadata": {},
     "output_type": "display_data"
    },
    {
     "data": {
      "image/png": "[encoded data removed]",
      "text/plain": [
       "<matplotlib.figure.Figure at 0x7fbac3ae8310>"
      ]
     },
     "metadata": {},
     "output_type": "display_data"
    },
    {
     "data": {
      "text/plain": [
       "<matplotlib.figure.Figure at 0x7fbac5018a50>"
      ]
     },
     "metadata": {},
     "output_type": "display_data"
    },
    {
     "data": {
      "image/png": "[encoded data removed]",
      "text/plain": [
       "<matplotlib.figure.Figure at 0x7fbac4aadf50>"
      ]
     },
     "metadata": {},
     "output_type": "display_data"
    }
   ],
   "source": [
    "#Developmental model\n",
    "\n",
    "reasonableMapsAdult=np.array([[0.05,0.8,0.15],[0.65,0.25,0.1], [0.15,0.05,0.8]])\n",
    "reasonableMapsChild=np.array([[0.05,0.8,0.15],[0.65,0.25,0.1], [0.15,0.05,0.8]])#A child who doesn't know the word \"all\" in relation to \"some\"\n",
    "\n",
    "priorsChild=[.2,0.7,0.1]#Might want to change these depending on the theory\n",
    "\n",
    "means=[\"Some but not all\", \"All\", \"Other possible meanings\"]\n",
    "#Justify the auxilliary thing by arguing that it represents the joint contribution of other things that might be communicated\n",
    "utts=[\"\\'All\\'\", \"\\'Some\\'\", \"Other possible utterances\"]\n",
    "#Justify the auxilliary thing by arguing that it represents the joint contribution of other things that might be said\n",
    "\n",
    "#Might want to include a meaning for \"some and possibly including all\"\n",
    "\n",
    "epistTestAdult = PragmaticModel(modelType=\"BeliefDecay\", mappings=reasonableMapsAdult, beliefStrength=1, meanings=means, utterances=utts)\n",
    "epistTestChild = PragmaticModel(modelType=\"BeliefDecay\", mappings=reasonableMapsChild, beliefStrength=1, meaningPriors=priorsChild, meanings=means, utterances=utts)\n",
    "\n",
    "adultPreds=epistTestAdult.iterate(2)\n",
    "childPreds=epistTestChild.iterate(2)\n",
    "epistTestAdult.display_listener_matrix(adultPreds, title=\"SCIMPI predictions for adult knowledge on specificity implicatures\")\n",
    "epistTestChild.display_listener_matrix(childPreds, title=\"SCIMPI predictions for child knowledge on specificity implicatures\")\n",
    "\n",
    "reload(util)\n",
    "from utilities import gridPlotPredictions\n",
    "\n",
    "gridPlotPredictions(epistTestAdult, adultPreds, \"SCIMPI predictions for adult knowledge on specificity implicatures\", multiColor=True)\n",
    "gridPlotPredictions(epistTestChild, childPreds, \"SCIMPI predictions for child knowledge on specificity implicatures\", multiColor=True)"
   ]
  },
  {
   "cell_type": "code",
   "execution_count": 123,
   "metadata": {
    "collapsed": false
   },
   "outputs": [
    {
     "name": "stdout",
     "output_type": "stream",
     "text": [
      "[[ 0.05  0.8   0.15]\n",
      " [ 0.65  0.25  0.1 ]\n",
      " [ 0.1   0.1   0.8 ]]\n",
      "[[ 0.23169204  0.46338408  0.30492388]\n",
      " [ 0.41428529  0.32625425  0.25946046]\n",
      " [ 0.27160681  0.27160681  0.45678638]]\n"
     ]
    }
   ],
   "source": [
    "print reasonableMapsAdult\n",
    "print scaleDist(reasonableMapsAdult,0.25)"
   ]
  },
  {
   "cell_type": "code",
   "execution_count": 125,
   "metadata": {
    "collapsed": false
   },
   "outputs": [
    {
     "data": {
      "text/plain": [
       "3"
      ]
     },
     "execution_count": 125,
     "metadata": {},
     "output_type": "execute_result"
    }
   ],
   "source": [
    "len(epistTestChild.utterances)"
   ]
  },
  {
   "cell_type": "code",
   "execution_count": 143,
   "metadata": {
    "collapsed": false
   },
   "outputs": [
    {
     "name": "stdout",
     "output_type": "stream",
     "text": [
      "------------------------------------------------------------------------------------------------------\n",
      "SCIMPI predictions for child knowledge on specificity implicatures\n",
      "                                    Some but not all                      All  Other possible meanings\n",
      "                      'All'                   0.3333                   0.3333                   0.3333\n",
      "                     'Some'                   0.4706                   0.4706                   0.0588\n",
      "  Other possible utterances                      0.1                      0.1                      0.8\n",
      "\n"
     ]
    },
    {
     "data": {
      "text/plain": [
       "<matplotlib.figure.Figure at 0x7fbac3a19290>"
      ]
     },
     "metadata": {},
     "output_type": "display_data"
    },
    {
     "data": {
      "image/png": "[encoded data removed]",
      "text/plain": [
       "<matplotlib.figure.Figure at 0x7fbac5135650>"
      ]
     },
     "metadata": {},
     "output_type": "display_data"
    }
   ],
   "source": [
    "#Developmental model\n",
    "\n",
    "reasonableMapsChild=np.array([[0.1,0.8,0.1],[0.1,0.8,0.1], [0.1,0.1,0.8]])#A child who doesn't know the word \"all\" in relation to \"some\"\n",
    "\n",
    "\n",
    "means=[\"Some but not all\", \"All\", \"Other possible meanings\"]\n",
    "#Justify the auxilliary thing by arguing that it represents the joint contribution of other things that might be communicated\n",
    "utts=[\"\\'All\\'\", \"\\'Some\\'\", \"Other possible utterances\"]\n",
    "#Justify the auxilliary thing by arguing that it represents the joint contribution of other things that might be said\n",
    "\n",
    "#Might want to include a meaning for \"some and possibly including all\"\n",
    "\n",
    "epistTestChild = PragmaticModel(modelType=\"BeliefDecay\", mappings=reasonableMapsChild, beliefStrength=1, meanings=means, utterances=utts)\n",
    "\n",
    "childPreds=epistTestChild.iterate(2)\n",
    "epistTestChild.display_listener_matrix(childPreds, title=\"SCIMPI predictions for child knowledge on specificity implicatures\")\n",
    "\n",
    "reload(util)\n",
    "from utilities import gridPlotPredictions\n",
    "\n",
    "gridPlotPredictions(epistTestChild, childPreds, \"SCIMPI predictions for child knowledge on specificity implicatures (langauge modulated)\")"
   ]
  },
  {
   "cell_type": "code",
   "execution_count": 193,
   "metadata": {
    "collapsed": false
   },
   "outputs": [
    {
     "name": "stdout",
     "output_type": "stream",
     "text": [
      "--------------------------------------------\n",
      "L - Lexical uncertainty model\n",
      "          some but not all               all\n",
      "   \"all\"               0.0               1.0\n",
      "  \"some\"             0.863             0.137\n",
      "    null            0.9973            0.0027\n",
      "\n"
     ]
    },
    {
     "data": {
      "image/png": "[encoded data removed]",
      "text/plain": [
       "<matplotlib.figure.Figure at 0x7fbace0e3990>"
      ]
     },
     "metadata": {},
     "output_type": "display_data"
    }
   ],
   "source": [
    "#Lexical Uncertainty Specificity Implicature\n",
    "\n",
    "from pragmods import Pragmod\n",
    "TT = [1.0, 1.0]\n",
    "TF = [1.0, 0.0]\n",
    "FT = [0.0, 1.0]\n",
    "\n",
    "# Semantics for the null message fixed for all lexica:\n",
    "nullsem = [1.0, 1.0]\n",
    "\n",
    "# The nine logically distinct lexica -- message rows, world columns:\n",
    "lexica = [\n",
    "    np.array([FT, TT, nullsem]),\n",
    "    np.array([FT, TF, nullsem]),\n",
    "    np.array([FT, FT, nullsem]),]\n",
    "\n",
    "# General model with the temperature parameter (lambda) set aggressively:\n",
    "mod = Pragmod(\n",
    "    lexica=lexica,\n",
    "    messages=['\\\"all\\\"', '\\\"some\\\"', 'null'], # Messsages and\n",
    "    states=['some but not all', 'all'],               # World-types and      \n",
    "    prior=np.array([0.5, 0.5]),                      # their prior.\n",
    "    lexprior=np.repeat(1.0/len(lexica), len(lexica)),        # Flat lex prior.\n",
    "    temperature=1.0,\n",
    "    alpha=1.0, \n",
    "    beta=1.0) # Relevant only for the anxious experts model.\n",
    "\n",
    "# Compare the final listeners (display=True for full model output):\n",
    "# Iteration depth (sort of arbitrary here):\n",
    "n = 3\n",
    "\n",
    "\n",
    "# Basic lexical uncertainty model:\n",
    "lulangs = mod.run_uncertainty_model(n=n, display=False)\n",
    "mod.display_listener_matrix(lulangs[-1], title=\" - Lexical uncertainty model\")       \n",
    "predictions=lulangs[-1]\n",
    "\n",
    "#Plotting Code\n",
    "fig = plt.figure()\n",
    "my_colors = utilities.customColors()\n",
    "\n",
    "#fig = plt.gcf()\n",
    "%matplotlib inline\n",
    "size = fig.get_size_inches()\n",
    "plt.figure(figsize=(size[0]*1,size[1]*1.5))\n",
    "gs = gridspec.GridSpec(3,1)\n",
    "plt.suptitle(\"Lexical uncertainty specificity implicature\", fontsize=14, fontweight='bold')\n",
    "for i in range(3):\n",
    "    toPlot=predictions[i,:]\n",
    "    epsilon = 1e-7\n",
    "    toPlot = [x+epsilon for x in toPlot]\n",
    "    labels=mod.states\n",
    "    locs=range(len(toPlot))\n",
    "    ax = plt.subplot(gs[i])\n",
    "    ax.bar(locs,toPlot, align='center', color=my_colors)\n",
    "    #ax.set_xlabel(\"Meanings\")\n",
    "    #ax.set_ylabel(\"Model predictions\")\n",
    "    if i==2:\n",
    "        plt.xticks(locs, labels)\n",
    "    else: ax.xaxis.set_visible(False)\n",
    "    ax.set_title(mod.messages[i]) \n",
    "    axes = plt.gca()\n",
    "    axes.set_ylim([0,1])\n",
    "plt.xlabel(\"Meanings\")\n",
    "#plt.ylabel(\"Model predictions\", verticalalignment = 'bottom', horizontalalignment=\"left\")\n",
    "plt.ylabel(\"Model predictions\", position=[0,1.5])\n",
    "\n",
    "plt.show()"
   ]
  },
  {
   "cell_type": "code",
   "execution_count": 164,
   "metadata": {
    "collapsed": false
   },
   "outputs": [
    {
     "data": {
      "text/plain": [
       "array([[ 0.        ,  1.        ],\n",
       "       [ 0.86300493,  0.13699507],\n",
       "       [ 0.99727002,  0.00272998]])"
      ]
     },
     "execution_count": 164,
     "metadata": {},
     "output_type": "execute_result"
    }
   ],
   "source": [
    "lulangs[-1]"
   ]
  },
  {
   "cell_type": "code",
   "execution_count": 167,
   "metadata": {
    "collapsed": false
   },
   "outputs": [
    {
     "data": {
      "text/plain": [
       "['some but not all', 'all']"
      ]
     },
     "execution_count": 167,
     "metadata": {},
     "output_type": "execute_result"
    }
   ],
   "source": [
    "mod.states"
   ]
  },
  {
   "cell_type": "code",
   "execution_count": 185,
   "metadata": {
    "collapsed": false
   },
   "outputs": [
    {
     "name": "stdout",
     "output_type": "stream",
     "text": [
      "--------------------------------------------\n",
      "SCIMPI predictions for adult knowledge on specificity implicatures\n",
      "          Some but not all               All\n",
      "   'All'            0.0769            0.9231\n",
      "  'Some'            0.7273            0.2727\n",
      "\n",
      "--------------------------------------------\n",
      "SCIMPI predictions for child knowledge on specificity implicatures\n",
      "          Some but not all               All\n",
      "   'All'             0.027             0.973\n",
      "  'Some'            0.4706            0.5294\n",
      "\n"
     ]
    },
    {
     "data": {
      "text/plain": [
       "<matplotlib.figure.Figure at 0x7fbac4eade90>"
      ]
     },
     "metadata": {},
     "output_type": "display_data"
    },
    {
     "data": {
      "image/png": "[encoded data removed]",
      "text/plain": [
       "<matplotlib.figure.Figure at 0x7fbac4570690>"
      ]
     },
     "metadata": {},
     "output_type": "display_data"
    },
    {
     "data": {
      "text/plain": [
       "<matplotlib.figure.Figure at 0x7fbac598aa10>"
      ]
     },
     "metadata": {},
     "output_type": "display_data"
    },
    {
     "data": {
      "image/png": "[encoded data removed]",
      "text/plain": [
       "<matplotlib.figure.Figure at 0x7fbac3b2ea10>"
      ]
     },
     "metadata": {},
     "output_type": "display_data"
    }
   ],
   "source": [
    "#SCIMPI simplified development model\n",
    "\n",
    "#Developmental model\n",
    "\n",
    "reasonableMapsAdult=np.array([[0.05,0.8],[0.6,0.3]])\n",
    "reasonableMapsChild=np.array([[0.05,0.8],[0.6,0.3]])#A child who doesn't know the word \"all\" in relation to \"some\"\n",
    "\n",
    "priorsChild=[.25,0.75]#Might want to change these depending on the theory\n",
    "\n",
    "means=[\"Some but not all\", \"All\"]\n",
    "#Justify the auxilliary thing by arguing that it represents the joint contribution of other things that might be communicated\n",
    "utts=[\"\\'All\\'\", \"\\'Some\\'\"]\n",
    "#Justify the auxilliary thing by arguing that it represents the joint contribution of other things that might be said\n",
    "\n",
    "#Might want to include a meaning for \"some and possibly including all\"\n",
    "\n",
    "epistTestAdult = PragmaticModel(modelType=\"BeliefDecay\", mappings=reasonableMapsAdult, beliefStrength=1, meanings=means, utterances=utts)\n",
    "epistTestChild = PragmaticModel(modelType=\"BeliefDecay\", mappings=reasonableMapsChild, beliefStrength=1, meaningPriors=priorsChild, meanings=means, utterances=utts)\n",
    "\n",
    "adultPreds=epistTestAdult.iterate(2)\n",
    "childPreds=epistTestChild.iterate(2)\n",
    "epistTestAdult.display_listener_matrix(adultPreds, title=\"SCIMPI predictions for adult knowledge on specificity implicatures\")\n",
    "epistTestChild.display_listener_matrix(childPreds, title=\"SCIMPI predictions for child knowledge on specificity implicatures\")\n",
    "\n",
    "reload(util)\n",
    "from utilities import gridPlotPredictions\n",
    "\n",
    "gridPlotPredictions(epistTestAdult, adultPreds, \"SCIMPI predictions for adult knowledge on specificity implicatures\", multiColor=True)\n",
    "gridPlotPredictions(epistTestChild, childPreds, \"SCIMPI predictions for child knowledge on specificity implicatures\")"
   ]
  },
  {
   "cell_type": "code",
   "execution_count": 211,
   "metadata": {
    "collapsed": false
   },
   "outputs": [
    {
     "ename": "IndentationError",
     "evalue": "expected an indented block (<ipython-input-211-696bd9397831>, line 70)",
     "output_type": "error",
     "traceback": [
      "\u001b[1;36m  File \u001b[1;32m\"<ipython-input-211-696bd9397831>\"\u001b[1;36m, line \u001b[1;32m70\u001b[0m\n\u001b[1;33m    plt.show()\u001b[0m\n\u001b[1;37m      ^\u001b[0m\n\u001b[1;31mIndentationError\u001b[0m\u001b[1;31m:\u001b[0m expected an indented block\n"
     ]
    }
   ],
   "source": [
    "#Epistemic model\n",
    "import pragmaticModels\n",
    "reload( pragmaticModels)\n",
    "from pragmaticModels import PragmaticModel\n",
    "origPri=[.2,.4,.4]#Frank and Goodman 2012 rough empirical priors\n",
    "lex=[[1,1,0],[0,0,1],[0,1,0],[1,0,1]]#Frank and Goodman 2012 full lexicon\n",
    "origMeans=[\"Blue Square\", \"Blue Circle\", \"Green Square\"]\n",
    "origUtts= [\"\\'Blue\\'\",\"\\'Green\\'\",\"\\'Circle\\'\",\"\\'Square\\'\"]\n",
    "origMaps = lexToMappingsRSAEquiv(lex, origPri, .1) #RSA style relaxation for this lexicon\n",
    "\n",
    "newMapps = np.append(origMaps, np.array([[0.01,0.01,0.01,0.01]]), axis=0)\n",
    "newMapps = np.append(newMapps, np.array([[0.01,0.01,0.01,0.01]]), axis=0)\n",
    "newMapps = np.append(newMapps, np.array([[0.02],[0.01],[0.04],[1.0],[0.01]]), axis=1)\n",
    "newMapps = np.append(newMapps, np.array([[0.01],[0.03],[0.02],[0.01],[1.0]]), axis=1)\n",
    "#need to normalize these...\n",
    "\n",
    "newPriUnNorm=np.array(origPri + [0.3, 0.3])\n",
    "newPri=newPriUnNorm/sum(newPriUnNorm)\n",
    "newMeans=[\"Blue Square\", \"Blue Circle\", \"Green Square\", \"Orange Triangle\", \"Red Hexagon\"]\n",
    "newUtts= [\"\\'Blue\\'\",\"\\'Green\\'\",\"\\'Circle\\'\",\"\\'Square\\'\",\"\\'Triangle\\'\", \"\\'Hexagon\\'\"]\n",
    "\n",
    "#mapps=np.array([[0.8, 0.1, 0.1],[0.1,0.1,0.8]])\n",
    "epistTestOrig = PragmaticModel(modelType=\"BeliefDecay\", mappings=origMaps, meaningPriors=origPri, beliefStrength=1, meanings=origMeans, utterances=origUtts)\n",
    "epistTestNew = PragmaticModel(modelType=\"BeliefDecay\", mappings=newMapps, meaningPriors=newPri, beliefStrength=1, meanings=newMeans, utterances=newUtts)\n",
    "\n",
    "originalPreds=epistTestOrig.iterate(2)\n",
    "newPreds=epistTestNew.iterate(2)\n",
    "epistTestOrig.display_listener_matrix(originalPreds, title=\"Original Epistemic Predictions\")\n",
    "epistTestNew.display_listener_matrix(newPreds, title=\"Expanded Epistemic Predictions\")\n",
    "\n",
    "\n",
    "model=epistTestNew\n",
    "modelPredictions=newPreds\n",
    "title=\"Expanded Epistemic Predictions\"\n",
    "multiColor=True\n",
    "filename=None\n",
    "\n",
    "fig = plt.figure()\n",
    "utts=model.utterances\n",
    "means=model.meanings\n",
    "numUtts=len(utts)\n",
    "\n",
    "size = fig.get_size_inches()\n",
    "plt.figure(figsize=(size[0]*1.5,size[1]*3))\n",
    "gs = gridspec.GridSpec(numUtts,1)\n",
    "plt.suptitle(title, fontsize=14, fontweight='bold')\n",
    "for i in range(numUtts):\n",
    "    toPlot=modelPredictions[i,:]\n",
    "    epsilon = 1e-7\n",
    "    toPlot = [x+epsilon for x in toPlot]\n",
    "    locs=range(len(toPlot))\n",
    "    ax = plt.subplot(gs[i])\n",
    "    if multiColor==True:\n",
    "        my_colors = utilities.customColors()\n",
    "        ax.bar(locs,toPlot, align='center', color=my_colors)\n",
    "    else: ax.bar(locs,toPlot, align='center')\n",
    "    #ax.set_xlabel(\"Meanings\")\n",
    "    #ax.set_ylabel(\"Model predictions\")\n",
    "    if i==numUtts-1:\n",
    "        plt.xticks(locs, means)\n",
    "    else: ax.xaxis.set_visible(False)\n",
    "    ax.set_title(utts[i]) \n",
    "    axes = plt.gca()\n",
    "    axes.set_ylim([0,1])\n",
    "plt.xlabel(\"Meanings\",fontsize=12)\n",
    "plt.ylabel(\"Model predictions\", position=[0,3.5],fontsize=12)\n",
    "\n",
    "if filename!=None:\n",
    "\n",
    "plt.show()\n",
    "print newMapps"
   ]
  },
  {
   "cell_type": "code",
   "execution_count": 212,
   "metadata": {
    "collapsed": false
   },
   "outputs": [
    {
     "ename": "IndentationError",
     "evalue": "expected an indented block (<ipython-input-212-4dc40a5915de>, line 64)",
     "output_type": "error",
     "traceback": [
      "\u001b[1;36m  File \u001b[1;32m\"<ipython-input-212-4dc40a5915de>\"\u001b[1;36m, line \u001b[1;32m64\u001b[0m\n\u001b[1;33m    plt.show()\u001b[0m\n\u001b[1;37m      ^\u001b[0m\n\u001b[1;31mIndentationError\u001b[0m\u001b[1;31m:\u001b[0m expected an indented block\n"
     ]
    }
   ],
   "source": [
    "#RSA model\n",
    "import pragmaticModels\n",
    "reload( pragmaticModels)\n",
    "from pragmaticModels import PragmaticModel\n",
    "origPri=[.2,.4,.4]#Frank and Goodman 2012 rough empirical priors\n",
    "lex=[[1,1,0],[0,0,1],[0,1,0],[1,0,1]]#Frank and Goodman 2012 full lexicon\n",
    "origMeans=[\"Blue Square\", \"Blue Circle\", \"Green Square\"]\n",
    "origUtts= [\"\\'Blue\\'\",\"\\'Green\\'\",\"\\'Circle\\'\",\"\\'Square\\'\"]\n",
    "origMaps = lexToMappingsRSAEquiv(lex, origPri, .1) #RSA style relaxation for this lexicon\n",
    "\n",
    "newMapps = np.append(origMaps, np.array([[0.01,0.01,0.01,0.01]]), axis=0)\n",
    "newMapps = np.append(newMapps, np.array([[0.01,0.01,0.01,0.01]]), axis=0)\n",
    "newMapps = np.append(newMapps, np.array([[0.02],[0.01],[0.04],[1.0],[0.01]]), axis=1)\n",
    "newMapps = np.append(newMapps, np.array([[0.01],[0.03],[0.02],[0.01],[1.0]]), axis=1)\n",
    "\n",
    "newPriUnNorm=np.array(origPri + [0.3, 0.3])\n",
    "newPri=newPriUnNorm/sum(newPriUnNorm)\n",
    "newMeans=[\"Blue Square\", \"Blue Circle\", \"Green Square\", \"Orange Triangle\", \"Red Hexagon\"]\n",
    "newUtts= [\"\\'Blue\\'\",\"\\'Green\\'\",\"\\'Circle\\'\",\"\\'Square\\'\",\"\\'Triangle\\'\", \"\\'Hexagon\\'\"]\n",
    "\n",
    "rsaTestNew = PragmaticModel(modelType=\"RSA\", lexicon=newLex, meaningPriors=newPri, meanings=newMeans, utterances=newUtts)\n",
    "newRSAPreds=rsaTestNew.iterate(3)\n",
    "rsaTestNew.display_listener_matrix(newRSAPreds, title=\"Expanded RSA Predictions\")\n",
    "\n",
    "\n",
    "model=epistTestNew\n",
    "modelPredictions=newPreds\n",
    "title=\"Expanded Epistemic Predictions\"\n",
    "multiColor=True\n",
    "filename=None\n",
    "\n",
    "fig = plt.figure()\n",
    "utts=model.utterances\n",
    "means=model.meanings\n",
    "numUtts=len(utts)\n",
    "\n",
    "size = fig.get_size_inches()\n",
    "plt.figure(figsize=(size[0]*1.5,size[1]*3))\n",
    "gs = gridspec.GridSpec(numUtts,1)\n",
    "plt.suptitle(title, fontsize=14, fontweight='bold')\n",
    "for i in range(numUtts):\n",
    "    toPlot=modelPredictions[i,:]\n",
    "    epsilon = 1e-7\n",
    "    toPlot = [x+epsilon for x in toPlot]\n",
    "    locs=range(len(toPlot))\n",
    "    ax = plt.subplot(gs[i])\n",
    "    if multiColor==True:\n",
    "        my_colors = utilities.customColors()\n",
    "        ax.bar(locs,toPlot, align='center', color=my_colors)\n",
    "    else: ax.bar(locs,toPlot, align='center')\n",
    "    #ax.set_xlabel(\"Meanings\")\n",
    "    #ax.set_ylabel(\"Model predictions\")\n",
    "    if i==numUtts-1:\n",
    "        plt.xticks(locs, means)\n",
    "    else: ax.xaxis.set_visible(False)\n",
    "    ax.set_title(utts[i]) \n",
    "    axes = plt.gca()\n",
    "    axes.set_ylim([0,1])\n",
    "plt.xlabel(\"Meanings\",fontsize=12)\n",
    "plt.ylabel(\"Model predictions\", position=[0,3.5],fontsize=12)\n",
    "\n",
    "if filename!=None:\n",
    "\n",
    "plt.show()\n"
   ]
  },
  {
   "cell_type": "code",
   "execution_count": 209,
   "metadata": {
    "collapsed": false
   },
   "outputs": [
    {
     "name": "stdout",
     "output_type": "stream",
     "text": [
      "---------------------------------------------------------------------------------------\n",
      "Expanded RSA Predictions\n",
      "                Blue Square    Blue Circle   Green Square  Blue Triangle     Red Square\n",
      "      'Blue'         0.3907         0.5953            0.0          0.014            0.0\n",
      "     'Green'            0.0            0.0            1.0            0.0            0.0\n",
      "       'Red'            0.0            0.0            0.0            0.0            1.0\n",
      "    'Circle'            0.0            1.0            0.0            0.0            0.0\n",
      "    'Square'         0.3907            0.0         0.5953            0.0          0.014\n",
      "  'Triangle'            0.0            0.0            0.0            1.0            0.0\n",
      "\n"
     ]
    },
    {
     "data": {
      "image/png": "[encoded data removed]",
      "text/plain": [
       "<matplotlib.figure.Figure at 0x7fbac4df9110>"
      ]
     },
     "metadata": {},
     "output_type": "display_data"
    }
   ],
   "source": [
    "#RSA expanded unlikely a priori\n",
    "origPri=[.2,.4,.4]#Frank and Goodman 2012 rough empirical priors\n",
    "origLex=[[1,1,0],[0,0,1],[0,1,0],[1,0,1]]#Frank and Goodman 2012 full lexicon\n",
    "\n",
    "newLex=np.array([[1,1,0,1,0],[0,0,1,0,0],[0,0,0,0,1],[0,1,0,0,0],[1,0,1,0,1],[0,0,0,1,0]], dtype='float64')\n",
    "newPriUnNorm=np.array(origPri + [0.05, 0.05])\n",
    "newPri=newPriUnNorm/sum(newPriUnNorm)\n",
    "newMeans=[\"Blue Square\", \"Blue Circle\", \"Green Square\", \"Blue Triangle\", \"Red Square\"]\n",
    "newUtts= [\"\\'Blue\\'\",\"\\'Green\\'\",\"\\'Red\\'\",\"\\'Circle\\'\",\"\\'Square\\'\",\"\\'Triangle\\'\"]\n",
    "\n",
    "rsaTestNew = PragmaticModel(modelType=\"RSA\", lexicon=newLex, meaningPriors=newPri, meanings=newMeans, utterances=newUtts)\n",
    "newRSAPreds=rsaTestNew.iterate(3)\n",
    "rsaTestNew.display_listener_matrix(newRSAPreds, title=\"Expanded RSA Predictions\")\n",
    "\n",
    "\n",
    "#Plotting Code\n",
    "#fig = plt.figure()\n",
    "#fig = plt.gcf()\n",
    "my_colors = util.customColors()\n",
    "size = fig.get_size_inches()\n",
    "plt.figure(figsize=(size[0]*1.5,size[0]*0.8))\n",
    "gs = gridspec.GridSpec(1,2)\n",
    "plt.suptitle(\"Utterance: \\'Blue\\'\", fontsize=14, fontweight='bold')\n",
    "\n",
    "toPlot=newRSAPreds[0,:]\n",
    "epsilon = 1e-7\n",
    "toPlot = [x+epsilon for x in toPlot]\n",
    "labels=rsaTestNew.meanings\n",
    "locs=range(len(toPlot))\n",
    "plt.bar(locs,toPlot, align='center', color=my_colors)\n",
    "plt.xlabel(\"Meanings\")\n",
    "plt.ylabel(\"Model predictions\")\n",
    "plt.title(\"Utterance: \\'Blue\\'\") \n",
    "plt.suptitle(\"Expanded RSA Predictions\", fontsize=14, fontweight='bold')\n",
    "plt.xticks(locs, labels)\n",
    "axes = plt.gca()\n",
    "axes.set_ylim([0,1])\n",
    "#plt.figure(2)\n",
    "plt.show()"
   ]
  },
  {
   "cell_type": "markdown",
   "metadata": {},
   "source": [
    "## Expanded language\n",
    "The interesting case in expanding the language is the case where there are referents that are very likely a priori but unlikely given the langauge. The RSA model will not be able to handle this because it is unable to represent differential likelihood given the langauge. The SCIMPI model, however, will provide the intuitively correct prediction that these referens should end up being reasonably likely. Given additional evidence that this prediction was actually correct (received through a learning model), this shows how it is possible to learn new meanings and uses for words and to interpret utterances in unconventional ways. \n",
    "\n",
    "The lexical uncertainty model can manage this as well, but it requires a massively expanded number of lexica, which is empirically dubious due to the extremely high computational complexity not reflected in human linguistic processing..."
   ]
  },
  {
   "cell_type": "code",
   "execution_count": 220,
   "metadata": {
    "collapsed": false
   },
   "outputs": [
    {
     "name": "stdout",
     "output_type": "stream",
     "text": [
      "----------------------------------------------------\n",
      "Original Epistemic Predictions\n",
      "             Blue Square   Blue Circle  Green Square\n",
      "    'Blue'        0.3404        0.5936         0.066\n",
      "   'Green'        0.0542        0.0946        0.8512\n",
      "  'Circle'        0.0542        0.8512        0.0946\n",
      "  'Square'        0.3404         0.066        0.5936\n",
      "\n",
      "-------------------------------------------------------------------------------------------------\n",
      "Expanded Epistemic Predictions\n",
      "                  Blue Square      Blue Circle     Green Square  Orange Triangle      Red Hexagon\n",
      "      'Blue'           0.3358           0.5007           0.0588           0.0381           0.0667\n",
      "     'Green'           0.0535           0.0797           0.7581           0.0395           0.0693\n",
      "    'Circle'           0.0555           0.7443           0.0874            0.041           0.0718\n",
      "    'Square'           0.3276           0.0543            0.516           0.0371           0.0651\n",
      "  'Triangle'           0.0039           0.0033           0.0141           0.9617           0.0169\n",
      "   'Blicket'           0.0151           0.0773           0.0545            0.074           0.7791\n",
      "\n"
     ]
    },
    {
     "data": {
      "text/plain": [
       "<matplotlib.figure.Figure at 0x7fbac4bfa910>"
      ]
     },
     "metadata": {},
     "output_type": "display_data"
    },
    {
     "data": {
      "image/png": "[encoded data removed]",
      "text/plain": [
       "<matplotlib.figure.Figure at 0x7fbac4e90050>"
      ]
     },
     "metadata": {},
     "output_type": "display_data"
    },
    {
     "name": "stdout",
     "output_type": "stream",
     "text": [
      "[[ 0.38704128  0.05938729  0.05938729  0.38704128  0.01785714  0.08928571]\n",
      " [ 0.28854962  0.04427481  0.39847328  0.03206107  0.00763359  0.22900763]\n",
      " [ 0.03387097  0.42096774  0.04677419  0.30483871  0.03225806  0.16129032]\n",
      " [ 0.00877193  0.00877193  0.00877193  0.00877193  0.87719298  0.0877193 ]\n",
      " [ 0.01538462  0.01538462  0.01538462  0.01538462  0.01538462  0.92307692]]\n"
     ]
    }
   ],
   "source": [
    "#Epistemic model\n",
    "import pragmaticModels\n",
    "import pragmodsUtils\n",
    "reload( pragmaticModels)\n",
    "from pragmaticModels import PragmaticModel\n",
    "from pragmodsUtils import rownorm\n",
    "\n",
    "origPri=[.2,.4,.4]#Frank and Goodman 2012 rough empirical priors\n",
    "lex=[[1,1,0],[0,0,1],[0,1,0],[1,0,1]]#Frank and Goodman 2012 full lexicon\n",
    "origMeans=[\"Blue Square\", \"Blue Circle\", \"Green Square\"]\n",
    "origUtts= [\"\\'Blue\\'\",\"\\'Green\\'\",\"\\'Circle\\'\",\"\\'Square\\'\"]\n",
    "origMaps = lexToMappingsRSAEquiv(lex, origPri, .1) #RSA style relaxation for this lexicon\n",
    "\n",
    "newMapps = np.append(origMaps, np.array([[0.01,0.01,0.01,0.01]]), axis=0)#utterance given referent\n",
    "newMapps = np.append(newMapps, np.array([[0.01,0.01,0.01,0.01]]), axis=0)#utterance given referent\n",
    "newMapps = np.append(newMapps, np.array([[0.02],[0.01],[0.04],[1.0],[0.01]]), axis=1)#referent given utternace \"Triangle\"\n",
    "newMapps = np.append(newMapps, np.array([[0.1],[0.3],[0.2],[0.1],[0.6]]), axis=1)#referent given utternace \"Blicket\"\n",
    "newMapps = pragmodsUtils.rownorm(newMapps)\n",
    "#need to normalize these...\n",
    "\n",
    "newPriUnNorm=np.array(origPri + [1.0, 1.0])\n",
    "newPri=newPriUnNorm/sum(newPriUnNorm)\n",
    "newMeans=[\"Blue Square\", \"Blue Circle\", \"Green Square\", \"Orange Triangle\", \"Red Hexagon\"]\n",
    "newUtts= [\"\\'Blue\\'\",\"\\'Green\\'\",\"\\'Circle\\'\",\"\\'Square\\'\",\"\\'Triangle\\'\", \"\\'Blicket\\'\"]\n",
    "\n",
    "#mapps=np.array([[0.8, 0.1, 0.1],[0.1,0.1,0.8]])\n",
    "epistTestOrig = PragmaticModel(modelType=\"BeliefDecay\", mappings=origMaps, meaningPriors=origPri, beliefStrength=1, meanings=origMeans, utterances=origUtts)\n",
    "epistTestNew = PragmaticModel(modelType=\"BeliefDecay\", mappings=newMapps, meaningPriors=newPri, beliefStrength=1, meanings=newMeans, utterances=newUtts)\n",
    "\n",
    "originalPreds=epistTestOrig.iterate(2)\n",
    "newPreds=epistTestNew.iterate(2)\n",
    "epistTestOrig.display_listener_matrix(originalPreds, title=\"Original Epistemic Predictions\")\n",
    "epistTestNew.display_listener_matrix(newPreds, title=\"Expanded Epistemic Predictions\")\n",
    "\n",
    "\n",
    "model=epistTestNew\n",
    "modelPredictions=newPreds\n",
    "title=\"Expanded SCIMPI Predictions\"\n",
    "multiColor=True\n",
    "filename=None\n",
    "\n",
    "fig = plt.figure()\n",
    "utts=model.utterances\n",
    "means=model.meanings\n",
    "numUtts=len(utts)\n",
    "\n",
    "size = fig.get_size_inches()\n",
    "plt.figure(figsize=(size[0]*1.5,size[1]*3))\n",
    "gs = gridspec.GridSpec(numUtts,1)\n",
    "plt.suptitle(title, fontsize=14, fontweight='bold')\n",
    "for i in range(numUtts):\n",
    "    toPlot=modelPredictions[i,:]\n",
    "    epsilon = 1e-7\n",
    "    toPlot = [x+epsilon for x in toPlot]\n",
    "    locs=range(len(toPlot))\n",
    "    ax = plt.subplot(gs[i])\n",
    "    if multiColor==True:\n",
    "        my_colors = utilities.customColors()\n",
    "        ax.bar(locs,toPlot, align='center', color=my_colors)\n",
    "    else: ax.bar(locs,toPlot, align='center')\n",
    "    #ax.set_xlabel(\"Meanings\")\n",
    "    #ax.set_ylabel(\"Model predictions\")\n",
    "    if i==numUtts-1:\n",
    "        plt.xticks(locs, means)\n",
    "    else: ax.xaxis.set_visible(False)\n",
    "    ax.set_title(utts[i]) \n",
    "    axes = plt.gca()\n",
    "    axes.set_ylim([0,1])\n",
    "plt.xlabel(\"Meanings\",fontsize=12)\n",
    "plt.ylabel(\"Model predictions\", position=[0,3.5],fontsize=12)\n",
    "\n",
    "if filename!=None:\n",
    "    plt.savefig(filename, bbox_inches='tight',  dpi=400)\n",
    "\n",
    "plt.show()\n",
    "print newMapps"
   ]
  },
  {
   "cell_type": "code",
   "execution_count": null,
   "metadata": {
    "collapsed": true
   },
   "outputs": [],
   "source": [
    "#RSA model\n",
    "import pragmaticModels\n",
    "import pragmodsUtils\n",
    "reload( pragmaticModels)\n",
    "from pragmaticModels import PragmaticModel\n",
    "from pragmodsUtils import rownorm\n",
    "\n",
    "origPri=[.2,.4,.4]#Frank and Goodman 2012 rough empirical priors\n",
    "lex=[[1,1,0],[0,0,1],[0,1,0],[1,0,1]]#Frank and Goodman 2012 full lexicon\n",
    "origMeans=[\"Blue Square\", \"Blue Circle\", \"Green Square\"]\n",
    "origUtts= [\"\\'Blue\\'\",\"\\'Green\\'\",\"\\'Circle\\'\",\"\\'Square\\'\"]\n",
    "origMaps = lexToMappingsRSAEquiv(lex, origPri, .1) #RSA style relaxation for this lexicon\n",
    "\n",
    "newMapps = np.append(origMaps, np.array([[0.01,0.01,0.01,0.01]]), axis=0)#utterance given referent\n",
    "newMapps = np.append(newMapps, np.array([[0.01,0.01,0.01,0.01]]), axis=0)#utterance given referent\n",
    "newMapps = np.append(newMapps, np.array([[0.02],[0.01],[0.04],[1.0],[0.01]]), axis=1)#referent given utternace \"Triangle\"\n",
    "newMapps = np.append(newMapps, np.array([[0.1],[0.3],[0.2],[0.1],[0.6]]), axis=1)#referent given utternace \"Blicket\"\n",
    "newMapps = pragmodsUtils.rownorm(newMapps)\n",
    "#need to normalize these...\n",
    "\n",
    "newPriUnNorm=np.array(origPri + [1.0, 1.0])\n",
    "newPri=newPriUnNorm/sum(newPriUnNorm)\n",
    "newMeans=[\"Blue Square\", \"Blue Circle\", \"Green Square\", \"Orange Triangle\", \"Red Hexagon\"]\n",
    "newUtts= [\"\\'Blue\\'\",\"\\'Green\\'\",\"\\'Circle\\'\",\"\\'Square\\'\",\"\\'Triangle\\'\", \"\\'Blicket\\'\"]\n",
    "lex=[[1,1,0,0,0],[0,0,1,0,0],[0,1,0],[1,0,1]]#Each block is an utterance\n",
    "\n",
    "\n",
    "#mapps=np.array([[0.8, 0.1, 0.1],[0.1,0.1,0.8]])\n",
    "epistTestOrig = PragmaticModel(modelType=\"BeliefDecay\", mappings=origMaps, meaningPriors=origPri, beliefStrength=1, meanings=origMeans, utterances=origUtts)\n",
    "epistTestNew = PragmaticModel(modelType=\"BeliefDecay\", mappings=newMapps, meaningPriors=newPri, beliefStrength=1, meanings=newMeans, utterances=newUtts)\n",
    "\n",
    "originalPreds=epistTestOrig.iterate(2)\n",
    "newPreds=epistTestNew.iterate(2)\n",
    "epistTestOrig.display_listener_matrix(originalPreds, title=\"Original Epistemic Predictions\")\n",
    "epistTestNew.display_listener_matrix(newPreds, title=\"Expanded Epistemic Predictions\")\n",
    "\n",
    "\n",
    "model=epistTestNew\n",
    "modelPredictions=newPreds\n",
    "title=\"Expanded RSA Predictions\"\n",
    "multiColor=True\n",
    "filename=None\n",
    "\n",
    "fig = plt.figure()\n",
    "utts=model.utterances\n",
    "means=model.meanings\n",
    "numUtts=len(utts)\n",
    "\n",
    "size = fig.get_size_inches()\n",
    "plt.figure(figsize=(size[0]*1.5,size[1]*3))\n",
    "gs = gridspec.GridSpec(numUtts,1)\n",
    "plt.suptitle(title, fontsize=14, fontweight='bold')\n",
    "for i in range(numUtts):\n",
    "    toPlot=modelPredictions[i,:]\n",
    "    epsilon = 1e-7\n",
    "    toPlot = [x+epsilon for x in toPlot]\n",
    "    locs=range(len(toPlot))\n",
    "    ax = plt.subplot(gs[i])\n",
    "    if multiColor==True:\n",
    "        my_colors = utilities.customColors()\n",
    "        ax.bar(locs,toPlot, align='center', color=my_colors)\n",
    "    else: ax.bar(locs,toPlot, align='center')\n",
    "    #ax.set_xlabel(\"Meanings\")\n",
    "    #ax.set_ylabel(\"Model predictions\")\n",
    "    if i==numUtts-1:\n",
    "        plt.xticks(locs, means)\n",
    "    else: ax.xaxis.set_visible(False)\n",
    "    ax.set_title(utts[i]) \n",
    "    axes = plt.gca()\n",
    "    axes.set_ylim([0,1])\n",
    "plt.xlabel(\"Meanings\",fontsize=12)\n",
    "plt.ylabel(\"Model predictions\", position=[0,3.5],fontsize=12)\n",
    "\n",
    "if filename!=None:\n",
    "    plt.savefig(filename, bbox_inches='tight',  dpi=400)\n",
    "\n",
    "plt.show()\n",
    "print newMapps"
   ]
  },
  {
   "cell_type": "code",
   "execution_count": null,
   "metadata": {
    "collapsed": true
   },
   "outputs": [],
   "source": []
  },
  {
   "cell_type": "code",
   "execution_count": 229,
   "metadata": {
    "collapsed": false
   },
   "outputs": [
    {
     "name": "stdout",
     "output_type": "stream",
     "text": [
      "----------------------------------------------------\n",
      "SCIMPI ad hoc implicatures with empirical distributions\n",
      "             Blue Square   Blue Circle  Green Square\n",
      "   'Green'        0.0583        0.0633        0.8784\n",
      "    'Blue'        0.5024        0.4349        0.0627\n",
      "  'Circle'        0.0613        0.8664        0.0722\n",
      "  'Square'        0.5103        0.0481        0.4417\n",
      "\n"
     ]
    },
    {
     "data": {
      "text/plain": [
       "<matplotlib.figure.Figure at 0x7fbac4d2f590>"
      ]
     },
     "metadata": {},
     "output_type": "display_data"
    },
    {
     "data": {
      "image/png": "[encoded data removed]",
      "text/plain": [
       "<matplotlib.figure.Figure at 0x7fbac4fd5d50>"
      ]
     },
     "metadata": {},
     "output_type": "display_data"
    },
    {
     "name": "stdout",
     "output_type": "stream",
     "text": [
      "Empirical posteriors\n",
      "[ 0.53879883  0.43422801  0.02697316]\n"
     ]
    }
   ],
   "source": [
    "#SCIMPI ad hoc with empirical distributions (first try)\n",
    "\n",
    "empirPriRaw=np.array([45.26229508, 52.80327869, 56.44262295])\n",
    "empirPri=empirPriRaw/sum(empirPriRaw)\n",
    "\n",
    "empirMapsRaw=np.array([[6.852459016, 60.62295082, 7.131147541, 68.63934426],\n",
    "              [6.590163934, 46.44262295, 89.14754098, 5.721311475],\n",
    "              [87.6557377, 6.426229508, 7.131147541, 50.44262295]])\n",
    "empirMaps=rownorm(empirMapsRaw)\n",
    "\n",
    "empirPostRaw=np.array([66.47540984, 53.57377049, 3.327868852])\n",
    "empirPost=empirPostRaw/sum(empirPostRaw)\n",
    "\n",
    "means=[\"Blue Square\", \"Blue Circle\", \"Green Square\"]\n",
    "utts=[\"\\'Green\\'\", \"\\'Blue\\'\", \"\\'Circle\\'\",\"\\'Square\\'\"]\n",
    "\n",
    "SCIMPI_empir = PragmaticModel(modelType=\"BeliefDecay\", mappings=empirMaps, meaningPriors=empirPri, beliefStrength=1, meanings=means, utterances=utts)\n",
    "empirPreds=SCIMPI_empir.iterate(2)\n",
    "SCIMPI_empir.display_listener_matrix(empirPreds, title=\"SCIMPI ad hoc implicatures with empirical distributions\")\n",
    "\n",
    "gridPlotPredictions(SCIMPI_empir, empirPreds, \"SCIMPI ad hoc implicatures with empirical distributions\", multiColor=True)\n",
    "\n",
    "#Also need to plot the empirical posteriors\n",
    "print \"Empirical posteriors\"\n",
    "print empirPost"
   ]
  },
  {
   "cell_type": "code",
   "execution_count": 227,
   "metadata": {
    "collapsed": false
   },
   "outputs": [
    {
     "data": {
      "text/plain": [
       "array([[ 0.04783703,  0.42320897,  0.04978256,  0.47917144],\n",
       "       [ 0.04455775,  0.3140102 ,  0.60274884,  0.03868322],\n",
       "       [ 0.57799157,  0.0423738 ,  0.04702194,  0.33261269]])"
      ]
     },
     "execution_count": 227,
     "metadata": {},
     "output_type": "execute_result"
    }
   ],
   "source": [
    "rownorm(empirMapsRaw)"
   ]
  },
  {
   "cell_type": "code",
   "execution_count": 226,
   "metadata": {
    "collapsed": false
   },
   "outputs": [
    {
     "data": {
      "text/plain": [
       "array([[ 0.42320897,  0.04783703,  0.04978256,  0.47917144],\n",
       "       [ 0.3140102 ,  0.04455775,  0.60274884,  0.03868322],\n",
       "       [ 0.0423738 ,  0.57799157,  0.04702194,  0.33261269]])"
      ]
     },
     "execution_count": 226,
     "metadata": {},
     "output_type": "execute_result"
    }
   ],
   "source": [
    "rownorm(np.array([[60.62295082, 6.852459016, 7.131147541, 68.63934426],\n",
    "              [46.44262295, 6.590163934, 89.14754098, 5.721311475],\n",
    "              [6.426229508, 87.6557377, 7.131147541, 50.44262295]]))"
   ]
  },
  {
   "cell_type": "code",
   "execution_count": 230,
   "metadata": {
    "collapsed": false
   },
   "outputs": [
    {
     "name": "stdout",
     "output_type": "stream",
     "text": [
      "----------------------------------------------------\n",
      "SCIMPI ad hoc implicatures with empirical distributions\n",
      "             Blue Square   Blue Circle  Green Square\n",
      "   'Green'        0.0461        0.0314        0.9225\n",
      "    'Blue'        0.5108        0.4251        0.0641\n",
      "  'Circle'        0.0445        0.9173        0.0382\n",
      "  'Square'        0.5482         0.059        0.3928\n",
      "\n"
     ]
    },
    {
     "data": {
      "text/plain": [
       "<matplotlib.figure.Figure at 0x7fbac48b38d0>"
      ]
     },
     "metadata": {},
     "output_type": "display_data"
    },
    {
     "data": {
      "image/png": "[encoded data removed]",
      "text/plain": [
       "<matplotlib.figure.Figure at 0x7fbac48b37d0>"
      ]
     },
     "metadata": {},
     "output_type": "display_data"
    },
    {
     "name": "stdout",
     "output_type": "stream",
     "text": [
      "Empirical posteriors\n",
      "[ 0.54017829  0.42873623  0.03108547]\n"
     ]
    }
   ],
   "source": [
    "#SCIMPI ad hoc with empirical distributions (second try)\n",
    "\n",
    "empirPriRaw=np.array([41.89473684, 51.26315789, 52.61403509])\n",
    "empirPri=empirPriRaw/sum(empirPriRaw)\n",
    "\n",
    "empirMapsRaw=np.array([[5.701754386, 60.59649123, 5.263157895, 67.38596491],\n",
    "              [3.245614035, 42.19298246, 90.75438596, 6.070175439],\n",
    "              [90, 6, 3.561403509, 38.0877193]])\n",
    "empirMaps=rownorm(empirMapsRaw)\n",
    "\n",
    "empirPostRaw=np.array([64.54385965, 51.22807018, 3.714285714])\n",
    "empirPost=empirPostRaw/sum(empirPostRaw)\n",
    "\n",
    "means=[\"Blue Square\", \"Blue Circle\", \"Green Square\"]\n",
    "utts=[\"\\'Green\\'\", \"\\'Blue\\'\", \"\\'Circle\\'\",\"\\'Square\\'\"]\n",
    "\n",
    "SCIMPI_empir = PragmaticModel(modelType=\"BeliefDecay\", mappings=empirMaps, meaningPriors=empirPri, beliefStrength=1, meanings=means, utterances=utts)\n",
    "empirPreds=SCIMPI_empir.iterate(2)\n",
    "SCIMPI_empir.display_listener_matrix(empirPreds, title=\"SCIMPI ad hoc implicatures with empirical distributions\")\n",
    "\n",
    "gridPlotPredictions(SCIMPI_empir, empirPreds, \"SCIMPI ad hoc implicatures with empirical distributions\", multiColor=True)\n",
    "\n",
    "#Also need to plot the empirical posteriors\n",
    "print \"Empirical posteriors\"\n",
    "print empirPost"
   ]
  },
  {
   "cell_type": "code",
   "execution_count": 278,
   "metadata": {
    "collapsed": false
   },
   "outputs": [
    {
     "name": "stdout",
     "output_type": "stream",
     "text": [
      "----------------------------------------------------\n",
      "SCIMPI ad hoc implicatures with empirical distributions\n",
      "             Blue Square   Blue Circle  Green Square\n",
      "   'Green'        0.0461        0.0314        0.9225\n",
      "    'Blue'        0.5108        0.4251        0.0641\n",
      "  'Circle'        0.0445        0.9173        0.0382\n",
      "  'Square'        0.5482         0.059        0.3928\n",
      "\n"
     ]
    },
    {
     "data": {
      "text/plain": [
       "<matplotlib.figure.Figure at 0x7fbac4aa41d0>"
      ]
     },
     "metadata": {},
     "output_type": "display_data"
    },
    {
     "data": {
      "image/png": "[encoded data removed]",
      "text/plain": [
       "<matplotlib.figure.Figure at 0x7fbac4aa4390>"
      ]
     },
     "metadata": {},
     "output_type": "display_data"
    }
   ],
   "source": [
    "#model vs. data\n",
    "\n",
    "#Model\n",
    "#SCIMPI ad hoc with empirical distributions (second try)\n",
    "\n",
    "empirPriRaw=np.array([41.89473684, 51.26315789, 52.61403509])\n",
    "empirPri=empirPriRaw/sum(empirPriRaw)\n",
    "\n",
    "empirMapsRaw=np.array([[5.701754386, 60.59649123, 5.263157895, 67.38596491],\n",
    "              [3.245614035, 42.19298246, 90.75438596, 6.070175439],\n",
    "              [90, 6, 3.561403509, 38.0877193]])\n",
    "empirMaps=rownorm(empirMapsRaw)\n",
    "\n",
    "empirPostRaw=np.array([64.54385965, 51.22807018, 3.714285714])\n",
    "empirPost=empirPostRaw/sum(empirPostRaw)\n",
    "\n",
    "means=[\"Blue Square\", \"Blue Circle\", \"Green Square\"]\n",
    "utts=[\"\\'Green\\'\", \"\\'Blue\\'\", \"\\'Circle\\'\",\"\\'Square\\'\"]\n",
    "\n",
    "SCIMPI_empir = PragmaticModel(modelType=\"BeliefDecay\", mappings=empirMaps, meaningPriors=empirPri, beliefStrength=1, meanings=means, utterances=utts)\n",
    "empirPreds=SCIMPI_empir.iterate(2)\n",
    "SCIMPI_empir.display_listener_matrix(empirPreds, title=\"SCIMPI ad hoc implicatures with empirical distributions\")\n",
    "\n",
    "\n",
    "#Plotting\n",
    "my_colors = utilities.customColors()\n",
    "\n",
    "n_groups = len(SCIMPI_empir.meanings)\n",
    "\n",
    "empir = empirPost\n",
    "#std_men = (2, 3, 4, 1, 2)\n",
    "\n",
    "mod = empirPreds[1,:]\n",
    "#std_women = (3, 5, 2, 3, 3)\n",
    "\n",
    "fig = plt.figure()\n",
    "size = fig.get_size_inches()\n",
    "plt.figure(figsize=(size[0]*1,size[1]*7))\n",
    "\n",
    "ax = plt.subplot(gs[i])\n",
    "\n",
    "index = np.arange(n_groups)\n",
    "bar_width = 0.35\n",
    "\n",
    "#opacity = 0.4\n",
    "#error_config = {'ecolor': '0.3'}\n",
    "\n",
    "rects1 = plt.bar(index, mod, bar_width,\n",
    "                 #alpha=opacity,\n",
    "                 color=my_colors[0],\n",
    "                 #yerr=std_women,\n",
    "                 #error_kw=error_config,\n",
    "                 label='Model Predictions')\n",
    "\n",
    "rects2 = plt.bar(index + bar_width, empir, bar_width,\n",
    "                 #alpha=opacity,\n",
    "                 color=my_colors[1],\n",
    "                 #yerr=std_men,\n",
    "                 #error_kw=error_config,\n",
    "                 label='Human Judgements')\n",
    "\n",
    "plt.ylim([0,1])\n",
    "plt.xlabel('Meanings')\n",
    "plt.ylabel('Probability of referent given utterance')\n",
    "plt.title('SCIMPI model predictions vs. human judgements', fontsize=14, fontweight='bold')\n",
    "plt.xticks(index + bar_width, SCIMPI_empir.meanings)\n",
    "plt.legend()\n",
    "\n",
    "plt.tight_layout()\n",
    "plt.savefig(\"SCIMPI_model_v_data_adhoc.png\", bbox_inches='tight',  dpi=400)\n",
    "plt.show()"
   ]
  },
  {
   "cell_type": "code",
   "execution_count": 253,
   "metadata": {
    "collapsed": false
   },
   "outputs": [
    {
     "data": {
      "text/plain": [
       "3"
      ]
     },
     "execution_count": 253,
     "metadata": {},
     "output_type": "execute_result"
    }
   ],
   "source": [
    "len(SCIMPI_empir.meanings)"
   ]
  },
  {
   "cell_type": "code",
   "execution_count": 249,
   "metadata": {
    "collapsed": false
   },
   "outputs": [
    {
     "data": {
      "image/png": "[encoded data removed]",
      "text/plain": [
       "<matplotlib.figure.Figure at 0x7fbac4ead850>"
      ]
     },
     "metadata": {},
     "output_type": "display_data"
    }
   ],
   "source": [
    "n_groups = 5\n",
    "\n",
    "means_men = (20, 35, 30, 35, 27)\n",
    "std_men = (2, 3, 4, 1, 2)\n",
    "\n",
    "means_women = (25, 32, 34, 20, 25)\n",
    "std_women = (3, 5, 2, 3, 3)\n",
    "\n",
    "fig, ax = plt.subplots()\n",
    "\n",
    "index = np.arange(n_groups)\n",
    "bar_width = 0.35\n",
    "\n",
    "opacity = 0.4\n",
    "error_config = {'ecolor': '0.3'}\n",
    "\n",
    "rects1 = plt.bar(index, means_men, bar_width,\n",
    "                 #alpha=opacity,\n",
    "                 color='b',\n",
    "                 #yerr=std_men,\n",
    "                 #error_kw=error_config,\n",
    "                 label='Men')\n",
    "\n",
    "rects2 = plt.bar(index + bar_width, means_women, bar_width,\n",
    "                 #alpha=opacity,\n",
    "                 color='r',\n",
    "                 #yerr=std_women,\n",
    "                 #error_kw=error_config,\n",
    "                 label='Women')\n",
    "\n",
    "plt.xlabel('Group')\n",
    "plt.ylabel('Scores')\n",
    "plt.title('Scores by group and gender')\n",
    "plt.xticks(index + bar_width, ('A', 'B', 'C', 'D', 'E'))\n",
    "plt.legend()\n",
    "\n",
    "plt.tight_layout()\n",
    "plt.show()"
   ]
  },
  {
   "cell_type": "code",
   "execution_count": 243,
   "metadata": {
    "collapsed": false
   },
   "outputs": [
    {
     "data": {
      "text/plain": [
       "(20, 35, 30, 35, 27)"
      ]
     },
     "execution_count": 243,
     "metadata": {},
     "output_type": "execute_result"
    }
   ],
   "source": [
    "means_men"
   ]
  },
  {
   "cell_type": "code",
   "execution_count": 286,
   "metadata": {
    "collapsed": false
   },
   "outputs": [
    {
     "name": "stdout",
     "output_type": "stream",
     "text": [
      "----------------------------------------------------\n",
      "SCIMPI ad hoc implicatures with empirical distributions\n",
      "             Blue Square   Blue Circle  Green Square\n",
      "   'Green'        0.0277        0.0228        0.9495\n",
      "    'Blue'        0.5448        0.3934        0.0619\n",
      "  'Circle'          0.03        0.9359        0.0341\n",
      "  'Square'        0.5731        0.0457        0.3812\n",
      "\n"
     ]
    },
    {
     "data": {
      "text/plain": [
       "<matplotlib.figure.Figure at 0x7fbac3b40410>"
      ]
     },
     "metadata": {},
     "output_type": "display_data"
    },
    {
     "data": {
      "image/png": "[encoded data removed]",
      "text/plain": [
       "<matplotlib.figure.Figure at 0x7fbac45cefd0>"
      ]
     },
     "metadata": {},
     "output_type": "display_data"
    }
   ],
   "source": [
    "#model vs. data\n",
    "\n",
    "#Model\n",
    "#SCIMPI ad hoc with empirical distributions (second try) (normed within subjects)\n",
    "\n",
    "empirPriRaw=np.array([0.2744272253, 0.3382119755, 0.3873607992])\n",
    "empirPri=empirPriRaw/sum(empirPriRaw)\n",
    "\n",
    "empirMapsRaw=np.array([[0.0289813795, 0.4382785903, 0.0273275885, 0.5054124417],\n",
    "              [0.0194176709, 0.2567794137, 0.6911292858, 0.0326736296],\n",
    "              [0.7045845533, 0.0352714965, 0.0219547595, 0.2381891908]])\n",
    "empirMaps=rownorm(empirMapsRaw)\n",
    "\n",
    "empirPostRaw=np.array([0.5510461067, 0.424874665, 0.0240792283])\n",
    "empirPost=empirPostRaw/sum(empirPostRaw)\n",
    "\n",
    "postConf=np.array([0.0437130535, 0.0428714463, 0.0189419316])\n",
    "\n",
    "means=[\"Blue Square\", \"Blue Circle\", \"Green Square\"]\n",
    "utts=[\"\\'Green\\'\", \"\\'Blue\\'\", \"\\'Circle\\'\",\"\\'Square\\'\"]\n",
    "\n",
    "SCIMPI_empir = PragmaticModel(modelType=\"BeliefDecay\", mappings=empirMaps, meaningPriors=empirPri, beliefStrength=1, meanings=means, utterances=utts)\n",
    "empirPreds=SCIMPI_empir.iterate(2)\n",
    "SCIMPI_empir.display_listener_matrix(empirPreds, title=\"SCIMPI ad hoc implicatures with empirical distributions\")\n",
    "\n",
    "\n",
    "#Plotting\n",
    "my_colors = utilities.customColors()\n",
    "\n",
    "n_groups = len(SCIMPI_empir.meanings)\n",
    "\n",
    "empir = empirPost\n",
    "#std_men = (2, 3, 4, 1, 2)\n",
    "\n",
    "mod = empirPreds[1,:]\n",
    "#std_women = (3, 5, 2, 3, 3)\n",
    "\n",
    "fig = plt.figure()\n",
    "size = fig.get_size_inches()\n",
    "plt.figure(figsize=(size[0]*1,size[1]*7))\n",
    "\n",
    "ax = plt.subplot(gs[i])\n",
    "\n",
    "index = np.arange(n_groups)\n",
    "bar_width = 0.35\n",
    "\n",
    "#opacity = 0.4\n",
    "error_config = {'ecolor': '0'}\n",
    "\n",
    "rects1 = plt.bar(index, mod, bar_width,\n",
    "                 #alpha=opacity,\n",
    "                 color=my_colors[0],\n",
    "                 #yerr=std_women,\n",
    "                 #error_kw=error_config,\n",
    "                 label='Model Predictions')\n",
    "\n",
    "rects2 = plt.bar(index + bar_width, empir, bar_width,\n",
    "                 #alpha=opacity,\n",
    "                 color=my_colors[1],\n",
    "                 yerr=postConf,\n",
    "                 error_kw=error_config,\n",
    "                 label='Human Judgements')\n",
    "\n",
    "plt.ylim([0,1])\n",
    "plt.xlabel('Meanings')\n",
    "plt.ylabel('Probability of referent given utterance')\n",
    "plt.title('SCIMPI model predictions vs. human judgements', fontsize=14, fontweight='bold')\n",
    "plt.xticks(index + bar_width, SCIMPI_empir.meanings)\n",
    "plt.legend()\n",
    "\n",
    "plt.tight_layout()\n",
    "plt.savefig(\"SCIMPI_model_v_data_adhoc.png\", bbox_inches='tight',  dpi=400)\n",
    "plt.show()"
   ]
  },
  {
   "cell_type": "code",
   "execution_count": 282,
   "metadata": {
    "collapsed": false
   },
   "outputs": [
    {
     "data": {
      "text/plain": [
       "array([ 0.27442723,  0.33821198,  0.3873608 ])"
      ]
     },
     "execution_count": 282,
     "metadata": {},
     "output_type": "execute_result"
    }
   ],
   "source": [
    "empirPriRaw=np.array([0.2744272253, 0.3382119755, 0.3873607992])\n",
    "empirPri=empirPriRaw/sum(empirPriRaw)\n",
    "empirPri"
   ]
  },
  {
   "cell_type": "code",
   "execution_count": 291,
   "metadata": {
    "collapsed": false
   },
   "outputs": [
    {
     "data": {
      "text/plain": [
       "<matplotlib.figure.Figure at 0x7fbac45d8290>"
      ]
     },
     "metadata": {},
     "output_type": "display_data"
    },
    {
     "data": {
      "image/png": "[encoded data removed]",
      "text/plain": [
       "<matplotlib.figure.Figure at 0x7fbac3af72d0>"
      ]
     },
     "metadata": {},
     "output_type": "display_data"
    }
   ],
   "source": [
    "#Plot SCIMPI empirical priors\n",
    "priorMeans=np.array([0.2744272253, 0.3382119755, 0.3873607992])\n",
    "priorConfs=np.array([0.0301153179, 0.0365859987, 0.0455866973])\n",
    "\n",
    "#Plotting\n",
    "my_colors = utilities.customColors()\n",
    "\n",
    "fig = plt.figure()\n",
    "size = fig.get_size_inches()\n",
    "plt.figure(figsize=(size[0]*1,size[1]*1.2))\n",
    "\n",
    "ax = plt.subplot()\n",
    "\n",
    "locs=range(len(priorMeans))\n",
    "\n",
    "#opacity = 0.4\n",
    "error_config = {'ecolor': '0'}\n",
    "\n",
    "plt.bar(locs, priorMeans,\n",
    "        #alpha=opacity,\n",
    "        color=my_colors,\n",
    "        yerr=priorConfs,\n",
    "        error_kw=error_config,\n",
    "        align='center')\n",
    "\n",
    "plt.ylim([0,1])\n",
    "plt.xlabel('Referents')\n",
    "plt.ylabel('Prior probability of referent')\n",
    "plt.title('SCIMPI empirical priors', fontsize=14, fontweight='bold')\n",
    "plt.xticks(locs, SCIMPI_empir.meanings)\n",
    "\n",
    "#plt.tight_layout()\n",
    "plt.savefig(\"SCIMPI_empirical_priors.png\", bbox_inches='tight',  dpi=400)\n",
    "plt.show()"
   ]
  },
  {
   "cell_type": "code",
   "execution_count": 305,
   "metadata": {
    "collapsed": false
   },
   "outputs": [
    {
     "data": {
      "text/plain": [
       "<matplotlib.figure.Figure at 0x7fbac4a7bdd0>"
      ]
     },
     "metadata": {},
     "output_type": "display_data"
    },
    {
     "data": {
      "image/png": "[encoded data removed]",
      "text/plain": [
       "<matplotlib.figure.Figure at 0x7fbac50cba10>"
      ]
     },
     "metadata": {},
     "output_type": "display_data"
    },
    {
     "name": "stdout",
     "output_type": "stream",
     "text": [
      "[[ 0.38704128  0.05938729  0.05938729  0.38704128  0.01785714  0.08928571]\n",
      " [ 0.28854962  0.04427481  0.39847328  0.03206107  0.00763359  0.22900763]\n",
      " [ 0.03387097  0.42096774  0.04677419  0.30483871  0.03225806  0.16129032]\n",
      " [ 0.00877193  0.00877193  0.00877193  0.00877193  0.87719298  0.0877193 ]\n",
      " [ 0.01538462  0.01538462  0.01538462  0.01538462  0.01538462  0.92307692]]\n"
     ]
    }
   ],
   "source": [
    "#Plot Empirical Likelihoods\n",
    "empirLikelihoods=np.array([[0.4382785903, 0.0289813795, 0.0273275885, 0.5054124417],\n",
    "                           [0.2567794137, 0.0194176709, 0.6911292858, 0.0326736296],\n",
    "                           [0.0352714965, 0.7045845533, 0.0219547595, 0.2381891908]])\n",
    "\n",
    "empirLikeConfs=np.array([[0.033268184, 0.0182635365, 0.0186149166, 0.0368636679],\n",
    "                         [0.0512060248, 0.014200863, 0.0639314258, 0.0213093991],\n",
    "                         [0.0236418662, 0.065496134, 0.0165148778, 0.0511109305]])\n",
    "\n",
    "\n",
    "model=SCIMPI_empir\n",
    "modelPredictions=empirLikelihoods\n",
    "\n",
    "title=\"SCIMPI empirical speaker-centric knowledge\"\n",
    "multiColor=True\n",
    "#filename=\"SCIMPI_empirical_likelihoods.png\"\n",
    "filename=None\n",
    "\n",
    "fig = plt.figure()\n",
    "utts=model.utterances\n",
    "means=model.meanings\n",
    "numMeans=len(means)\n",
    "\n",
    "error_config = {'ecolor': '0'}\n",
    "size = fig.get_size_inches()\n",
    "plt.figure(figsize=(size[0]*1,size[1]*2.0/1.5))\n",
    "gs = gridspec.GridSpec(numMeans,1)\n",
    "plt.suptitle(title, fontsize=14, fontweight='bold')\n",
    "for i in range(numMeans):\n",
    "    toPlot=modelPredictions[i,:]\n",
    "    epsilon = 1e-7\n",
    "    toPlot = [x+epsilon for x in toPlot]\n",
    "    locs=range(len(toPlot))\n",
    "    ax = plt.subplot(gs[i])\n",
    "    if multiColor==True:\n",
    "        my_colors = utilities.customColors()\n",
    "        ax.bar(locs,toPlot, align='center', color=my_colors, yerr=empirLikeConfs[i,:], error_kw=error_config)\n",
    "    else: ax.bar(locs,toPlot, align='center')\n",
    "    #ax.set_xlabel(\"Meanings\")\n",
    "    #ax.set_ylabel(\"Model predictions\")\n",
    "    if i==numMeans-1:\n",
    "        plt.xticks(locs, utts)\n",
    "    else: ax.xaxis.set_visible(False)\n",
    "    ax.set_title(means[i]) \n",
    "    axes = plt.gca()\n",
    "    axes.set_ylim([0,1])\n",
    "plt.xlabel(\"Utterances\",fontsize=12)\n",
    "plt.ylabel(\"Probability of utterance given referent\", position=[0,1.5],fontsize=12)\n",
    "\n",
    "if filename!=None:\n",
    "    plt.savefig(filename, bbox_inches='tight',  dpi=400)\n",
    "\n",
    "plt.show()\n",
    "print newMapps"
   ]
  },
  {
   "cell_type": "code",
   "execution_count": 303,
   "metadata": {
    "collapsed": false
   },
   "outputs": [
    {
     "data": {
      "text/plain": [
       "1.3333333333333333"
      ]
     },
     "execution_count": 303,
     "metadata": {},
     "output_type": "execute_result"
    }
   ],
   "source": [
    "2.0/1.5"
   ]
  },
  {
   "cell_type": "code",
   "execution_count": 307,
   "metadata": {
    "collapsed": false
   },
   "outputs": [
    {
     "data": {
      "text/plain": [
       "'~/figs/test.png'"
      ]
     },
     "execution_count": 307,
     "metadata": {},
     "output_type": "execute_result"
    }
   ],
   "source": [
    "filename=\"test.png\"\n",
    "\"~/figs/\"+filename"
   ]
  },
  {
   "cell_type": "code",
   "execution_count": 327,
   "metadata": {
    "collapsed": false
   },
   "outputs": [
    {
     "name": "stdout",
     "output_type": "stream",
     "text": [
      "----------------------------------------------------\n",
      "Original RSA Predictions\n",
      "             Blue Square   Blue Circle  Green Square\n",
      "    'Blue'        0.3846        0.6154           0.0\n",
      "   'Green'           0.0           0.0           1.0\n",
      "  'Circle'           0.0           1.0           0.0\n",
      "  'Square'        0.3846           0.0        0.6154\n",
      "\n",
      "-------------------------------------------------------------------\n",
      "Expanded RSA Predictions\n",
      "                            Blue Square   Blue Circle  Green Square\n",
      "                   'Blue'        0.1724        0.8276           0.0\n",
      "                  'Green'           0.0           0.0           1.0\n",
      "                 'Circle'           0.0           1.0           0.0\n",
      "                 'Square'        0.2258           0.0        0.7742\n",
      "  'Regular Quadrilateral'        0.2258           0.0        0.7742\n",
      "             'Bluesquare'           1.0           0.0           0.0\n",
      "\n"
     ]
    },
    {
     "data": {
      "image/png": "[encoded data removed]",
      "text/plain": [
       "<matplotlib.figure.Figure at 0x7fbac3aef7d0>"
      ]
     },
     "metadata": {},
     "output_type": "display_data"
    }
   ],
   "source": [
    "origPri=[.2,.4,.4]#Frank and Goodman 2012 rough empirical priors\n",
    "origLex=[[1,1,0],[0,0,1],[0,1,0],[1,0,1]]#Frank and Goodman 2012 full lexicon\n",
    "origMeans=[\"Blue Square\", \"Blue Circle\", \"Green Square\"]\n",
    "origUtts= [\"\\'Blue\\'\",\"\\'Green\\'\",\"\\'Circle\\'\",\"\\'Square\\'\"]\n",
    "\n",
    "newLex=[[1,1,0],[0,0,1],[0,1,0],[1,0,1],[1,0,1],[1,0,0]]\n",
    "#newPriUnNorm=np.array(origPri + [0.05, 0.05])\n",
    "#newPri=newPriUnNorm/sum(newPriUnNorm)\n",
    "newMeans=[\"Blue Square\", \"Blue Circle\", \"Green Square\"]\n",
    "newUtts= [\"\\'Blue\\'\",\"\\'Green\\'\",\"\\'Circle\\'\",\"\\'Square\\'\",\"\\'Regular Quadrilateral\\'\", \"\\'Bluesquare\\'\"]\n",
    "\n",
    "rsaTestOrig=PragmaticModel(modelType=\"RSA\", lexicon=origLex, meaningPriors=origPri, meanings=origMeans, utterances=origUtts)\n",
    "origRSAPreds=rsaTestOrig.iterate(3)\n",
    "rsaTestOrig.display_listener_matrix(origRSAPreds, title=\"Original RSA Predictions\")\n",
    "\n",
    "rsaTestNew = PragmaticModel(modelType=\"RSA\", lexicon=newLex, meaningPriors=origPri, meanings=newMeans, utterances=newUtts)\n",
    "newRSAPreds=rsaTestNew.iterate(3)\n",
    "rsaTestNew.display_listener_matrix(newRSAPreds, title=\"Expanded RSA Predictions\")\n",
    "\n",
    "\n",
    "#Plotting Code\n",
    "#fig = plt.figure()\n",
    "#fig = plt.gcf()\n",
    "my_colors = util.customColors()\n",
    "\n",
    "size = fig.get_size_inches()\n",
    "plt.figure(figsize=(size[0]*3,size[0]*0.8))\n",
    "gs = gridspec.GridSpec(1,2)\n",
    "plt.suptitle(\"RSA expanded langauge model comparisons for utterance: \\'blue\\'\", fontsize=14, fontweight='bold')\n",
    "\n",
    "toPlot=origRSAPreds[0,:]\n",
    "epsilon = 1e-7\n",
    "toPlot = [x+epsilon for x in toPlot]\n",
    "labels=rsaTestOrig.meanings\n",
    "locs=range(len(toPlot))\n",
    "ax = plt.subplot(gs[0])\n",
    "ax.bar(locs,toPlot, align='center', color=my_colors)\n",
    "ax.set_xlabel(\"Referents\")\n",
    "ax.set_ylabel(\"Probability of referent given utterance\")\n",
    "ax.set_title(\"Original RSA Predictions\") \n",
    "plt.xticks(locs, labels)\n",
    "axes = plt.gca()\n",
    "axes.set_ylim([0,1])\n",
    "\n",
    "ax2 = plt.subplot(gs[1])\n",
    "toPlot=newRSAPreds[0,:]\n",
    "epsilon = 1e-7\n",
    "toPlot = [x+epsilon for x in toPlot]\n",
    "labels=rsaTestNew.meanings\n",
    "locs=range(len(toPlot))\n",
    "ax2.bar(locs,toPlot, align='center', color=my_colors)\n",
    "ax2.set_xlabel(\"Referents\")\n",
    "ax2.set_ylabel(\"Probability of referent given utterance\")\n",
    "ax2.set_title(\"Expanded RSA Predictions\") \n",
    "plt.xticks(locs, labels)\n",
    "axes = plt.gca()\n",
    "axes.set_ylim([0,1])\n",
    "#ax2.set_position(pos2)\n",
    "#ax.set_position(pos1)\n",
    "#plt.figure(2)\n",
    "plt.savefig('~/figs/RSA_expanded_extLang.png', bbox_inches='tight',  dpi=400)\n",
    "\n",
    "plt.show()"
   ]
  },
  {
   "cell_type": "code",
   "execution_count": 326,
   "metadata": {
    "collapsed": false
   },
   "outputs": [
    {
     "name": "stdout",
     "output_type": "stream",
     "text": [
      "----------------------------------------------------\n",
      "Original Epistemic Predictions\n",
      "             Blue Square   Blue Circle  Green Square\n",
      "    'Blue'        0.3753        0.6122        0.0125\n",
      "   'Green'        0.0121        0.0198        0.9681\n",
      "  'Circle'        0.0121        0.9681        0.0198\n",
      "  'Square'        0.3753        0.0125        0.6122\n",
      "\n",
      "-------------------------------------------------------------------\n",
      "Expanded Epistemic Predictions\n",
      "                            Blue Square   Blue Circle  Green Square\n",
      "                   'Blue'        0.3753        0.6122        0.0125\n",
      "                  'Green'        0.0121        0.0198        0.9681\n",
      "                 'Circle'        0.0121        0.9681        0.0198\n",
      "                 'Square'        0.3753        0.0125        0.6122\n",
      "  'Regular Quadrilateral'        0.3125        0.0625         0.625\n",
      "             'Bluesquare'        0.9259         0.037         0.037\n",
      "\n"
     ]
    },
    {
     "data": {
      "image/png": "[encoded data removed]",
      "text/plain": [
       "<matplotlib.figure.Figure at 0x7fbac4965150>"
      ]
     },
     "metadata": {},
     "output_type": "display_data"
    }
   ],
   "source": [
    "import pragmaticModels\n",
    "reload( pragmaticModels)\n",
    "from pragmaticModels import PragmaticModel\n",
    "origPri=[.2,.4,.4]#Frank and Goodman 2012 rough empirical priors\n",
    "lex=[[1,1,0],[0,0,1],[0,1,0],[1,0,1]]#Frank and Goodman 2012 full lexicon\n",
    "origMeans=[\"Blue Square\", \"Blue Circle\", \"Green Square\"]\n",
    "origUtts= [\"\\'Blue\\'\",\"\\'Green\\'\",\"\\'Circle\\'\",\"\\'Square\\'\"]\n",
    "origMaps = lexToMappingsRSAEquiv(lex, origPri, .02) #RSA style relaxation for this lexicon\n",
    "\n",
    "newMapps = np.append(origMaps, np.array([[0.01],[0.001],[0.01]]), axis=1)\n",
    "newMapps = np.append(newMapps, np.array([[0.05],[0.001],[0.001]]), axis=1)\n",
    "\n",
    "newPriUnNorm=np.array(origPri)\n",
    "newPri=newPriUnNorm/sum(newPriUnNorm)\n",
    "newMeans=[\"Blue Square\", \"Blue Circle\", \"Green Square\"]\n",
    "newUtts= [\"\\'Blue\\'\",\"\\'Green\\'\",\"\\'Circle\\'\",\"\\'Square\\'\",\"\\'Regular Quadrilateral\\'\", \"\\'Bluesquare\\'\"]\n",
    "\n",
    "#mapps=np.array([[0.8, 0.1, 0.1],[0.1,0.1,0.8]])\n",
    "epistTestOrig = PragmaticModel(modelType=\"BeliefDecay\", mappings=origMaps, meaningPriors=origPri, beliefStrength=1, meanings=origMeans, utterances=origUtts)\n",
    "epistTestNew = PragmaticModel(modelType=\"BeliefDecay\", mappings=newMapps, meaningPriors=newPri, beliefStrength=1, meanings=newMeans, utterances=newUtts)\n",
    "\n",
    "originalPreds=epistTestOrig.iterate(2)\n",
    "newPreds=epistTestNew.iterate(2)\n",
    "epistTestOrig.display_listener_matrix(originalPreds, title=\"Original Epistemic Predictions\")\n",
    "epistTestNew.display_listener_matrix(newPreds, title=\"Expanded Epistemic Predictions\")\n",
    "\n",
    "#Plotting Code\n",
    "#fig = plt.figure()\n",
    "#fig = plt.gcf()\n",
    "my_colors = util.customColors()\n",
    "\n",
    "size = fig.get_size_inches()\n",
    "plt.figure(figsize=(size[0]*3,size[0]*0.8))\n",
    "gs = gridspec.GridSpec(1,2)\n",
    "plt.suptitle(\"SCIMPI expanded langauge model comparisons for utterance: \\'blue\\'\", fontsize=14, fontweight='bold')\n",
    "\n",
    "toPlot=originalPreds[0,:]\n",
    "epsilon = 1e-7\n",
    "toPlot = [x+epsilon for x in toPlot]\n",
    "labels=epistTestOrig.meanings\n",
    "locs=range(len(toPlot))\n",
    "ax = plt.subplot(gs[0])\n",
    "ax.bar(locs,toPlot, align='center', color=my_colors)\n",
    "ax.set_xlabel(\"Meanings\")\n",
    "ax.set_ylabel(\"Model predictions\")\n",
    "ax.set_title(\"Original SCIMPI Predictions\") \n",
    "plt.xticks(locs, labels)\n",
    "axes = plt.gca()\n",
    "axes.set_ylim([0,1])\n",
    "\n",
    "#pos1 = ax.get_position() # get the original position \n",
    "#pos2 = [pos1.x0 + 1.3, pos1.y0 + 0.0,  pos1.width / 1.0, pos1.height / 1.0] \n",
    "#ax.set_position(pos2)\n",
    "\n",
    "ax2 = plt.subplot(gs[1])\n",
    "toPlot=newPreds[0,:]\n",
    "epsilon = 1e-7\n",
    "toPlot = [x+epsilon for x in toPlot]\n",
    "labels=epistTestNew.meanings\n",
    "locs=range(len(toPlot))\n",
    "ax2.bar(locs,toPlot, align='center', color=my_colors)\n",
    "ax2.set_xlabel(\"Referents\")\n",
    "ax2.set_ylabel(\"Probability of referent given utterance\")\n",
    "ax2.set_title(\"Expanded SCIMPI Predictions\") \n",
    "plt.xticks(locs, labels)\n",
    "axes = plt.gca()\n",
    "axes.set_ylim([0,1])\n",
    "#ax2.set_position(pos2)\n",
    "#ax.set_position(pos1)\n",
    "#plt.figure(2)\n",
    "plt.savefig('~/figs/SCIMPI_expanded_extLang.png', bbox_inches='tight',  dpi=400)\n",
    "\n",
    "plt.show()"
   ]
  },
  {
   "cell_type": "code",
   "execution_count": 317,
   "metadata": {
    "collapsed": false
   },
   "outputs": [
    {
     "data": {
      "text/plain": [
       "array([[ 0.48538643,  0.01461357,  0.01461357,  0.48538643,  0.01      ,\n",
       "         0.01      ],\n",
       "       [ 0.39592   ,  0.01192   ,  0.58408   ,  0.00808   ,  0.01      ,\n",
       "         0.01      ],\n",
       "       [ 0.00808   ,  0.58408   ,  0.01192   ,  0.39592   ,  0.01      ,\n",
       "         0.01      ]])"
      ]
     },
     "execution_count": 317,
     "metadata": {},
     "output_type": "execute_result"
    }
   ],
   "source": [
    "newMapps"
   ]
  },
  {
   "cell_type": "code",
   "execution_count": 319,
   "metadata": {
    "collapsed": false
   },
   "outputs": [
    {
     "data": {
      "text/plain": [
       "array([ 0.2,  0.4,  0.4])"
      ]
     },
     "execution_count": 319,
     "metadata": {},
     "output_type": "execute_result"
    }
   ],
   "source": [
    "newPri"
   ]
  },
  {
   "cell_type": "code",
   "execution_count": null,
   "metadata": {
    "collapsed": true
   },
   "outputs": [],
   "source": []
  }
 ],
 "metadata": {
  "kernelspec": {
   "display_name": "Python 2",
   "language": "python",
   "name": "python2"
  },
  "language_info": {
   "codemirror_mode": {
    "name": "ipython",
    "version": 2
   },
   "file_extension": ".py",
   "mimetype": "text/x-python",
   "name": "python",
   "nbconvert_exporter": "python",
   "pygments_lexer": "ipython2",
   "version": "2.7.6"
  }
 },
 "nbformat": 4,
 "nbformat_minor": 0
}
